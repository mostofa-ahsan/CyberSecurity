{
 "cells": [
  {
   "cell_type": "code",
   "execution_count": 1,
   "metadata": {},
   "outputs": [],
   "source": [
    "####################################################################\n",
    "############# All the Dependencies #################################\n",
    "####################################################################\n",
    "import pandas as pd\n",
    "from keras.utils import to_categorical\n",
    "from sklearn.preprocessing import MinMaxScaler\n",
    "from keras.models import Sequential\n",
    "from keras.layers import LSTM,MaxPooling2D,MaxPooling1D,Convolution1D\n",
    "from keras.layers import Dense,Activation , Dropout,GRU, Bidirectional, Flatten,Conv1D\n",
    "import plotly.graph_objects as go\n",
    "import numpy as np\n",
    "from sklearn.model_selection import train_test_split\n",
    "from sklearn.metrics import f1_score,precision_score,accuracy_score,roc_auc_score\n",
    "from sklearn.tree import DecisionTreeClassifier\n",
    "from sklearn.ensemble import RandomForestClassifier\n",
    "from plotly.offline import plot\n",
    "import plotly.offline as py"
   ]
  },
  {
   "cell_type": "code",
   "execution_count": 2,
   "metadata": {},
   "outputs": [],
   "source": [
    "import warnings\n",
    "warnings.filterwarnings(\"ignore\")"
   ]
  },
  {
   "cell_type": "code",
   "execution_count": 4,
   "metadata": {},
   "outputs": [
    {
     "name": "stdout",
     "output_type": "stream",
     "text": [
      "NaiveBayes results for UNSW_NB15:\n",
      "\n",
      "Total datapoints: 175341\n",
      "Correct datapoints: 129011\n",
      "Mislabeled datapoints: 46330\n",
      "Percent correct: 73.58%\n"
     ]
    }
   ],
   "source": [
    "from sklearn import preprocessing\n",
    "from sklearn.naive_bayes import GaussianNB\n",
    "import numpy as np\n",
    "import pandas as pd\n",
    "\n",
    "\n",
    "NB15_train = pd.read_csv('UNSW_NB15_training-set.csv')\n",
    "NB15_test = pd.read_csv('UNSW_NB15_testing-set.csv')\n",
    "\n",
    "training_nparray = NB15_train.to_numpy()  # This is necessary to correctly shape the array\n",
    "testing_nparray = NB15_test.to_numpy()\n",
    "\n",
    "\n",
    "# Preprocess\n",
    "enc = preprocessing.OrdinalEncoder()\n",
    "\n",
    "encoded_dataset = enc.fit_transform(training_nparray)  # All categorical features are now numerical\n",
    "X_train = encoded_dataset[:, :-1]  # All rows, omit last column\n",
    "y_train = np.ravel(encoded_dataset[:, -1:])  # All rows, only the last column\n",
    "\n",
    "# Repeat preprocessing for test data\n",
    "encoded_dataset = enc.fit_transform(testing_nparray)\n",
    "X_test = encoded_dataset[:, :-1]\n",
    "y_test = np.ravel(encoded_dataset[:, -1:])\n",
    "\n",
    "# Fit to model and predict\n",
    "gnb = GaussianNB()\n",
    "y_pred = gnb.fit(X_train, y_train).predict(X_test)\n",
    "\n",
    "total_datapoints = X_test.shape[0]\n",
    "mislabeled_datapoints = (y_test != y_pred).sum()\n",
    "correct_datapoints = total_datapoints-mislabeled_datapoints\n",
    "percent_correct = (correct_datapoints / total_datapoints) * 100\n",
    "\n",
    "print(\"NaiveBayes results for UNSW_NB15:\\n\")\n",
    "print(\"Total datapoints: %d\\nCorrect datapoints: %d\\nMislabeled datapoints: %d\\nPercent correct: %.2f%%\"\n",
    "      % (total_datapoints, correct_datapoints, mislabeled_datapoints, percent_correct))"
   ]
  },
  {
   "cell_type": "code",
   "execution_count": null,
   "metadata": {},
   "outputs": [],
   "source": []
  },
  {
   "cell_type": "code",
   "execution_count": null,
   "metadata": {},
   "outputs": [],
   "source": []
  }
 ],
 "metadata": {
  "kernelspec": {
   "display_name": "Python 3",
   "language": "python",
   "name": "python3"
  },
  "language_info": {
   "codemirror_mode": {
    "name": "ipython",
    "version": 3
   },
   "file_extension": ".py",
   "mimetype": "text/x-python",
   "name": "python",
   "nbconvert_exporter": "python",
   "pygments_lexer": "ipython3",
   "version": "3.7.9"
  }
 },
 "nbformat": 4,
 "nbformat_minor": 4
}
