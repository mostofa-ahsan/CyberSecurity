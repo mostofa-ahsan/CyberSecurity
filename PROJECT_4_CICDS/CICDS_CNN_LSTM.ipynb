{
 "cells": [
  {
   "cell_type": "code",
   "execution_count": 1,
   "id": "ea0c1683",
   "metadata": {},
   "outputs": [],
   "source": [
    "####################################################################\n",
    "############# All the Dependencies #################################\n",
    "####################################################################\n",
    "import pandas as pd\n",
    "from tensorflow.keras.utils import to_categorical\n",
    "from sklearn.preprocessing import MinMaxScaler\n",
    "from keras.models import Sequential\n",
    "from keras.layers import LSTM,MaxPooling2D,MaxPooling1D,Convolution1D\n",
    "from keras.layers import Dense,Activation , Dropout,GRU, Bidirectional, Flatten,Conv1D\n",
    "import plotly.graph_objects as go\n",
    "import numpy as np\n",
    "from sklearn.model_selection import train_test_split\n",
    "from sklearn.metrics import f1_score,precision_score,accuracy_score,roc_auc_score\n",
    "from sklearn.tree import DecisionTreeClassifier\n",
    "from sklearn.ensemble import RandomForestClassifier\n",
    "from plotly.offline import plot\n",
    "import plotly.offline as py"
   ]
  },
  {
   "cell_type": "code",
   "execution_count": 2,
   "id": "61400db1",
   "metadata": {},
   "outputs": [],
   "source": [
    "import warnings\n",
    "warnings.filterwarnings(\"ignore\")"
   ]
  },
  {
   "cell_type": "code",
   "execution_count": 3,
   "id": "beb9eaa9",
   "metadata": {},
   "outputs": [],
   "source": [
    "train_df= pd.read_csv(r'C:\\Users\\mkahs\\Repository\\CICIDS\\ProcessedDataset\\train_MachineLearningCVE.csv')\n",
    "test_df= pd.read_csv(r'C:\\Users\\mkahs\\Repository\\CICIDS\\ProcessedDataset\\test_MachineLearningCVE.csv')"
   ]
  },
  {
   "cell_type": "code",
   "execution_count": 4,
   "id": "7675856b",
   "metadata": {},
   "outputs": [
    {
     "name": "stdout",
     "output_type": "stream",
     "text": [
      "(2263508, 80)\n",
      "(565877, 80)\n"
     ]
    }
   ],
   "source": [
    "print(train_df.shape)\n",
    "print(test_df.shape)"
   ]
  },
  {
   "cell_type": "code",
   "execution_count": 5,
   "id": "b666ba64",
   "metadata": {},
   "outputs": [
    {
     "data": {
      "text/plain": [
       "['Unnamed: 0',\n",
       " 'Destination Port',\n",
       " 'Flow Duration',\n",
       " 'Total Fwd Packets',\n",
       " 'Total Backward Packets',\n",
       " 'Total Length of Fwd Packets',\n",
       " 'Total Length of Bwd Packets',\n",
       " 'Fwd Packet Length Max',\n",
       " 'Fwd Packet Length Min',\n",
       " 'Fwd Packet Length Mean',\n",
       " ' Fwd Packet Length Std',\n",
       " 'Bwd Packet Length Max',\n",
       " 'Bwd Packet Length Min',\n",
       " 'Bwd Packet Length Mean',\n",
       " 'Bwd Packet Length Std',\n",
       " 'Flow Bytes/s',\n",
       " ' Flow Packets/s',\n",
       " 'Flow IAT Mean',\n",
       " 'Flow IAT Std',\n",
       " 'Flow IAT Max',\n",
       " 'Flow IAT Min',\n",
       " 'Fwd IAT Total',\n",
       " 'Fwd IAT Mean',\n",
       " 'Fwd IAT Std',\n",
       " 'Fwd IAT Max',\n",
       " 'Fwd IAT Min',\n",
       " 'Bwd IAT Total',\n",
       " 'Bwd IAT Mean',\n",
       " 'Bwd IAT Std',\n",
       " 'Bwd IAT Max',\n",
       " 'Bwd IAT Min',\n",
       " 'Fwd PSH Flags',\n",
       " 'Bwd PSH Flags',\n",
       " 'Fwd URG Flags',\n",
       " 'Bwd URG Flags',\n",
       " 'Fwd Header Length',\n",
       " 'Bwd Header Length',\n",
       " 'Fwd Packets/s',\n",
       " 'Bwd Packets/s',\n",
       " 'Min Packet Length',\n",
       " 'Max Packet Length',\n",
       " 'Packet Length Mean',\n",
       " 'Packet Length Std',\n",
       " 'Packet Length Variance',\n",
       " 'FIN Flag Count',\n",
       " 'SYN Flag Count',\n",
       " 'RST Flag Count',\n",
       " 'PSH Flag Count',\n",
       " 'ACK Flag Count',\n",
       " 'URG Flag Count',\n",
       " 'CWE Flag Count',\n",
       " 'ECE Flag Count',\n",
       " 'Down/Up Ratio',\n",
       " 'Average Packet Size',\n",
       " 'Avg Fwd Segment Size',\n",
       " 'Avg Bwd Segment Size',\n",
       " 'Fwd Header Length.1',\n",
       " 'Fwd Avg Bytes/Bulk',\n",
       " 'Fwd Avg Packets/Bulk',\n",
       " 'Fwd Avg Bulk Rate',\n",
       " 'Bwd Avg Bytes/Bulk',\n",
       " 'Bwd Avg Packets/Bulk',\n",
       " 'Bwd Avg Bulk Rate',\n",
       " 'Subflow Fwd Packets',\n",
       " 'Subflow Fwd Bytes',\n",
       " 'Subflow Bwd Packets',\n",
       " 'Subflow Bwd Bytes',\n",
       " 'Init_Win_bytes_forward',\n",
       " ' Init_Win_bytes_backward',\n",
       " 'act_data_pkt_fwd',\n",
       " ' min_seg_size_forward',\n",
       " 'Active Mean',\n",
       " 'Active Std',\n",
       " 'Active Max',\n",
       " 'Active Min',\n",
       " 'Idle Mean',\n",
       " ' Idle Std',\n",
       " ' Idle Max',\n",
       " ' Idle Min',\n",
       " 'Label']"
      ]
     },
     "execution_count": 5,
     "metadata": {},
     "output_type": "execute_result"
    }
   ],
   "source": [
    "col_list= train_df.columns.to_list()\n",
    "col_list"
   ]
  },
  {
   "cell_type": "code",
   "execution_count": 6,
   "id": "5aff069f",
   "metadata": {},
   "outputs": [
    {
     "name": "stdout",
     "output_type": "stream",
     "text": [
      "(2263508, 79)\n",
      "(565877, 79)\n"
     ]
    }
   ],
   "source": [
    "train_df.drop('Unnamed: 0', axis=1, inplace=True) \n",
    "test_df.drop('Unnamed: 0', axis=1, inplace=True) \n",
    "print(train_df.shape)\n",
    "print(test_df.shape)"
   ]
  },
  {
   "cell_type": "code",
   "execution_count": 7,
   "id": "cea8b5cc",
   "metadata": {},
   "outputs": [
    {
     "data": {
      "text/plain": [
       "(2263508, 78)"
      ]
     },
     "execution_count": 7,
     "metadata": {},
     "output_type": "execute_result"
    }
   ],
   "source": [
    "train_df = train_df.replace((np.inf, -np.inf, np.nan), 0).reset_index(drop=True)\n",
    "x_train = train_df.iloc[:, train_df.columns != 'Label']\n",
    "x_train.shape"
   ]
  },
  {
   "cell_type": "code",
   "execution_count": 8,
   "id": "19fe2d7c",
   "metadata": {},
   "outputs": [
    {
     "data": {
      "text/plain": [
       "(565877, 78)"
      ]
     },
     "execution_count": 8,
     "metadata": {},
     "output_type": "execute_result"
    }
   ],
   "source": [
    "test_df = test_df.replace((np.inf, -np.inf, np.nan), 0).reset_index(drop=True)\n",
    "x_test = test_df.iloc[:, test_df.columns != 'Label']\n",
    "x_test.shape"
   ]
  },
  {
   "cell_type": "code",
   "execution_count": 9,
   "id": "a3ba72a6",
   "metadata": {},
   "outputs": [
    {
     "name": "stdout",
     "output_type": "stream",
     "text": [
      "(2263508, 1)\n",
      "(565877, 1)\n"
     ]
    }
   ],
   "source": [
    "y_train = train_df[['Label']]\n",
    "y_test = test_df[['Label']]\n",
    "print(y_train.shape)\n",
    "print(y_test.shape)"
   ]
  },
  {
   "cell_type": "code",
   "execution_count": 10,
   "id": "8b3d9a3e",
   "metadata": {},
   "outputs": [
    {
     "data": {
      "text/plain": [
       "Label                   \n",
       "BENIGN                      1818282\n",
       "DoS Hulk                     184043\n",
       "PortScan                     127284\n",
       "DDoS                         102225\n",
       "DoS GoldenEye                  8284\n",
       "FTP-Patator                    6345\n",
       "SSH-Patator                    4707\n",
       "DoS slowloris                  4633\n",
       "DoS Slowhttptest               4370\n",
       "Bot                            1564\n",
       "Web Attack-Brute Force         1210\n",
       "Web Attack-XSS                  507\n",
       "Infiltration                     30\n",
       "Web Attack-Sql Injection         15\n",
       "Heartbleed                        9\n",
       "dtype: int64"
      ]
     },
     "execution_count": 10,
     "metadata": {},
     "output_type": "execute_result"
    }
   ],
   "source": [
    "y_train.value_counts()"
   ]
  },
  {
   "cell_type": "code",
   "execution_count": 11,
   "id": "fd5b9f0f",
   "metadata": {},
   "outputs": [
    {
     "data": {
      "text/plain": [
       "Label                   \n",
       "BENIGN                      454406\n",
       "DoS Hulk                     46081\n",
       "PortScan                     31646\n",
       "DDoS                         25802\n",
       "DoS GoldenEye                 2009\n",
       "FTP-Patator                   1593\n",
       "SSH-Patator                   1190\n",
       "DoS slowloris                 1163\n",
       "DoS Slowhttptest              1129\n",
       "Bot                            402\n",
       "Web Attack-Brute Force         297\n",
       "Web Attack-XSS                 145\n",
       "Infiltration                     6\n",
       "Web Attack-Sql Injection         6\n",
       "Heartbleed                       2\n",
       "dtype: int64"
      ]
     },
     "execution_count": 11,
     "metadata": {},
     "output_type": "execute_result"
    }
   ],
   "source": [
    "y_test.value_counts()"
   ]
  },
  {
   "cell_type": "code",
   "execution_count": 12,
   "id": "9658fa78",
   "metadata": {},
   "outputs": [],
   "source": [
    "from sklearn.preprocessing import LabelEncoder\n",
    "target_train=y_train['Label'].values.tolist()\n",
    "label_encoder = LabelEncoder()\n",
    "y_train = np.array(label_encoder.fit_transform(target_train))\n"
   ]
  },
  {
   "cell_type": "code",
   "execution_count": 13,
   "id": "3ce8d8ae",
   "metadata": {},
   "outputs": [
    {
     "data": {
      "text/plain": [
       "array([0, 0, 0, ..., 0, 0, 0], dtype=int64)"
      ]
     },
     "execution_count": 13,
     "metadata": {},
     "output_type": "execute_result"
    }
   ],
   "source": [
    "y_train"
   ]
  },
  {
   "cell_type": "code",
   "execution_count": 14,
   "id": "d1799dcc",
   "metadata": {},
   "outputs": [
    {
     "name": "stdout",
     "output_type": "stream",
     "text": [
      "{0, 1, 2, 3, 4, 5, 6, 7, 8, 9, 10, 11, 12, 13, 14}\n"
     ]
    }
   ],
   "source": [
    "print(set(y_train))"
   ]
  },
  {
   "cell_type": "code",
   "execution_count": 15,
   "id": "ea190549",
   "metadata": {},
   "outputs": [
    {
     "name": "stdout",
     "output_type": "stream",
     "text": [
      "2263508\n"
     ]
    }
   ],
   "source": [
    "print(len(y_train))"
   ]
  },
  {
   "cell_type": "code",
   "execution_count": 16,
   "id": "0f1057d0",
   "metadata": {},
   "outputs": [
    {
     "name": "stdout",
     "output_type": "stream",
     "text": [
      "{0, 1, 2, 3, 4, 5, 6, 7, 8, 9, 10, 11, 12, 13, 14}\n",
      "565877\n"
     ]
    }
   ],
   "source": [
    "target_test=y_test['Label'].values.tolist()\n",
    "label_encoder = LabelEncoder()\n",
    "y_test = np.array(label_encoder.fit_transform(target_test))\n",
    "print(set(y_test))\n",
    "print(len(y_test))"
   ]
  },
  {
   "cell_type": "code",
   "execution_count": 17,
   "id": "41dfaa12",
   "metadata": {},
   "outputs": [],
   "source": [
    "scalar=MinMaxScaler()\n",
    "x_train=scalar.fit_transform(x_train)\n",
    "x_test=scalar.fit_transform(x_test)"
   ]
  },
  {
   "cell_type": "code",
   "execution_count": 18,
   "id": "f7878d9c",
   "metadata": {},
   "outputs": [
    {
     "name": "stdout",
     "output_type": "stream",
     "text": [
      "Epoch 1/10\n",
      "4528/4528 [==============================] - 123s 24ms/step - loss: 0.1169 - accuracy: 0.9578\n",
      "Epoch 2/10\n",
      "4528/4528 [==============================] - 109s 24ms/step - loss: 0.0446 - accuracy: 0.9805\n",
      "Epoch 3/10\n",
      "4528/4528 [==============================] - 110s 24ms/step - loss: 0.0377 - accuracy: 0.9839\n",
      "Epoch 4/10\n",
      "4528/4528 [==============================] - 110s 24ms/step - loss: 0.0356 - accuracy: 0.9849\n",
      "Epoch 5/10\n",
      "4528/4528 [==============================] - 111s 25ms/step - loss: 0.0335 - accuracy: 0.9857\n",
      "Epoch 6/10\n",
      "4528/4528 [==============================] - 112s 25ms/step - loss: 0.0315 - accuracy: 0.9867\n",
      "Epoch 7/10\n",
      "4528/4528 [==============================] - 111s 25ms/step - loss: 0.0297 - accuracy: 0.9872\n",
      "Epoch 8/10\n",
      "4528/4528 [==============================] - 110s 24ms/step - loss: 0.0265 - accuracy: 0.9892\n",
      "Epoch 9/10\n",
      "4528/4528 [==============================] - 109s 24ms/step - loss: 0.0254 - accuracy: 0.9897\n",
      "Epoch 10/10\n",
      "4528/4528 [==============================] - 110s 24ms/step - loss: 0.0201 - accuracy: 0.9923\n"
     ]
    }
   ],
   "source": [
    "####################################################################\n",
    "############# Training Hybrid Model ################################\n",
    "####################################################################\n",
    "hybrid = Sequential()\n",
    "hybrid.add(Convolution1D(128, 3, padding=\"same\",activation=\"relu\",input_shape=(78, 1)))\n",
    "hybrid.add(Convolution1D(128, 3, padding=\"same\", activation=\"relu\"))\n",
    "hybrid.add(MaxPooling1D(pool_size=(2)))\n",
    "hybrid.add(Convolution1D(128, 3, padding=\"same\", activation=\"relu\"))\n",
    "hybrid.add(Convolution1D(128, 3, padding=\"same\", activation=\"relu\"))\n",
    "hybrid.add(MaxPooling1D(pool_size=(2)))\n",
    "hybrid.add(LSTM(256))\n",
    "hybrid.add(Dropout(0.1))\n",
    "hybrid.add(Dense(15, activation=\"softmax\"))\n",
    "hybrid.compile(loss=\"sparse_categorical_crossentropy\", optimizer=\"adam\",metrics=['accuracy'])\n",
    "hybrid.fit(x_train.reshape(len(x_train), len(x_train[0]),1), y_train,epochs=10,verbose=1,batch_size = 500)\n",
    "hybrid.save(r\"C:\\Users\\mkahs\\Repository\\CICIDS\\Model\\CNN_LSTM.h5\")"
   ]
  },
  {
   "cell_type": "code",
   "execution_count": 21,
   "id": "db89737c",
   "metadata": {},
   "outputs": [
    {
     "name": "stdout",
     "output_type": "stream",
     "text": [
      "17684/17684 [==============================] - 96s 5ms/step - loss: 0.3781 - accuracy: 0.9693\n",
      "\n",
      "Loss: 0.38, Accuracy: 96.93%\n"
     ]
    }
   ],
   "source": [
    "loss, accuracy = hybrid.evaluate(x_test, y_test)\n",
    "print(\"\\nLoss: %.2f, Accuracy: %.2f%%\" % (loss, accuracy*100))"
   ]
  },
  {
   "cell_type": "code",
   "execution_count": 24,
   "id": "13ef87d9",
   "metadata": {},
   "outputs": [
    {
     "name": "stdout",
     "output_type": "stream",
     "text": [
      "              precision    recall  f1-score   support\n",
      "\n",
      "           0       0.96      1.00      0.98    454406\n",
      "           1       1.00      0.39      0.56       402\n",
      "           2       1.00      1.00      1.00     25802\n",
      "           3       1.00      0.97      0.99      2009\n",
      "           4       0.99      1.00      0.99     46081\n",
      "           5       0.96      0.95      0.96      1129\n",
      "           6       0.95      0.98      0.97      1163\n",
      "           7       1.00      1.00      1.00      1593\n",
      "           8       1.00      1.00      1.00         2\n",
      "           9       0.00      0.00      0.00         6\n",
      "          10       1.00      0.51      0.68     31646\n",
      "          11       1.00      0.51      0.68      1190\n",
      "          12       0.54      0.89      0.67       297\n",
      "          13       0.00      0.00      0.00         6\n",
      "          14       1.00      0.03      0.05       145\n",
      "\n",
      "    accuracy                           0.97    565877\n",
      "   macro avg       0.83      0.68      0.70    565877\n",
      "weighted avg       0.97      0.97      0.96    565877\n",
      "\n"
     ]
    }
   ],
   "source": [
    "\n",
    "from sklearn.metrics import classification_report\n",
    "y_pred = hybrid.predict(x_test, batch_size=1024, verbose=False)\n",
    "y_pred = np.argmax(y_pred, axis=1)\n",
    "print(classification_report(y_test, y_pred))"
   ]
  },
  {
   "cell_type": "code",
   "execution_count": 19,
   "id": "58602739",
   "metadata": {},
   "outputs": [
    {
     "name": "stdout",
     "output_type": "stream",
     "text": [
      "WARNING:tensorflow:Layer gru will not use cuDNN kernels since it doesn't meet the criteria. It will use a generic GPU kernel as fallback when running on GPU.\n",
      "WARNING:tensorflow:Layer gru_1 will not use cuDNN kernels since it doesn't meet the criteria. It will use a generic GPU kernel as fallback when running on GPU.\n",
      "Epoch 1/10\n",
      "4528/4528 [==============================] - 73s 16ms/step - loss: 0.1361 - accuracy: 0.9562\n",
      "Epoch 2/10\n",
      "4528/4528 [==============================] - 67s 15ms/step - loss: 0.0658 - accuracy: 0.9737\n",
      "Epoch 3/10\n",
      "4528/4528 [==============================] - 66s 15ms/step - loss: 0.0542 - accuracy: 0.9771\n",
      "Epoch 4/10\n",
      "4528/4528 [==============================] - 67s 15ms/step - loss: 0.0491 - accuracy: 0.9787\n",
      "Epoch 5/10\n",
      "4528/4528 [==============================] - 66s 15ms/step - loss: 0.0450 - accuracy: 0.9802\n",
      "Epoch 6/10\n",
      "4528/4528 [==============================] - 67s 15ms/step - loss: 0.0429 - accuracy: 0.9808\n",
      "Epoch 7/10\n",
      "4528/4528 [==============================] - 66s 15ms/step - loss: 0.0414 - accuracy: 0.9817\n",
      "Epoch 8/10\n",
      "4528/4528 [==============================] - 67s 15ms/step - loss: 0.0405 - accuracy: 0.9823\n",
      "Epoch 9/10\n",
      "4528/4528 [==============================] - 67s 15ms/step - loss: 0.0396 - accuracy: 0.9829\n",
      "Epoch 10/10\n",
      "4528/4528 [==============================] - 67s 15ms/step - loss: 0.0386 - accuracy: 0.9835\n"
     ]
    }
   ],
   "source": [
    "####################################################################\n",
    "############# Training GRU Model ################################\n",
    "####################################################################\n",
    "gru = Sequential()\n",
    "gru.add(GRU(100, activation='relu', return_sequences=True, input_dim = 78))\n",
    "gru.add(GRU(100, activation='relu'))\n",
    "gru.add(Dense(15, activation = 'softmax'))\n",
    "gru.compile(loss='sparse_categorical_crossentropy',optimizer='adam',metrics=['accuracy'])\n",
    "gru.fit(x_train.reshape(len(x_train),1, len(x_train[0])), y_train,epochs=10,verbose=1,batch_size = 500)\n",
    "gru.save(r\"C:\\Users\\mkahs\\Repository\\CICIDS\\Model\\GRU.h5\")"
   ]
  },
  {
   "cell_type": "code",
   "execution_count": 20,
   "id": "77dcac7e",
   "metadata": {},
   "outputs": [
    {
     "name": "stdout",
     "output_type": "stream",
     "text": [
      "WARNING:tensorflow:Model was constructed with shape (None, None, 78) for input KerasTensor(type_spec=TensorSpec(shape=(None, None, 78), dtype=tf.float32, name='gru_input'), name='gru_input', description=\"created by layer 'gru_input'\"), but it was called on an input with incompatible shape (None, 78).\n"
     ]
    },
    {
     "ename": "ValueError",
     "evalue": "in user code:\n\n    File \"C:\\Users\\mkahs\\anaconda3\\envs\\RTX2080\\lib\\site-packages\\keras\\engine\\training.py\", line 1525, in test_function  *\n        return step_function(self, iterator)\n    File \"C:\\Users\\mkahs\\anaconda3\\envs\\RTX2080\\lib\\site-packages\\keras\\engine\\training.py\", line 1514, in step_function  **\n        outputs = model.distribute_strategy.run(run_step, args=(data,))\n    File \"C:\\Users\\mkahs\\anaconda3\\envs\\RTX2080\\lib\\site-packages\\keras\\engine\\training.py\", line 1507, in run_step  **\n        outputs = model.test_step(data)\n    File \"C:\\Users\\mkahs\\anaconda3\\envs\\RTX2080\\lib\\site-packages\\keras\\engine\\training.py\", line 1471, in test_step\n        y_pred = self(x, training=False)\n    File \"C:\\Users\\mkahs\\anaconda3\\envs\\RTX2080\\lib\\site-packages\\keras\\utils\\traceback_utils.py\", line 67, in error_handler\n        raise e.with_traceback(filtered_tb) from None\n    File \"C:\\Users\\mkahs\\anaconda3\\envs\\RTX2080\\lib\\site-packages\\keras\\engine\\input_spec.py\", line 214, in assert_input_compatibility\n        raise ValueError(f'Input {input_index} of layer \"{layer_name}\" '\n\n    ValueError: Exception encountered when calling layer \"sequential_1\" (type Sequential).\n    \n    Input 0 of layer \"gru\" is incompatible with the layer: expected ndim=3, found ndim=2. Full shape received: (None, 78)\n    \n    Call arguments received:\n      • inputs=tf.Tensor(shape=(None, 78), dtype=float32)\n      • training=False\n      • mask=None\n",
     "output_type": "error",
     "traceback": [
      "\u001b[1;31m---------------------------------------------------------------------------\u001b[0m",
      "\u001b[1;31mValueError\u001b[0m                                Traceback (most recent call last)",
      "\u001b[1;32m~\\AppData\\Local\\Temp/ipykernel_2824/70959488.py\u001b[0m in \u001b[0;36m<module>\u001b[1;34m\u001b[0m\n\u001b[1;32m----> 1\u001b[1;33m \u001b[0mloss\u001b[0m\u001b[1;33m,\u001b[0m \u001b[0maccuracy\u001b[0m \u001b[1;33m=\u001b[0m \u001b[0mgru\u001b[0m\u001b[1;33m.\u001b[0m\u001b[0mevaluate\u001b[0m\u001b[1;33m(\u001b[0m\u001b[0mx_test\u001b[0m\u001b[1;33m,\u001b[0m \u001b[0my_test\u001b[0m\u001b[1;33m)\u001b[0m\u001b[1;33m\u001b[0m\u001b[1;33m\u001b[0m\u001b[0m\n\u001b[0m\u001b[0;32m      2\u001b[0m \u001b[0mprint\u001b[0m\u001b[1;33m(\u001b[0m\u001b[1;34m\"\\nLoss: %.2f, Accuracy: %.2f%%\"\u001b[0m \u001b[1;33m%\u001b[0m \u001b[1;33m(\u001b[0m\u001b[0mloss\u001b[0m\u001b[1;33m,\u001b[0m \u001b[0maccuracy\u001b[0m\u001b[1;33m*\u001b[0m\u001b[1;36m100\u001b[0m\u001b[1;33m)\u001b[0m\u001b[1;33m)\u001b[0m\u001b[1;33m\u001b[0m\u001b[1;33m\u001b[0m\u001b[0m\n",
      "\u001b[1;32m~\\anaconda3\\envs\\RTX2080\\lib\\site-packages\\keras\\utils\\traceback_utils.py\u001b[0m in \u001b[0;36merror_handler\u001b[1;34m(*args, **kwargs)\u001b[0m\n\u001b[0;32m     65\u001b[0m     \u001b[1;32mexcept\u001b[0m \u001b[0mException\u001b[0m \u001b[1;32mas\u001b[0m \u001b[0me\u001b[0m\u001b[1;33m:\u001b[0m  \u001b[1;31m# pylint: disable=broad-except\u001b[0m\u001b[1;33m\u001b[0m\u001b[1;33m\u001b[0m\u001b[0m\n\u001b[0;32m     66\u001b[0m       \u001b[0mfiltered_tb\u001b[0m \u001b[1;33m=\u001b[0m \u001b[0m_process_traceback_frames\u001b[0m\u001b[1;33m(\u001b[0m\u001b[0me\u001b[0m\u001b[1;33m.\u001b[0m\u001b[0m__traceback__\u001b[0m\u001b[1;33m)\u001b[0m\u001b[1;33m\u001b[0m\u001b[1;33m\u001b[0m\u001b[0m\n\u001b[1;32m---> 67\u001b[1;33m       \u001b[1;32mraise\u001b[0m \u001b[0me\u001b[0m\u001b[1;33m.\u001b[0m\u001b[0mwith_traceback\u001b[0m\u001b[1;33m(\u001b[0m\u001b[0mfiltered_tb\u001b[0m\u001b[1;33m)\u001b[0m \u001b[1;32mfrom\u001b[0m \u001b[1;32mNone\u001b[0m\u001b[1;33m\u001b[0m\u001b[1;33m\u001b[0m\u001b[0m\n\u001b[0m\u001b[0;32m     68\u001b[0m     \u001b[1;32mfinally\u001b[0m\u001b[1;33m:\u001b[0m\u001b[1;33m\u001b[0m\u001b[1;33m\u001b[0m\u001b[0m\n\u001b[0;32m     69\u001b[0m       \u001b[1;32mdel\u001b[0m \u001b[0mfiltered_tb\u001b[0m\u001b[1;33m\u001b[0m\u001b[1;33m\u001b[0m\u001b[0m\n",
      "\u001b[1;32m~\\AppData\\Roaming\\Python\\Python39\\site-packages\\tensorflow\\python\\framework\\func_graph.py\u001b[0m in \u001b[0;36mautograph_handler\u001b[1;34m(*args, **kwargs)\u001b[0m\n\u001b[0;32m   1145\u001b[0m           \u001b[1;32mexcept\u001b[0m \u001b[0mException\u001b[0m \u001b[1;32mas\u001b[0m \u001b[0me\u001b[0m\u001b[1;33m:\u001b[0m  \u001b[1;31m# pylint:disable=broad-except\u001b[0m\u001b[1;33m\u001b[0m\u001b[1;33m\u001b[0m\u001b[0m\n\u001b[0;32m   1146\u001b[0m             \u001b[1;32mif\u001b[0m \u001b[0mhasattr\u001b[0m\u001b[1;33m(\u001b[0m\u001b[0me\u001b[0m\u001b[1;33m,\u001b[0m \u001b[1;34m\"ag_error_metadata\"\u001b[0m\u001b[1;33m)\u001b[0m\u001b[1;33m:\u001b[0m\u001b[1;33m\u001b[0m\u001b[1;33m\u001b[0m\u001b[0m\n\u001b[1;32m-> 1147\u001b[1;33m               \u001b[1;32mraise\u001b[0m \u001b[0me\u001b[0m\u001b[1;33m.\u001b[0m\u001b[0mag_error_metadata\u001b[0m\u001b[1;33m.\u001b[0m\u001b[0mto_exception\u001b[0m\u001b[1;33m(\u001b[0m\u001b[0me\u001b[0m\u001b[1;33m)\u001b[0m\u001b[1;33m\u001b[0m\u001b[1;33m\u001b[0m\u001b[0m\n\u001b[0m\u001b[0;32m   1148\u001b[0m             \u001b[1;32melse\u001b[0m\u001b[1;33m:\u001b[0m\u001b[1;33m\u001b[0m\u001b[1;33m\u001b[0m\u001b[0m\n\u001b[0;32m   1149\u001b[0m               \u001b[1;32mraise\u001b[0m\u001b[1;33m\u001b[0m\u001b[1;33m\u001b[0m\u001b[0m\n",
      "\u001b[1;31mValueError\u001b[0m: in user code:\n\n    File \"C:\\Users\\mkahs\\anaconda3\\envs\\RTX2080\\lib\\site-packages\\keras\\engine\\training.py\", line 1525, in test_function  *\n        return step_function(self, iterator)\n    File \"C:\\Users\\mkahs\\anaconda3\\envs\\RTX2080\\lib\\site-packages\\keras\\engine\\training.py\", line 1514, in step_function  **\n        outputs = model.distribute_strategy.run(run_step, args=(data,))\n    File \"C:\\Users\\mkahs\\anaconda3\\envs\\RTX2080\\lib\\site-packages\\keras\\engine\\training.py\", line 1507, in run_step  **\n        outputs = model.test_step(data)\n    File \"C:\\Users\\mkahs\\anaconda3\\envs\\RTX2080\\lib\\site-packages\\keras\\engine\\training.py\", line 1471, in test_step\n        y_pred = self(x, training=False)\n    File \"C:\\Users\\mkahs\\anaconda3\\envs\\RTX2080\\lib\\site-packages\\keras\\utils\\traceback_utils.py\", line 67, in error_handler\n        raise e.with_traceback(filtered_tb) from None\n    File \"C:\\Users\\mkahs\\anaconda3\\envs\\RTX2080\\lib\\site-packages\\keras\\engine\\input_spec.py\", line 214, in assert_input_compatibility\n        raise ValueError(f'Input {input_index} of layer \"{layer_name}\" '\n\n    ValueError: Exception encountered when calling layer \"sequential_1\" (type Sequential).\n    \n    Input 0 of layer \"gru\" is incompatible with the layer: expected ndim=3, found ndim=2. Full shape received: (None, 78)\n    \n    Call arguments received:\n      • inputs=tf.Tensor(shape=(None, 78), dtype=float32)\n      • training=False\n      • mask=None\n"
     ]
    }
   ],
   "source": [
    "loss, accuracy = gru.evaluate(x_test, y_test)\n",
    "print(\"\\nLoss: %.2f, Accuracy: %.2f%%\" % (loss, accuracy*100))"
   ]
  },
  {
   "cell_type": "code",
   "execution_count": null,
   "id": "825ce161",
   "metadata": {},
   "outputs": [],
   "source": []
  }
 ],
 "metadata": {
  "kernelspec": {
   "display_name": "Python 3 (ipykernel)",
   "language": "python",
   "name": "python3"
  },
  "language_info": {
   "codemirror_mode": {
    "name": "ipython",
    "version": 3
   },
   "file_extension": ".py",
   "mimetype": "text/x-python",
   "name": "python",
   "nbconvert_exporter": "python",
   "pygments_lexer": "ipython3",
   "version": "3.9.0"
  }
 },
 "nbformat": 4,
 "nbformat_minor": 5
}
