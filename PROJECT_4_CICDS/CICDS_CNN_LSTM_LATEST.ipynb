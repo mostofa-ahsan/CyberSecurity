{
 "cells": [
  {
   "cell_type": "code",
   "execution_count": 1,
   "id": "32a86c0f",
   "metadata": {},
   "outputs": [],
   "source": [
    "import os\n",
    "import logging\n",
    "\n",
    "import pandas as pd\n",
    "import tensorflow.keras as keras\n",
    "\n",
    "from tensorflow.keras.callbacks import ModelCheckpoint\n",
    "from tensorflow.keras.utils import plot_model\n",
    "import pandas as pd\n",
    "from tensorflow.keras.utils import to_categorical\n",
    "from sklearn.preprocessing import MinMaxScaler\n",
    "from keras.models import Sequential\n",
    "from keras.layers import LSTM,MaxPooling2D,MaxPooling1D,Convolution1D\n",
    "from keras.layers import Dense,Activation , Dropout,GRU, Bidirectional, Flatten,Conv1D\n",
    "import plotly.graph_objects as go\n",
    "import numpy as np\n",
    "from sklearn.model_selection import train_test_split\n",
    "from sklearn.metrics import f1_score,precision_score,accuracy_score,roc_auc_score\n",
    "from sklearn.tree import DecisionTreeClassifier\n",
    "from sklearn.ensemble import RandomForestClassifier\n",
    "from plotly.offline import plot\n",
    "import plotly.offline as py\n",
    "\n",
    "# Log setting\n",
    "logging.basicConfig(format=\"%(asctime)s %(levelname)s %(message)s\", datefmt=\"%H:%M:%S\", level=logging.INFO)\n",
    "\n",
    "# Change display.max_rows to show all features.\n",
    "pd.set_option(\"display.max_rows\", 85)"
   ]
  },
  {
   "cell_type": "code",
   "execution_count": 2,
   "id": "91a270bc",
   "metadata": {},
   "outputs": [],
   "source": [
    "PROCESSED_DIR_PATH = r'C:\\Users\\mkahs\\Repository\\CICIDS\\ProcessedDataset'\n",
    "MODEL_DIR_PATH = r\"C:\\Users\\mkahs\\Repository\\CICIDS\\Model\""
   ]
  },
  {
   "cell_type": "code",
   "execution_count": 3,
   "id": "d9f03c6d",
   "metadata": {},
   "outputs": [],
   "source": [
    "import numpy as np\n",
    "import tensorflow as tf\n",
    "import matplotlib.pyplot as plt\n",
    "\n",
    "from sklearn.metrics import classification_report\n",
    "from sklearn.preprocessing import MinMaxScaler\n",
    "\n",
    "\n",
    "def preprocessing(df: pd.DataFrame) -> (np.ndarray, np.ndarray):\n",
    "    # Shuffle the dataset\n",
    "    df = df.sample(frac=1)\n",
    "    from sklearn.preprocessing import LabelEncoder\n",
    "    target=df['Label'].values.tolist()\n",
    "    label_encoder = LabelEncoder()\n",
    "    y = np.array(label_encoder.fit_transform(target))\n",
    "\n",
    "\n",
    "    # Split features and labels\n",
    "    df = df.replace((np.inf, -np.inf, np.nan), 0).reset_index(drop=True)\n",
    "    x = df.iloc[:, df.columns != 'Label']\n",
    "      \n",
    "#     y = df[['Label']].to_numpy()\n",
    "    \n",
    "#     x.drop('Label', axis=1, inplace=True)\n",
    "#     np.any(np.isnan(x))\n",
    "#     np.all(np.isfinite(x))\n",
    "#     np.any(np.isnan(y))\n",
    "#     np.all(np.isfinite(y))\n",
    "\n",
    "    # Scale the features between 0 ~ 1\n",
    "#     x = np.nan_to_num(x) \n",
    "#     y = np.nan_to_num(y) \n",
    "    scaler = MinMaxScaler()\n",
    "    x = scaler.fit_transform(x)\n",
    "\n",
    "    return x, y\n",
    "\n",
    "\n",
    "def reshape_dataset_cnn(x: np.ndarray) -> np.ndarray:\n",
    "    # Add padding columns\n",
    "    result = np.zeros((x.shape[0], 81))\n",
    "    result[:, :-3] = x\n",
    "\n",
    "    # Reshaping dataset\n",
    "    result = np.reshape(result, (result.shape[0], 9, 9))\n",
    "    result = result[..., tf.newaxis]\n",
    "    return result\n",
    "\n",
    "\n",
    "def plot_history(history: tf.keras.callbacks.History):\n",
    "    # summarize history for accuracy\n",
    "    plt.plot(history.history['sparse_categorical_accuracy'])\n",
    "    plt.plot(history.history['val_sparse_categorical_accuracy'])\n",
    "    plt.title('model2 accuracy')\n",
    "    plt.ylabel('accuracy')\n",
    "    plt.xlabel('epoch')\n",
    "    plt.legend(['train', 'test'], loc='upper left')\n",
    "    plt.show()\n",
    "\n",
    "    # summarize history for loss\n",
    "    plt.plot(history.history['loss'])\n",
    "    plt.plot(history.history['val_loss'])\n",
    "    plt.title('model2 loss')\n",
    "    plt.ylabel('loss')\n",
    "    plt.xlabel('epoch')\n",
    "    plt.legend(['train', 'test'], loc='upper left')\n",
    "    plt.show()\n",
    "\n",
    "\n",
    "def evaluation(model: keras.Model, x_test: np.ndarray, y_test: np.ndarray):\n",
    "    score = model.evaluate(x_test, y_test, verbose=False)\n",
    "    logging.info('Evaluation:\\nLoss: {}\\nAccuracy : {}\\n'.format(score[0], score[1]))\n",
    "\n",
    "    # F1 score\n",
    "    y_pred = model.predict(x_test, batch_size=1024, verbose=False)\n",
    "    y_pred = np.argmax(y_pred, axis=1)\n",
    "\n",
    "    logging.info(\"\\n{}\".format(classification_report(y_test, y_pred)))"
   ]
  },
  {
   "cell_type": "code",
   "execution_count": 4,
   "id": "4d55c04d",
   "metadata": {},
   "outputs": [],
   "source": [
    "def create_hybrid_model() -> keras.Model:\n",
    "    # Creating layers\n",
    "    hybrid = Sequential()\n",
    "    hybrid.add(Convolution1D(128, 3, padding=\"same\",activation=\"relu\",input_shape=(78, 1)))\n",
    "    hybrid.add(Convolution1D(128, 3, padding=\"same\", activation=\"relu\"))\n",
    "    hybrid.add(MaxPooling1D(pool_size=(2)))\n",
    "    hybrid.add(Convolution1D(128, 3, padding=\"same\", activation=\"relu\"))\n",
    "    hybrid.add(Convolution1D(128, 3, padding=\"same\", activation=\"relu\"))\n",
    "    hybrid.add(MaxPooling1D(pool_size=(2)))\n",
    "    hybrid.add(LSTM(256))\n",
    "    hybrid.add(Dropout(0.1))\n",
    "    hybrid.add(Dense(15, activation=\"softmax\"))\n",
    "    hybrid.compile(loss='sparse_categorical_crossentropy',\n",
    "                        metrics=['sparse_categorical_accuracy'],\n",
    "                        optimizer='adam')\n",
    "    \n",
    "\n",
    "    return hybrid"
   ]
  },
  {
   "cell_type": "code",
   "execution_count": 5,
   "id": "c186be66",
   "metadata": {},
   "outputs": [
    {
     "name": "stdout",
     "output_type": "stream",
     "text": [
      "Model: \"sequential\"\n",
      "_________________________________________________________________\n",
      " Layer (type)                Output Shape              Param #   \n",
      "=================================================================\n",
      " conv1d (Conv1D)             (None, 78, 128)           512       \n",
      "                                                                 \n",
      " conv1d_1 (Conv1D)           (None, 78, 128)           49280     \n",
      "                                                                 \n",
      " max_pooling1d (MaxPooling1D  (None, 39, 128)          0         \n",
      " )                                                               \n",
      "                                                                 \n",
      " conv1d_2 (Conv1D)           (None, 39, 128)           49280     \n",
      "                                                                 \n",
      " conv1d_3 (Conv1D)           (None, 39, 128)           49280     \n",
      "                                                                 \n",
      " max_pooling1d_1 (MaxPooling  (None, 19, 128)          0         \n",
      " 1D)                                                             \n",
      "                                                                 \n",
      " lstm (LSTM)                 (None, 256)               394240    \n",
      "                                                                 \n",
      " dropout (Dropout)           (None, 256)               0         \n",
      "                                                                 \n",
      " dense (Dense)               (None, 15)                3855      \n",
      "                                                                 \n",
      "=================================================================\n",
      "Total params: 546,447\n",
      "Trainable params: 546,447\n",
      "Non-trainable params: 0\n",
      "_________________________________________________________________\n"
     ]
    },
    {
     "name": "stderr",
     "output_type": "stream",
     "text": [
      "18:58:18 INFO None\n"
     ]
    }
   ],
   "source": [
    "# Create model\n",
    "model = create_hybrid_model()\n",
    "logging.info(model.summary())"
   ]
  },
  {
   "cell_type": "code",
   "execution_count": 6,
   "id": "b7b25137",
   "metadata": {},
   "outputs": [
    {
     "data": {
      "image/png": "[encoded data removed]",
      "text/plain": [
       "<IPython.core.display.Image object>"
      ]
     },
     "execution_count": 6,
     "metadata": {},
     "output_type": "execute_result"
    }
   ],
   "source": [
    "plot_model(model, show_shapes=True)"
   ]
  },
  {
   "cell_type": "code",
   "execution_count": 7,
   "id": "a5614291",
   "metadata": {},
   "outputs": [
    {
     "name": "stderr",
     "output_type": "stream",
     "text": [
      "18:58:30 INFO Class distribution\n",
      "BENIGN                      1818282\n",
      "DoS Hulk                     184043\n",
      "PortScan                     127284\n",
      "DDoS                         102225\n",
      "DoS GoldenEye                  8284\n",
      "FTP-Patator                    6345\n",
      "SSH-Patator                    4707\n",
      "DoS slowloris                  4633\n",
      "DoS Slowhttptest               4370\n",
      "Bot                            1564\n",
      "Web Attack-Brute Force         1210\n",
      "Web Attack-XSS                  507\n",
      "Infiltration                     30\n",
      "Web Attack-Sql Injection         15\n",
      "Heartbleed                        9\n",
      "Name: Label, dtype: int64\n"
     ]
    },
    {
     "name": "stdout",
     "output_type": "stream",
     "text": [
      "(2263508, 79)\n"
     ]
    }
   ],
   "source": [
    "# Training\n",
    "df = pd.read_csv(os.path.join(PROCESSED_DIR_PATH, 'train_MachineLearningCVE.csv'), skipinitialspace=True)\n",
    "df.drop('Unnamed: 0', axis=1, inplace=True)\n",
    "logging.info(\"Class distribution\\n{}\".format(df.Label.value_counts()))\n",
    "print(df.shape)"
   ]
  },
  {
   "cell_type": "code",
   "execution_count": 8,
   "id": "64bdfb5a",
   "metadata": {},
   "outputs": [],
   "source": [
    "X, y = preprocessing(df)\n",
    "del df"
   ]
  },
  {
   "cell_type": "code",
   "execution_count": 9,
   "id": "4777a0cb",
   "metadata": {},
   "outputs": [
    {
     "name": "stderr",
     "output_type": "stream",
     "text": [
      "18:58:39 INFO *** TRAINING START ***\n"
     ]
    },
    {
     "name": "stdout",
     "output_type": "stream",
     "text": [
      "Epoch 1/125\n",
      "1990/1990 [==============================] - 89s 43ms/step - loss: 0.1862 - accuracy: 0.9376 - val_loss: 0.0640 - val_accuracy: 0.9735\n",
      "Epoch 2/125\n",
      "1990/1990 [==============================] - 86s 43ms/step - loss: 0.0518 - accuracy: 0.9782 - val_loss: 0.0447 - val_accuracy: 0.9802\n",
      "Epoch 3/125\n",
      "1990/1990 [==============================] - 86s 43ms/step - loss: 0.0427 - accuracy: 0.9808 - val_loss: 0.0390 - val_accuracy: 0.9816\n",
      "Epoch 4/125\n",
      "1990/1990 [==============================] - 87s 44ms/step - loss: 0.0389 - accuracy: 0.9828 - val_loss: 0.0367 - val_accuracy: 0.9843\n",
      "Epoch 5/125\n",
      "1990/1990 [==============================] - 87s 44ms/step - loss: 0.0364 - accuracy: 0.9844 - val_loss: 0.0351 - val_accuracy: 0.9851\n",
      "Epoch 6/125\n",
      "1990/1990 [==============================] - 88s 44ms/step - loss: 0.0354 - accuracy: 0.9849 - val_loss: 0.0330 - val_accuracy: 0.9860\n",
      "Epoch 7/125\n",
      "1990/1990 [==============================] - 89s 45ms/step - loss: 0.0327 - accuracy: 0.9862 - val_loss: 0.0312 - val_accuracy: 0.9865\n",
      "Epoch 8/125\n",
      "1990/1990 [==============================] - 90s 45ms/step - loss: 0.0312 - accuracy: 0.9866 - val_loss: 0.0318 - val_accuracy: 0.9869\n",
      "Epoch 9/125\n",
      "1990/1990 [==============================] - 88s 44ms/step - loss: 0.0299 - accuracy: 0.9870 - val_loss: 0.0272 - val_accuracy: 0.9879\n",
      "Epoch 10/125\n",
      "1990/1990 [==============================] - 89s 45ms/step - loss: 0.0287 - accuracy: 0.9879 - val_loss: 0.0243 - val_accuracy: 0.9908\n",
      "Epoch 11/125\n",
      "1990/1990 [==============================] - 91s 46ms/step - loss: 0.0258 - accuracy: 0.9899 - val_loss: 0.0404 - val_accuracy: 0.9826\n",
      "Epoch 12/125\n",
      "1990/1990 [==============================] - 91s 46ms/step - loss: 0.0280 - accuracy: 0.9884 - val_loss: 0.0149 - val_accuracy: 0.9953\n",
      "Epoch 13/125\n",
      "1990/1990 [==============================] - 89s 45ms/step - loss: 0.0240 - accuracy: 0.9908 - val_loss: 0.0118 - val_accuracy: 0.9965\n",
      "Epoch 14/125\n",
      "1990/1990 [==============================] - 89s 44ms/step - loss: 0.0293 - accuracy: 0.9880 - val_loss: 0.0290 - val_accuracy: 0.9901\n",
      "Epoch 15/125\n",
      "1990/1990 [==============================] - 90s 45ms/step - loss: 0.0272 - accuracy: 0.9889 - val_loss: 0.0322 - val_accuracy: 0.9869\n",
      "Epoch 16/125\n",
      "1990/1990 [==============================] - 90s 45ms/step - loss: 0.0278 - accuracy: 0.9885 - val_loss: 0.0767 - val_accuracy: 0.9837\n",
      "Epoch 17/125\n",
      "1990/1990 [==============================] - 90s 45ms/step - loss: 0.0271 - accuracy: 0.9890 - val_loss: 0.0211 - val_accuracy: 0.9912\n",
      "Epoch 18/125\n",
      "1990/1990 [==============================] - 90s 45ms/step - loss: 0.0270 - accuracy: 0.9888 - val_loss: 0.0205 - val_accuracy: 0.9929\n",
      "Epoch 19/125\n",
      "1990/1990 [==============================] - 91s 46ms/step - loss: 0.0188 - accuracy: 0.9929 - val_loss: 0.0152 - val_accuracy: 0.9948\n",
      "Epoch 20/125\n",
      "1990/1990 [==============================] - 90s 45ms/step - loss: 0.0188 - accuracy: 0.9931 - val_loss: 0.0567 - val_accuracy: 0.9834\n",
      "Epoch 21/125\n",
      "1990/1990 [==============================] - 90s 45ms/step - loss: 0.0239 - accuracy: 0.9908 - val_loss: 0.0093 - val_accuracy: 0.9967\n",
      "Epoch 22/125\n",
      "1990/1990 [==============================] - 91s 46ms/step - loss: 0.0151 - accuracy: 0.9944 - val_loss: 0.0326 - val_accuracy: 0.9857\n",
      "Epoch 23/125\n",
      "1990/1990 [==============================] - 91s 46ms/step - loss: 0.0302 - accuracy: 0.9871 - val_loss: 0.0322 - val_accuracy: 0.9851\n",
      "Epoch 24/125\n",
      "1990/1990 [==============================] - 90s 45ms/step - loss: 0.0307 - accuracy: 0.9864 - val_loss: 0.0279 - val_accuracy: 0.9856\n",
      "Epoch 25/125\n",
      "1990/1990 [==============================] - 90s 45ms/step - loss: 0.0166 - accuracy: 0.9939 - val_loss: 0.0087 - val_accuracy: 0.9975\n",
      "Epoch 26/125\n",
      "1990/1990 [==============================] - 90s 45ms/step - loss: 0.0099 - accuracy: 0.9967 - val_loss: 0.0644 - val_accuracy: 0.9858\n",
      "Epoch 27/125\n",
      "1990/1990 [==============================] - 90s 45ms/step - loss: 0.0195 - accuracy: 0.9925 - val_loss: 0.0314 - val_accuracy: 0.9848\n",
      "Epoch 28/125\n",
      "1990/1990 [==============================] - 90s 45ms/step - loss: 0.0207 - accuracy: 0.9918 - val_loss: 0.0374 - val_accuracy: 0.9847\n",
      "Epoch 29/125\n",
      "1990/1990 [==============================] - 90s 45ms/step - loss: 0.0208 - accuracy: 0.9918 - val_loss: 0.0096 - val_accuracy: 0.9963\n",
      "Epoch 30/125\n",
      "1990/1990 [==============================] - 90s 45ms/step - loss: 0.0139 - accuracy: 0.9948 - val_loss: 0.0084 - val_accuracy: 0.9972\n",
      "Epoch 31/125\n",
      "1990/1990 [==============================] - 90s 45ms/step - loss: 0.0193 - accuracy: 0.9921 - val_loss: 0.0235 - val_accuracy: 0.9916\n",
      "Epoch 32/125\n",
      "1990/1990 [==============================] - 90s 45ms/step - loss: 0.0231 - accuracy: 0.9904 - val_loss: 0.0236 - val_accuracy: 0.9907\n",
      "Epoch 33/125\n",
      "1990/1990 [==============================] - 90s 45ms/step - loss: 0.0126 - accuracy: 0.9953 - val_loss: 0.0112 - val_accuracy: 0.9971\n",
      "Epoch 34/125\n",
      "1990/1990 [==============================] - 90s 45ms/step - loss: 0.0103 - accuracy: 0.9965 - val_loss: 0.0079 - val_accuracy: 0.9976\n",
      "Epoch 35/125\n",
      "1990/1990 [==============================] - 90s 45ms/step - loss: 0.0144 - accuracy: 0.9947 - val_loss: 0.0081 - val_accuracy: 0.9976\n",
      "Epoch 36/125\n",
      "1990/1990 [==============================] - 90s 45ms/step - loss: 0.0134 - accuracy: 0.9949 - val_loss: 0.0087 - val_accuracy: 0.9970\n",
      "Epoch 37/125\n",
      "1990/1990 [==============================] - 90s 45ms/step - loss: 0.0083 - accuracy: 0.9972 - val_loss: 0.0131 - val_accuracy: 0.9952\n",
      "Epoch 38/125\n",
      "1990/1990 [==============================] - 91s 46ms/step - loss: 0.0211 - accuracy: 0.9914 - val_loss: 0.0084 - val_accuracy: 0.9971\n",
      "Epoch 39/125\n",
      "1990/1990 [==============================] - 91s 46ms/step - loss: 0.0090 - accuracy: 0.9970 - val_loss: 0.0115 - val_accuracy: 0.9960\n",
      "Epoch 40/125\n",
      "1990/1990 [==============================] - 90s 45ms/step - loss: 0.0084 - accuracy: 0.9972 - val_loss: 0.0085 - val_accuracy: 0.9974\n",
      "Epoch 41/125\n",
      "1990/1990 [==============================] - 90s 45ms/step - loss: 0.0084 - accuracy: 0.9971 - val_loss: 0.0085 - val_accuracy: 0.9970\n",
      "Epoch 42/125\n",
      "1990/1990 [==============================] - 90s 45ms/step - loss: 0.0085 - accuracy: 0.9972 - val_loss: 0.0079 - val_accuracy: 0.9974\n",
      "Epoch 43/125\n",
      "1990/1990 [==============================] - 92s 46ms/step - loss: 0.0121 - accuracy: 0.9954 - val_loss: 0.0287 - val_accuracy: 0.9882\n",
      "Epoch 44/125\n",
      "1990/1990 [==============================] - 100s 50ms/step - loss: 0.0162 - accuracy: 0.9938 - val_loss: 0.0095 - val_accuracy: 0.9970\n",
      "Epoch 45/125\n",
      "1990/1990 [==============================] - 91s 46ms/step - loss: 0.0083 - accuracy: 0.9972 - val_loss: 0.0087 - val_accuracy: 0.9971\n",
      "Epoch 46/125\n",
      "1990/1990 [==============================] - 91s 46ms/step - loss: 0.0080 - accuracy: 0.9973 - val_loss: 0.0100 - val_accuracy: 0.9965\n",
      "Epoch 47/125\n",
      "1990/1990 [==============================] - 91s 46ms/step - loss: 0.0167 - accuracy: 0.9935 - val_loss: 0.0246 - val_accuracy: 0.9861\n",
      "Epoch 48/125\n",
      "1990/1990 [==============================] - 91s 46ms/step - loss: 0.0105 - accuracy: 0.9964 - val_loss: 0.0075 - val_accuracy: 0.9975\n",
      "Epoch 49/125\n",
      "1990/1990 [==============================] - 91s 46ms/step - loss: 0.0078 - accuracy: 0.9974 - val_loss: 0.0103 - val_accuracy: 0.9969\n",
      "Epoch 50/125\n",
      "1990/1990 [==============================] - 91s 46ms/step - loss: 0.0117 - accuracy: 0.9957 - val_loss: 0.0093 - val_accuracy: 0.9971\n",
      "Epoch 51/125\n",
      "1990/1990 [==============================] - 99s 50ms/step - loss: 0.0080 - accuracy: 0.9973 - val_loss: 0.0082 - val_accuracy: 0.9972\n",
      "Epoch 52/125\n",
      "1990/1990 [==============================] - 100s 50ms/step - loss: 0.0113 - accuracy: 0.9959 - val_loss: 0.0080 - val_accuracy: 0.9970\n",
      "Epoch 53/125\n",
      "1990/1990 [==============================] - 97s 49ms/step - loss: 0.0091 - accuracy: 0.9969 - val_loss: 0.0088 - val_accuracy: 0.9972\n",
      "Epoch 54/125\n",
      "1990/1990 [==============================] - 99s 50ms/step - loss: 0.0075 - accuracy: 0.9975 - val_loss: 0.0078 - val_accuracy: 0.9974\n",
      "Epoch 55/125\n",
      "1990/1990 [==============================] - 97s 49ms/step - loss: 0.0078 - accuracy: 0.9974 - val_loss: 0.0098 - val_accuracy: 0.9966\n",
      "Epoch 56/125\n"
     ]
    },
    {
     "name": "stdout",
     "output_type": "stream",
     "text": [
      "1990/1990 [==============================] - 96s 48ms/step - loss: 0.0074 - accuracy: 0.9976 - val_loss: 0.0080 - val_accuracy: 0.9973\n",
      "Epoch 57/125\n",
      "1990/1990 [==============================] - 99s 50ms/step - loss: 0.0090 - accuracy: 0.9970 - val_loss: 0.0072 - val_accuracy: 0.9978\n",
      "Epoch 58/125\n",
      "1990/1990 [==============================] - 96s 48ms/step - loss: 0.0070 - accuracy: 0.9977 - val_loss: 0.0081 - val_accuracy: 0.9972\n",
      "Epoch 59/125\n",
      "1990/1990 [==============================] - 99s 50ms/step - loss: 0.0076 - accuracy: 0.9975 - val_loss: 0.0074 - val_accuracy: 0.9977\n",
      "Epoch 60/125\n",
      "1990/1990 [==============================] - 98s 49ms/step - loss: 0.0070 - accuracy: 0.9977 - val_loss: 0.0068 - val_accuracy: 0.9979\n",
      "Epoch 61/125\n",
      "1990/1990 [==============================] - 98s 49ms/step - loss: 0.0075 - accuracy: 0.9975 - val_loss: 0.0072 - val_accuracy: 0.9978\n",
      "Epoch 62/125\n",
      "1990/1990 [==============================] - 98s 49ms/step - loss: 0.0131 - accuracy: 0.9951 - val_loss: 0.0171 - val_accuracy: 0.9938\n",
      "Epoch 63/125\n",
      "1990/1990 [==============================] - 96s 48ms/step - loss: 0.0192 - accuracy: 0.9923 - val_loss: 0.0174 - val_accuracy: 0.9937\n",
      "Epoch 64/125\n",
      "1990/1990 [==============================] - 94s 47ms/step - loss: 0.0076 - accuracy: 0.9976 - val_loss: 0.0080 - val_accuracy: 0.9976\n",
      "Epoch 65/125\n",
      "1990/1990 [==============================] - 97s 49ms/step - loss: 0.0109 - accuracy: 0.9960 - val_loss: 0.0079 - val_accuracy: 0.9978\n",
      "Epoch 66/125\n",
      "1990/1990 [==============================] - 98s 49ms/step - loss: 0.0071 - accuracy: 0.9977 - val_loss: 0.0079 - val_accuracy: 0.9974\n",
      "Epoch 67/125\n",
      "1990/1990 [==============================] - 97s 49ms/step - loss: 0.0070 - accuracy: 0.9977 - val_loss: 0.0083 - val_accuracy: 0.9970\n",
      "Epoch 68/125\n",
      "1990/1990 [==============================] - 105s 53ms/step - loss: 0.0103 - accuracy: 0.9963 - val_loss: 0.0096 - val_accuracy: 0.9969\n",
      "Epoch 69/125\n",
      "1990/1990 [==============================] - 98s 49ms/step - loss: 0.0078 - accuracy: 0.9974 - val_loss: 0.0071 - val_accuracy: 0.9977\n",
      "Epoch 70/125\n",
      "1990/1990 [==============================] - 97s 49ms/step - loss: 0.0100 - accuracy: 0.9963 - val_loss: 0.0072 - val_accuracy: 0.9980\n",
      "Epoch 71/125\n",
      "1990/1990 [==============================] - 97s 49ms/step - loss: 0.0073 - accuracy: 0.9976 - val_loss: 0.0080 - val_accuracy: 0.9970\n",
      "Epoch 72/125\n",
      "1990/1990 [==============================] - 97s 49ms/step - loss: 0.0073 - accuracy: 0.9976 - val_loss: 0.0073 - val_accuracy: 0.9977\n",
      "Epoch 73/125\n",
      "1990/1990 [==============================] - 97s 49ms/step - loss: 0.0071 - accuracy: 0.9976 - val_loss: 0.0070 - val_accuracy: 0.9978\n",
      "Epoch 74/125\n",
      "1990/1990 [==============================] - 97s 49ms/step - loss: 0.0071 - accuracy: 0.9977 - val_loss: 0.0071 - val_accuracy: 0.9978\n",
      "Epoch 75/125\n",
      "1990/1990 [==============================] - 97s 49ms/step - loss: 0.0069 - accuracy: 0.9977 - val_loss: 0.0070 - val_accuracy: 0.9978\n",
      "Epoch 76/125\n",
      "1990/1990 [==============================] - 97s 49ms/step - loss: 0.0073 - accuracy: 0.9976 - val_loss: 0.0074 - val_accuracy: 0.9976\n",
      "Epoch 77/125\n",
      "1990/1990 [==============================] - 97s 49ms/step - loss: 0.0069 - accuracy: 0.9977 - val_loss: 0.0070 - val_accuracy: 0.9980\n",
      "Epoch 78/125\n",
      "1990/1990 [==============================] - 97s 49ms/step - loss: 0.0070 - accuracy: 0.9977 - val_loss: 0.0064 - val_accuracy: 0.9983\n",
      "Epoch 79/125\n",
      "1990/1990 [==============================] - 97s 49ms/step - loss: 0.0102 - accuracy: 0.9962 - val_loss: 0.0253 - val_accuracy: 0.9898\n",
      "Epoch 80/125\n",
      "1990/1990 [==============================] - 97s 49ms/step - loss: 0.0071 - accuracy: 0.9977 - val_loss: 0.0083 - val_accuracy: 0.9971\n",
      "Epoch 81/125\n",
      "1990/1990 [==============================] - 98s 49ms/step - loss: 0.0070 - accuracy: 0.9977 - val_loss: 0.0095 - val_accuracy: 0.9969\n",
      "Epoch 82/125\n",
      "1990/1990 [==============================] - 97s 49ms/step - loss: 0.0069 - accuracy: 0.9978 - val_loss: 0.0073 - val_accuracy: 0.9977\n",
      "Epoch 83/125\n",
      "1990/1990 [==============================] - 97s 49ms/step - loss: 0.0067 - accuracy: 0.9978 - val_loss: 0.0070 - val_accuracy: 0.9981\n",
      "Epoch 84/125\n",
      "1990/1990 [==============================] - 98s 49ms/step - loss: 0.0072 - accuracy: 0.9977 - val_loss: 0.0069 - val_accuracy: 0.9981\n",
      "Epoch 85/125\n",
      "1990/1990 [==============================] - 98s 49ms/step - loss: 0.0065 - accuracy: 0.9979 - val_loss: 0.0070 - val_accuracy: 0.9980\n",
      "Epoch 86/125\n",
      "1990/1990 [==============================] - 98s 49ms/step - loss: 0.0067 - accuracy: 0.9978 - val_loss: 0.0078 - val_accuracy: 0.9973\n",
      "Epoch 87/125\n",
      "1990/1990 [==============================] - 98s 49ms/step - loss: 0.0067 - accuracy: 0.9978 - val_loss: 0.0075 - val_accuracy: 0.9976\n",
      "Epoch 88/125\n",
      "1990/1990 [==============================] - 99s 50ms/step - loss: 0.0067 - accuracy: 0.9978 - val_loss: 0.0073 - val_accuracy: 0.9977\n",
      "Epoch 89/125\n",
      "1990/1990 [==============================] - 98s 49ms/step - loss: 0.0069 - accuracy: 0.9977 - val_loss: 0.0078 - val_accuracy: 0.9974\n",
      "Epoch 90/125\n",
      "1990/1990 [==============================] - 97s 49ms/step - loss: 0.0067 - accuracy: 0.9978 - val_loss: 0.0082 - val_accuracy: 0.9973\n",
      "Epoch 91/125\n",
      "1990/1990 [==============================] - 97s 49ms/step - loss: 0.0066 - accuracy: 0.9978 - val_loss: 0.0067 - val_accuracy: 0.9980\n",
      "Epoch 92/125\n",
      "1990/1990 [==============================] - 99s 50ms/step - loss: 0.0066 - accuracy: 0.9978 - val_loss: 0.0080 - val_accuracy: 0.9974\n",
      "Epoch 93/125\n",
      "1990/1990 [==============================] - 98s 49ms/step - loss: 0.0121 - accuracy: 0.9957 - val_loss: 0.0059 - val_accuracy: 0.9984\n",
      "Epoch 94/125\n",
      "1990/1990 [==============================] - 98s 49ms/step - loss: 0.0069 - accuracy: 0.9978 - val_loss: 0.0069 - val_accuracy: 0.9981\n",
      "Epoch 95/125\n",
      "1990/1990 [==============================] - 98s 49ms/step - loss: 0.0069 - accuracy: 0.9977 - val_loss: 0.0075 - val_accuracy: 0.9976\n",
      "Epoch 96/125\n",
      "1990/1990 [==============================] - 98s 49ms/step - loss: 0.0068 - accuracy: 0.9978 - val_loss: 0.0061 - val_accuracy: 0.9982\n",
      "Epoch 97/125\n",
      "1990/1990 [==============================] - 98s 49ms/step - loss: 0.0067 - accuracy: 0.9978 - val_loss: 0.0066 - val_accuracy: 0.9982\n",
      "Epoch 98/125\n",
      "1990/1990 [==============================] - 101s 51ms/step - loss: 0.0064 - accuracy: 0.9979 - val_loss: 0.0066 - val_accuracy: 0.9981\n",
      "Epoch 99/125\n",
      "1990/1990 [==============================] - 98s 49ms/step - loss: 0.0064 - accuracy: 0.9980 - val_loss: 0.0076 - val_accuracy: 0.9975\n",
      "Epoch 100/125\n",
      "1990/1990 [==============================] - 96s 48ms/step - loss: 0.0065 - accuracy: 0.9979 - val_loss: 0.0065 - val_accuracy: 0.9981\n",
      "Epoch 101/125\n",
      "1990/1990 [==============================] - 97s 49ms/step - loss: 0.0064 - accuracy: 0.9979 - val_loss: 0.0065 - val_accuracy: 0.9981\n",
      "Epoch 102/125\n",
      "1990/1990 [==============================] - 96s 48ms/step - loss: 0.0064 - accuracy: 0.9979 - val_loss: 0.0069 - val_accuracy: 0.9979\n",
      "Epoch 103/125\n",
      "1990/1990 [==============================] - 96s 48ms/step - loss: 0.0064 - accuracy: 0.9979 - val_loss: 0.0085 - val_accuracy: 0.9977\n",
      "Epoch 104/125\n",
      "1990/1990 [==============================] - 97s 49ms/step - loss: 0.0064 - accuracy: 0.9979 - val_loss: 0.0070 - val_accuracy: 0.9977\n",
      "Epoch 105/125\n",
      "1990/1990 [==============================] - 98s 49ms/step - loss: 0.0064 - accuracy: 0.9979 - val_loss: 0.0063 - val_accuracy: 0.9982\n",
      "Epoch 106/125\n",
      "1990/1990 [==============================] - 98s 49ms/step - loss: 0.0063 - accuracy: 0.9980 - val_loss: 0.0070 - val_accuracy: 0.9979\n",
      "Epoch 107/125\n",
      "1990/1990 [==============================] - 99s 50ms/step - loss: 0.0060 - accuracy: 0.9981 - val_loss: 0.0064 - val_accuracy: 0.9983\n",
      "Epoch 108/125\n",
      "1990/1990 [==============================] - 97s 49ms/step - loss: 0.0065 - accuracy: 0.9979 - val_loss: 0.0064 - val_accuracy: 0.9979\n",
      "Epoch 109/125\n",
      "1990/1990 [==============================] - 98s 49ms/step - loss: 0.0062 - accuracy: 0.9980 - val_loss: 0.0072 - val_accuracy: 0.9978\n",
      "Epoch 110/125\n",
      "1990/1990 [==============================] - 95s 48ms/step - loss: 0.0069 - accuracy: 0.9978 - val_loss: 0.0068 - val_accuracy: 0.9981\n",
      "Epoch 111/125\n"
     ]
    },
    {
     "name": "stdout",
     "output_type": "stream",
     "text": [
      "1990/1990 [==============================] - 93s 47ms/step - loss: 0.0059 - accuracy: 0.9982 - val_loss: 0.0066 - val_accuracy: 0.9982\n",
      "Epoch 112/125\n",
      "1990/1990 [==============================] - 91s 46ms/step - loss: 0.0059 - accuracy: 0.9982 - val_loss: 0.0076 - val_accuracy: 0.9978\n",
      "Epoch 113/125\n",
      "1990/1990 [==============================] - 91s 46ms/step - loss: 0.0057 - accuracy: 0.9982 - val_loss: 0.0057 - val_accuracy: 0.9984\n",
      "Epoch 114/125\n",
      "1990/1990 [==============================] - 91s 46ms/step - loss: 0.0073 - accuracy: 0.9977 - val_loss: 0.0065 - val_accuracy: 0.9980\n",
      "Epoch 115/125\n",
      "1990/1990 [==============================] - 90s 45ms/step - loss: 0.0060 - accuracy: 0.9981 - val_loss: 0.0064 - val_accuracy: 0.9982\n",
      "Epoch 116/125\n",
      "1990/1990 [==============================] - 93s 47ms/step - loss: 0.0075 - accuracy: 0.9975 - val_loss: 0.0067 - val_accuracy: 0.9980\n",
      "Epoch 117/125\n",
      "1990/1990 [==============================] - 96s 48ms/step - loss: 0.0061 - accuracy: 0.9980 - val_loss: 0.0069 - val_accuracy: 0.9980\n",
      "Epoch 118/125\n",
      "1990/1990 [==============================] - 98s 49ms/step - loss: 0.0062 - accuracy: 0.9980 - val_loss: 0.0055 - val_accuracy: 0.9984\n",
      "Epoch 119/125\n",
      "1990/1990 [==============================] - 97s 49ms/step - loss: 0.0063 - accuracy: 0.9980 - val_loss: 0.0064 - val_accuracy: 0.9981\n",
      "Epoch 120/125\n",
      "1990/1990 [==============================] - 97s 49ms/step - loss: 0.0064 - accuracy: 0.9979 - val_loss: 0.0079 - val_accuracy: 0.9974\n",
      "Epoch 121/125\n",
      "1990/1990 [==============================] - 97s 49ms/step - loss: 0.0063 - accuracy: 0.9979 - val_loss: 0.0061 - val_accuracy: 0.9981\n",
      "Epoch 122/125\n",
      "1990/1990 [==============================] - 98s 49ms/step - loss: 0.0061 - accuracy: 0.9980 - val_loss: 0.0072 - val_accuracy: 0.9977\n",
      "Epoch 123/125\n",
      "1990/1990 [==============================] - 96s 48ms/step - loss: 0.0063 - accuracy: 0.9980 - val_loss: 0.0065 - val_accuracy: 0.9981\n",
      "Epoch 124/125\n",
      "1990/1990 [==============================] - 95s 48ms/step - loss: 0.0060 - accuracy: 0.9981 - val_loss: 0.0083 - val_accuracy: 0.9973\n",
      "Epoch 125/125\n",
      "1990/1990 [==============================] - 95s 48ms/step - loss: 0.0062 - accuracy: 0.9980 - val_loss: 0.0059 - val_accuracy: 0.9983\n"
     ]
    }
   ],
   "source": [
    "# Training\n",
    "logging.info(\"*** TRAINING START ***\")\n",
    "history = model.fit(X, y, validation_split=0.1, epochs=125, batch_size=1024, verbose=True)\n",
    "# history = model.fit(x_train.reshape(len(x_train), len(x_train[0]),1), y_train,epochs=10,verbose=1,batch_size = 500)"
   ]
  },
  {
   "cell_type": "code",
   "execution_count": 10,
   "id": "d3134191",
   "metadata": {},
   "outputs": [
    {
     "name": "stderr",
     "output_type": "stream",
     "text": [
      "22:14:58 INFO *** TRAINING FINISH ***\n"
     ]
    }
   ],
   "source": [
    "logging.info(\"*** TRAINING FINISH ***\")\n",
    "del X, y"
   ]
  },
  {
   "cell_type": "code",
   "execution_count": 11,
   "id": "f5337710",
   "metadata": {},
   "outputs": [
    {
     "ename": "KeyError",
     "evalue": "'sparse_categorical_accuracy'",
     "output_type": "error",
     "traceback": [
      "\u001b[1;31m---------------------------------------------------------------------------\u001b[0m",
      "\u001b[1;31mKeyError\u001b[0m                                  Traceback (most recent call last)",
      "\u001b[1;32m~\\AppData\\Local\\Temp/ipykernel_15664/2931868366.py\u001b[0m in \u001b[0;36m<module>\u001b[1;34m\u001b[0m\n\u001b[0;32m      2\u001b[0m \u001b[0mmodel\u001b[0m\u001b[1;33m.\u001b[0m\u001b[0msave\u001b[0m\u001b[1;33m(\u001b[0m\u001b[0mos\u001b[0m\u001b[1;33m.\u001b[0m\u001b[0mpath\u001b[0m\u001b[1;33m.\u001b[0m\u001b[0mjoin\u001b[0m\u001b[1;33m(\u001b[0m\u001b[0mMODEL_DIR_PATH\u001b[0m\u001b[1;33m,\u001b[0m \u001b[1;34m\"CNN_LSTM_hybrid_01.h5\"\u001b[0m\u001b[1;33m)\u001b[0m\u001b[1;33m)\u001b[0m\u001b[1;33m\u001b[0m\u001b[1;33m\u001b[0m\u001b[0m\n\u001b[0;32m      3\u001b[0m \u001b[1;33m\u001b[0m\u001b[0m\n\u001b[1;32m----> 4\u001b[1;33m \u001b[0mplot_history\u001b[0m\u001b[1;33m(\u001b[0m\u001b[0mhistory\u001b[0m\u001b[1;33m)\u001b[0m\u001b[1;33m\u001b[0m\u001b[1;33m\u001b[0m\u001b[0m\n\u001b[0m",
      "\u001b[1;32m~\\AppData\\Local\\Temp/ipykernel_15664/1529318443.py\u001b[0m in \u001b[0;36mplot_history\u001b[1;34m(history)\u001b[0m\n\u001b[0;32m     50\u001b[0m \u001b[1;32mdef\u001b[0m \u001b[0mplot_history\u001b[0m\u001b[1;33m(\u001b[0m\u001b[0mhistory\u001b[0m\u001b[1;33m:\u001b[0m \u001b[0mtf\u001b[0m\u001b[1;33m.\u001b[0m\u001b[0mkeras\u001b[0m\u001b[1;33m.\u001b[0m\u001b[0mcallbacks\u001b[0m\u001b[1;33m.\u001b[0m\u001b[0mHistory\u001b[0m\u001b[1;33m)\u001b[0m\u001b[1;33m:\u001b[0m\u001b[1;33m\u001b[0m\u001b[1;33m\u001b[0m\u001b[0m\n\u001b[0;32m     51\u001b[0m     \u001b[1;31m# summarize history for accuracy\u001b[0m\u001b[1;33m\u001b[0m\u001b[1;33m\u001b[0m\u001b[1;33m\u001b[0m\u001b[0m\n\u001b[1;32m---> 52\u001b[1;33m     \u001b[0mplt\u001b[0m\u001b[1;33m.\u001b[0m\u001b[0mplot\u001b[0m\u001b[1;33m(\u001b[0m\u001b[0mhistory\u001b[0m\u001b[1;33m.\u001b[0m\u001b[0mhistory\u001b[0m\u001b[1;33m[\u001b[0m\u001b[1;34m'sparse_categorical_accuracy'\u001b[0m\u001b[1;33m]\u001b[0m\u001b[1;33m)\u001b[0m\u001b[1;33m\u001b[0m\u001b[1;33m\u001b[0m\u001b[0m\n\u001b[0m\u001b[0;32m     53\u001b[0m     \u001b[0mplt\u001b[0m\u001b[1;33m.\u001b[0m\u001b[0mplot\u001b[0m\u001b[1;33m(\u001b[0m\u001b[0mhistory\u001b[0m\u001b[1;33m.\u001b[0m\u001b[0mhistory\u001b[0m\u001b[1;33m[\u001b[0m\u001b[1;34m'val_sparse_categorical_accuracy'\u001b[0m\u001b[1;33m]\u001b[0m\u001b[1;33m)\u001b[0m\u001b[1;33m\u001b[0m\u001b[1;33m\u001b[0m\u001b[0m\n\u001b[0;32m     54\u001b[0m     \u001b[0mplt\u001b[0m\u001b[1;33m.\u001b[0m\u001b[0mtitle\u001b[0m\u001b[1;33m(\u001b[0m\u001b[1;34m'model2 accuracy'\u001b[0m\u001b[1;33m)\u001b[0m\u001b[1;33m\u001b[0m\u001b[1;33m\u001b[0m\u001b[0m\n",
      "\u001b[1;31mKeyError\u001b[0m: 'sparse_categorical_accuracy'"
     ]
    }
   ],
   "source": [
    "# Save the model\n",
    "model.save(os.path.join(MODEL_DIR_PATH, \"CNN_LSTM_hybrid_01.h5\"))\n",
    "\n",
    "\n",
    "\n",
    "plot_history(history)"
   ]
  },
  {
   "cell_type": "code",
   "execution_count": 16,
   "id": "cfc1b71b",
   "metadata": {},
   "outputs": [
    {
     "data": {
      "image/png": "[encoded data removed]",
      "text/plain": [
       "<Figure size 432x288 with 1 Axes>"
      ]
     },
     "metadata": {
      "needs_background": "light"
     },
     "output_type": "display_data"
    },
    {
     "data": {
      "image/png": "[encoded data removed]",
      "text/plain": [
       "<Figure size 432x288 with 1 Axes>"
      ]
     },
     "metadata": {
      "needs_background": "light"
     },
     "output_type": "display_data"
    }
   ],
   "source": [
    "# def plot_history(history: tf.keras.callbacks.History):\n",
    "#     # summarize history for accuracy\n",
    "#     plt.plot(history.history['accuracy'])\n",
    "#     plt.plot(history.history['val_accuracy'])\n",
    "#     plt.title('model2 accuracy')\n",
    "#     plt.ylabel('accuracy')\n",
    "#     plt.xlabel('epoch')\n",
    "#     plt.legend(['train', 'test'], loc='upper left')\n",
    "#     plt.show()\n",
    "\n",
    "#     # summarize history for loss\n",
    "#     plt.plot(history.history['loss'])\n",
    "#     plt.plot(history.history['val_loss'])\n",
    "#     plt.title('model2 loss')\n",
    "#     plt.ylabel('loss')\n",
    "#     plt.xlabel('epoch')\n",
    "#     plt.legend(['train', 'test'], loc='upper left')\n",
    "#     plt.show()\n",
    "# plot_history(history)"
   ]
  },
  {
   "cell_type": "code",
   "execution_count": 13,
   "id": "51c21818",
   "metadata": {},
   "outputs": [
    {
     "name": "stderr",
     "output_type": "stream",
     "text": [
      "22:55:16 INFO Class distribution\n",
      "BENIGN                      454406\n",
      "DoS Hulk                     46081\n",
      "PortScan                     31646\n",
      "DDoS                         25802\n",
      "DoS GoldenEye                 2009\n",
      "FTP-Patator                   1593\n",
      "SSH-Patator                   1190\n",
      "DoS slowloris                 1163\n",
      "DoS Slowhttptest              1129\n",
      "Bot                            402\n",
      "Web Attack-Brute Force         297\n",
      "Web Attack-XSS                 145\n",
      "Web Attack-Sql Injection         6\n",
      "Infiltration                     6\n",
      "Heartbleed                       2\n",
      "Name: Label, dtype: int64\n"
     ]
    }
   ],
   "source": [
    "# Evaluation\n",
    "df = pd.read_csv(os.path.join(PROCESSED_DIR_PATH, 'test_MachineLearningCVE.csv'), skipinitialspace=True)\n",
    "df.drop('Unnamed: 0', axis=1, inplace=True)\n",
    "logging.info(\"Class distribution\\n{}\".format(df.Label.value_counts()))"
   ]
  },
  {
   "cell_type": "code",
   "execution_count": 14,
   "id": "127f5b7b",
   "metadata": {},
   "outputs": [],
   "source": [
    "X, y = preprocessing(df)\n",
    "del df"
   ]
  },
  {
   "cell_type": "code",
   "execution_count": 15,
   "id": "cbd592ed",
   "metadata": {},
   "outputs": [
    {
     "name": "stderr",
     "output_type": "stream",
     "text": [
      "22:57:00 INFO Evaluation:\n",
      "Loss: 0.6547667384147644\n",
      "Accuracy : 0.969251275062561\n",
      "\n",
      "22:57:09 INFO \n",
      "              precision    recall  f1-score   support\n",
      "\n",
      "           0       0.96      1.00      0.98    454406\n",
      "           1       0.80      0.41      0.54       402\n",
      "           2       1.00      1.00      1.00     25802\n",
      "           3       0.99      0.99      0.99      2009\n",
      "           4       0.99      1.00      1.00     46081\n",
      "           5       0.76      0.99      0.86      1129\n",
      "           6       1.00      0.70      0.82      1163\n",
      "           7       1.00      1.00      1.00      1593\n",
      "           8       1.00      1.00      1.00         2\n",
      "           9       0.20      0.67      0.31         6\n",
      "          10       1.00      0.51      0.68     31646\n",
      "          11       1.00      0.51      0.68      1190\n",
      "          12       0.65      0.88      0.75       297\n",
      "          13       0.00      0.00      0.00         6\n",
      "          14       0.25      0.02      0.04       145\n",
      "\n",
      "    accuracy                           0.97    565877\n",
      "   macro avg       0.77      0.71      0.71    565877\n",
      "weighted avg       0.97      0.97      0.96    565877\n",
      "\n"
     ]
    }
   ],
   "source": [
    "evaluation(model, X, y)\n",
    "del X, y"
   ]
  },
  {
   "cell_type": "code",
   "execution_count": null,
   "id": "561267e4",
   "metadata": {},
   "outputs": [],
   "source": [
    "logging.info(\"*** END ***\")"
   ]
  }
 ],
 "metadata": {
  "kernelspec": {
   "display_name": "Python 3 (ipykernel)",
   "language": "python",
   "name": "python3"
  },
  "language_info": {
   "codemirror_mode": {
    "name": "ipython",
    "version": 3
   },
   "file_extension": ".py",
   "mimetype": "text/x-python",
   "name": "python",
   "nbconvert_exporter": "python",
   "pygments_lexer": "ipython3",
   "version": "3.9.0"
  }
 },
 "nbformat": 4,
 "nbformat_minor": 5
}
