{
 "cells": [
  {
   "cell_type": "code",
   "execution_count": 1,
   "id": "32a86c0f",
   "metadata": {},
   "outputs": [],
   "source": [
    "import os\n",
    "import logging\n",
    "\n",
    "import pandas as pd\n",
    "import tensorflow.keras as keras\n",
    "\n",
    "from tensorflow.keras.callbacks import ModelCheckpoint\n",
    "from tensorflow.keras.utils import plot_model\n",
    "\n",
    "# Log setting\n",
    "logging.basicConfig(format=\"%(asctime)s %(levelname)s %(message)s\", datefmt=\"%H:%M:%S\", level=logging.INFO)\n",
    "\n",
    "# Change display.max_rows to show all features.\n",
    "pd.set_option(\"display.max_rows\", 85)"
   ]
  },
  {
   "cell_type": "code",
   "execution_count": 2,
   "id": "91a270bc",
   "metadata": {},
   "outputs": [],
   "source": [
    "PROCESSED_DIR_PATH = r'C:\\Users\\mkahs\\Repository\\CICIDS\\ProcessedDataset'\n",
    "MODEL_DIR_PATH = r\"C:\\Users\\mkahs\\Repository\\CICIDS\\Model\""
   ]
  },
  {
   "cell_type": "code",
   "execution_count": 3,
   "id": "d9f03c6d",
   "metadata": {},
   "outputs": [],
   "source": [
    "import numpy as np\n",
    "import tensorflow as tf\n",
    "import matplotlib.pyplot as plt\n",
    "\n",
    "from sklearn.metrics import classification_report\n",
    "from sklearn.preprocessing import MinMaxScaler\n",
    "\n",
    "\n",
    "def preprocessing(df: pd.DataFrame) -> (np.ndarray, np.ndarray):\n",
    "    # Shuffle the dataset\n",
    "    df = df.sample(frac=1)\n",
    "    from sklearn.preprocessing import LabelEncoder\n",
    "    target=df['Label'].values.tolist()\n",
    "    label_encoder = LabelEncoder()\n",
    "    y = np.array(label_encoder.fit_transform(target))\n",
    "\n",
    "\n",
    "    # Split features and labels\n",
    "    df = df.replace((np.inf, -np.inf, np.nan), 0).reset_index(drop=True)\n",
    "    x = df.iloc[:, df.columns != 'Label']\n",
    "      \n",
    "#     y = df[['Label']].to_numpy()\n",
    "    \n",
    "#     x.drop('Label', axis=1, inplace=True)\n",
    "#     np.any(np.isnan(x))\n",
    "#     np.all(np.isfinite(x))\n",
    "#     np.any(np.isnan(y))\n",
    "#     np.all(np.isfinite(y))\n",
    "\n",
    "    # Scale the features between 0 ~ 1\n",
    "#     x = np.nan_to_num(x) \n",
    "#     y = np.nan_to_num(y) \n",
    "    scaler = MinMaxScaler()\n",
    "    x = scaler.fit_transform(x)\n",
    "\n",
    "    return x, y\n",
    "\n",
    "\n",
    "def reshape_dataset_cnn(x: np.ndarray) -> np.ndarray:\n",
    "    # Add padding columns\n",
    "    result = np.zeros((x.shape[0], 81))\n",
    "    result[:, :-3] = x\n",
    "\n",
    "    # Reshaping dataset\n",
    "    result = np.reshape(result, (result.shape[0], 9, 9))\n",
    "    result = result[..., tf.newaxis]\n",
    "    return result\n",
    "\n",
    "\n",
    "def plot_history(history: tf.keras.callbacks.History):\n",
    "    # summarize history for accuracy\n",
    "    plt.plot(history.history['sparse_categorical_accuracy'])\n",
    "    plt.plot(history.history['val_sparse_categorical_accuracy'])\n",
    "    plt.title('model2 accuracy')\n",
    "    plt.ylabel('accuracy')\n",
    "    plt.xlabel('epoch')\n",
    "    plt.legend(['train', 'test'], loc='upper left')\n",
    "    plt.show()\n",
    "\n",
    "    # summarize history for loss\n",
    "    plt.plot(history.history['loss'])\n",
    "    plt.plot(history.history['val_loss'])\n",
    "    plt.title('model2 loss')\n",
    "    plt.ylabel('loss')\n",
    "    plt.xlabel('epoch')\n",
    "    plt.legend(['train', 'test'], loc='upper left')\n",
    "    plt.show()\n",
    "\n",
    "\n",
    "def evaluation(model: keras.Model, x_test: np.ndarray, y_test: np.ndarray):\n",
    "    score = model.evaluate(x_test, y_test, verbose=False)\n",
    "    logging.info('Evaluation:\\nLoss: {}\\nAccuracy : {}\\n'.format(score[0], score[1]))\n",
    "\n",
    "    # F1 score\n",
    "    y_pred = model.predict(x_test, batch_size=1024, verbose=False)\n",
    "    y_pred = np.argmax(y_pred, axis=1)\n",
    "\n",
    "    logging.info(\"\\n{}\".format(classification_report(y_test, y_pred)))"
   ]
  },
  {
   "cell_type": "code",
   "execution_count": 4,
   "id": "4d55c04d",
   "metadata": {},
   "outputs": [],
   "source": [
    "def create_dense_model() -> keras.Model:\n",
    "    # Creating layers\n",
    "    inputs = keras.layers.Input(shape=(78, ))\n",
    "    x = keras.layers.Dense(128, activation='relu')(inputs)\n",
    "    x = keras.layers.Dense(64, activation='relu')(x)\n",
    "    x = keras.layers.Dense(32, activation='relu')(x)\n",
    "    outputs = keras.layers.Dense(15, activation='softmax')(x)\n",
    "    dense_model = keras.Model(inputs=inputs, outputs=outputs)\n",
    "\n",
    "    dense_model.compile(loss='sparse_categorical_crossentropy',\n",
    "                        metrics=['sparse_categorical_accuracy'],\n",
    "                        optimizer='adam')\n",
    "\n",
    "    return dense_model"
   ]
  },
  {
   "cell_type": "code",
   "execution_count": 5,
   "id": "c186be66",
   "metadata": {},
   "outputs": [
    {
     "name": "stdout",
     "output_type": "stream",
     "text": [
      "Model: \"model\"\n",
      "_________________________________________________________________\n",
      " Layer (type)                Output Shape              Param #   \n",
      "=================================================================\n",
      " input_1 (InputLayer)        [(None, 78)]              0         \n",
      "                                                                 \n",
      " dense (Dense)               (None, 128)               10112     \n",
      "                                                                 \n",
      " dense_1 (Dense)             (None, 64)                8256      \n",
      "                                                                 \n",
      " dense_2 (Dense)             (None, 32)                2080      \n",
      "                                                                 \n",
      " dense_3 (Dense)             (None, 15)                495       \n",
      "                                                                 \n",
      "=================================================================\n",
      "Total params: 20,943\n",
      "Trainable params: 20,943\n",
      "Non-trainable params: 0\n",
      "_________________________________________________________________\n"
     ]
    },
    {
     "name": "stderr",
     "output_type": "stream",
     "text": [
      "18:20:39 INFO None\n"
     ]
    }
   ],
   "source": [
    "# Create model\n",
    "model = create_dense_model()\n",
    "logging.info(model.summary())"
   ]
  },
  {
   "cell_type": "code",
   "execution_count": 6,
   "id": "b7b25137",
   "metadata": {},
   "outputs": [
    {
     "data": {
      "image/png": "[encoded data removed]",
      "text/plain": [
       "<IPython.core.display.Image object>"
      ]
     },
     "execution_count": 6,
     "metadata": {},
     "output_type": "execute_result"
    }
   ],
   "source": [
    "plot_model(model, show_shapes=True)"
   ]
  },
  {
   "cell_type": "code",
   "execution_count": 7,
   "id": "a5614291",
   "metadata": {},
   "outputs": [
    {
     "name": "stderr",
     "output_type": "stream",
     "text": [
      "18:20:50 INFO Class distribution\n",
      "BENIGN                      1818282\n",
      "DoS Hulk                     184043\n",
      "PortScan                     127284\n",
      "DDoS                         102225\n",
      "DoS GoldenEye                  8284\n",
      "FTP-Patator                    6345\n",
      "SSH-Patator                    4707\n",
      "DoS slowloris                  4633\n",
      "DoS Slowhttptest               4370\n",
      "Bot                            1564\n",
      "Web Attack-Brute Force         1210\n",
      "Web Attack-XSS                  507\n",
      "Infiltration                     30\n",
      "Web Attack-Sql Injection         15\n",
      "Heartbleed                        9\n",
      "Name: Label, dtype: int64\n"
     ]
    },
    {
     "name": "stdout",
     "output_type": "stream",
     "text": [
      "(2263508, 79)\n"
     ]
    }
   ],
   "source": [
    "# Training\n",
    "df = pd.read_csv(os.path.join(PROCESSED_DIR_PATH, 'train_MachineLearningCVE.csv'), skipinitialspace=True)\n",
    "df.drop('Unnamed: 0', axis=1, inplace=True)\n",
    "logging.info(\"Class distribution\\n{}\".format(df.Label.value_counts()))\n",
    "print(df.shape)"
   ]
  },
  {
   "cell_type": "code",
   "execution_count": 8,
   "id": "64bdfb5a",
   "metadata": {},
   "outputs": [],
   "source": [
    "X, y = preprocessing(df)\n",
    "del df"
   ]
  },
  {
   "cell_type": "code",
   "execution_count": 9,
   "id": "4777a0cb",
   "metadata": {},
   "outputs": [
    {
     "name": "stderr",
     "output_type": "stream",
     "text": [
      "18:20:58 INFO *** TRAINING START ***\n"
     ]
    },
    {
     "name": "stdout",
     "output_type": "stream",
     "text": [
      "Epoch 1/125\n",
      "1990/1990 [==============================] - 9s 4ms/step - loss: 0.1715 - sparse_categorical_accuracy: 0.9455 - val_loss: 0.0803 - val_sparse_categorical_accuracy: 0.9682\n",
      "Epoch 2/125\n",
      "1990/1990 [==============================] - 8s 4ms/step - loss: 0.0698 - sparse_categorical_accuracy: 0.9727 - val_loss: 0.0596 - val_sparse_categorical_accuracy: 0.9745\n",
      "Epoch 3/125\n",
      "1990/1990 [==============================] - 8s 4ms/step - loss: 0.0585 - sparse_categorical_accuracy: 0.9761 - val_loss: 0.0524 - val_sparse_categorical_accuracy: 0.9779\n",
      "Epoch 4/125\n",
      "1990/1990 [==============================] - 8s 4ms/step - loss: 0.0525 - sparse_categorical_accuracy: 0.9777 - val_loss: 0.0531 - val_sparse_categorical_accuracy: 0.9772\n",
      "Epoch 5/125\n",
      "1990/1990 [==============================] - 8s 4ms/step - loss: 0.0488 - sparse_categorical_accuracy: 0.9788 - val_loss: 0.0469 - val_sparse_categorical_accuracy: 0.9800\n",
      "Epoch 6/125\n",
      "1990/1990 [==============================] - 8s 4ms/step - loss: 0.0462 - sparse_categorical_accuracy: 0.9796 - val_loss: 0.0490 - val_sparse_categorical_accuracy: 0.9764\n",
      "Epoch 7/125\n",
      "1990/1990 [==============================] - 8s 4ms/step - loss: 0.0442 - sparse_categorical_accuracy: 0.9803 - val_loss: 0.0433 - val_sparse_categorical_accuracy: 0.9826\n",
      "Epoch 8/125\n",
      "1990/1990 [==============================] - 8s 4ms/step - loss: 0.0423 - sparse_categorical_accuracy: 0.9812 - val_loss: 0.0410 - val_sparse_categorical_accuracy: 0.9828\n",
      "Epoch 9/125\n",
      "1990/1990 [==============================] - 9s 4ms/step - loss: 0.0411 - sparse_categorical_accuracy: 0.9820 - val_loss: 0.0399 - val_sparse_categorical_accuracy: 0.9834\n",
      "Epoch 10/125\n",
      "1990/1990 [==============================] - 8s 4ms/step - loss: 0.0401 - sparse_categorical_accuracy: 0.9826 - val_loss: 0.0370 - val_sparse_categorical_accuracy: 0.9847\n",
      "Epoch 11/125\n",
      "1990/1990 [==============================] - 8s 4ms/step - loss: 0.0394 - sparse_categorical_accuracy: 0.9830 - val_loss: 0.0408 - val_sparse_categorical_accuracy: 0.9831\n",
      "Epoch 12/125\n",
      "1990/1990 [==============================] - 8s 4ms/step - loss: 0.0385 - sparse_categorical_accuracy: 0.9836 - val_loss: 0.0364 - val_sparse_categorical_accuracy: 0.9835\n",
      "Epoch 13/125\n",
      "1990/1990 [==============================] - 8s 4ms/step - loss: 0.0381 - sparse_categorical_accuracy: 0.9838 - val_loss: 0.0398 - val_sparse_categorical_accuracy: 0.9842\n",
      "Epoch 14/125\n",
      "1990/1990 [==============================] - 9s 4ms/step - loss: 0.0375 - sparse_categorical_accuracy: 0.9841 - val_loss: 0.0349 - val_sparse_categorical_accuracy: 0.9859\n",
      "Epoch 15/125\n",
      "1990/1990 [==============================] - 8s 4ms/step - loss: 0.0369 - sparse_categorical_accuracy: 0.9844 - val_loss: 0.0360 - val_sparse_categorical_accuracy: 0.9846\n",
      "Epoch 16/125\n",
      "1990/1990 [==============================] - 9s 4ms/step - loss: 0.0368 - sparse_categorical_accuracy: 0.9846 - val_loss: 0.0406 - val_sparse_categorical_accuracy: 0.9828\n",
      "Epoch 17/125\n",
      "1990/1990 [==============================] - 8s 4ms/step - loss: 0.0361 - sparse_categorical_accuracy: 0.9849 - val_loss: 0.0352 - val_sparse_categorical_accuracy: 0.9864\n",
      "Epoch 18/125\n",
      "1990/1990 [==============================] - 9s 4ms/step - loss: 0.0357 - sparse_categorical_accuracy: 0.9852 - val_loss: 0.0367 - val_sparse_categorical_accuracy: 0.9842\n",
      "Epoch 19/125\n",
      "1990/1990 [==============================] - 8s 4ms/step - loss: 0.0352 - sparse_categorical_accuracy: 0.9855 - val_loss: 0.0351 - val_sparse_categorical_accuracy: 0.9857\n",
      "Epoch 20/125\n",
      "1990/1990 [==============================] - 8s 4ms/step - loss: 0.0351 - sparse_categorical_accuracy: 0.9854 - val_loss: 0.0331 - val_sparse_categorical_accuracy: 0.9870\n",
      "Epoch 21/125\n",
      "1990/1990 [==============================] - 8s 4ms/step - loss: 0.0346 - sparse_categorical_accuracy: 0.9858 - val_loss: 0.0333 - val_sparse_categorical_accuracy: 0.9862\n",
      "Epoch 22/125\n",
      "1990/1990 [==============================] - 8s 4ms/step - loss: 0.0343 - sparse_categorical_accuracy: 0.9860 - val_loss: 0.0328 - val_sparse_categorical_accuracy: 0.9875\n",
      "Epoch 23/125\n",
      "1990/1990 [==============================] - 8s 4ms/step - loss: 0.0341 - sparse_categorical_accuracy: 0.9860 - val_loss: 0.0325 - val_sparse_categorical_accuracy: 0.9873\n",
      "Epoch 24/125\n",
      "1990/1990 [==============================] - 8s 4ms/step - loss: 0.0339 - sparse_categorical_accuracy: 0.9861 - val_loss: 0.0334 - val_sparse_categorical_accuracy: 0.9863\n",
      "Epoch 25/125\n",
      "1990/1990 [==============================] - 8s 4ms/step - loss: 0.0335 - sparse_categorical_accuracy: 0.9863 - val_loss: 0.0344 - val_sparse_categorical_accuracy: 0.9861\n",
      "Epoch 26/125\n",
      "1990/1990 [==============================] - 8s 4ms/step - loss: 0.0335 - sparse_categorical_accuracy: 0.9862 - val_loss: 0.0330 - val_sparse_categorical_accuracy: 0.9866\n",
      "Epoch 27/125\n",
      "1990/1990 [==============================] - 8s 4ms/step - loss: 0.0332 - sparse_categorical_accuracy: 0.9864 - val_loss: 0.0321 - val_sparse_categorical_accuracy: 0.9868\n",
      "Epoch 28/125\n",
      "1990/1990 [==============================] - 8s 4ms/step - loss: 0.0330 - sparse_categorical_accuracy: 0.9864 - val_loss: 0.0321 - val_sparse_categorical_accuracy: 0.9872\n",
      "Epoch 29/125\n",
      "1990/1990 [==============================] - 8s 4ms/step - loss: 0.0327 - sparse_categorical_accuracy: 0.9866 - val_loss: 0.0316 - val_sparse_categorical_accuracy: 0.9872\n",
      "Epoch 30/125\n",
      "1990/1990 [==============================] - 8s 4ms/step - loss: 0.0326 - sparse_categorical_accuracy: 0.9867 - val_loss: 0.0330 - val_sparse_categorical_accuracy: 0.9868\n",
      "Epoch 31/125\n",
      "1990/1990 [==============================] - 8s 4ms/step - loss: 0.0322 - sparse_categorical_accuracy: 0.9868 - val_loss: 0.0321 - val_sparse_categorical_accuracy: 0.9873\n",
      "Epoch 32/125\n",
      "1990/1990 [==============================] - 8s 4ms/step - loss: 0.0321 - sparse_categorical_accuracy: 0.9869 - val_loss: 0.0314 - val_sparse_categorical_accuracy: 0.9876\n",
      "Epoch 33/125\n",
      "1990/1990 [==============================] - 8s 4ms/step - loss: 0.0318 - sparse_categorical_accuracy: 0.9870 - val_loss: 0.0318 - val_sparse_categorical_accuracy: 0.9867\n",
      "Epoch 34/125\n",
      "1990/1990 [==============================] - 8s 4ms/step - loss: 0.0318 - sparse_categorical_accuracy: 0.9870 - val_loss: 0.0345 - val_sparse_categorical_accuracy: 0.9862\n",
      "Epoch 35/125\n",
      "1990/1990 [==============================] - 8s 4ms/step - loss: 0.0315 - sparse_categorical_accuracy: 0.9870 - val_loss: 0.0324 - val_sparse_categorical_accuracy: 0.9869\n",
      "Epoch 36/125\n",
      "1990/1990 [==============================] - 8s 4ms/step - loss: 0.0314 - sparse_categorical_accuracy: 0.9871 - val_loss: 0.0320 - val_sparse_categorical_accuracy: 0.9864\n",
      "Epoch 37/125\n",
      "1990/1990 [==============================] - 8s 4ms/step - loss: 0.0311 - sparse_categorical_accuracy: 0.9872 - val_loss: 0.0300 - val_sparse_categorical_accuracy: 0.9878\n",
      "Epoch 38/125\n",
      "1990/1990 [==============================] - 8s 4ms/step - loss: 0.0307 - sparse_categorical_accuracy: 0.9873 - val_loss: 0.0305 - val_sparse_categorical_accuracy: 0.9879\n",
      "Epoch 39/125\n",
      "1990/1990 [==============================] - 8s 4ms/step - loss: 0.0305 - sparse_categorical_accuracy: 0.9873 - val_loss: 0.0301 - val_sparse_categorical_accuracy: 0.9875\n",
      "Epoch 40/125\n",
      "1990/1990 [==============================] - 8s 4ms/step - loss: 0.0303 - sparse_categorical_accuracy: 0.9874 - val_loss: 0.0295 - val_sparse_categorical_accuracy: 0.9882\n",
      "Epoch 41/125\n",
      "1990/1990 [==============================] - 8s 4ms/step - loss: 0.0301 - sparse_categorical_accuracy: 0.9874 - val_loss: 0.0295 - val_sparse_categorical_accuracy: 0.9880\n",
      "Epoch 42/125\n",
      "1990/1990 [==============================] - 8s 4ms/step - loss: 0.0299 - sparse_categorical_accuracy: 0.9875 - val_loss: 0.0287 - val_sparse_categorical_accuracy: 0.9880\n",
      "Epoch 43/125\n",
      "1990/1990 [==============================] - 8s 4ms/step - loss: 0.0296 - sparse_categorical_accuracy: 0.9875 - val_loss: 0.0287 - val_sparse_categorical_accuracy: 0.9880\n",
      "Epoch 44/125\n",
      "1990/1990 [==============================] - 8s 4ms/step - loss: 0.0294 - sparse_categorical_accuracy: 0.9877 - val_loss: 0.0287 - val_sparse_categorical_accuracy: 0.9877\n",
      "Epoch 45/125\n"
     ]
    },
    {
     "name": "stdout",
     "output_type": "stream",
     "text": [
      "1990/1990 [==============================] - 7s 4ms/step - loss: 0.0292 - sparse_categorical_accuracy: 0.9877 - val_loss: 0.0283 - val_sparse_categorical_accuracy: 0.9885\n",
      "Epoch 46/125\n",
      "1990/1990 [==============================] - 8s 4ms/step - loss: 0.0289 - sparse_categorical_accuracy: 0.9878 - val_loss: 0.0308 - val_sparse_categorical_accuracy: 0.9865\n",
      "Epoch 47/125\n",
      "1990/1990 [==============================] - 8s 4ms/step - loss: 0.0290 - sparse_categorical_accuracy: 0.9878 - val_loss: 0.0286 - val_sparse_categorical_accuracy: 0.9878\n",
      "Epoch 48/125\n",
      "1990/1990 [==============================] - 7s 4ms/step - loss: 0.0285 - sparse_categorical_accuracy: 0.9879 - val_loss: 0.0279 - val_sparse_categorical_accuracy: 0.9882\n",
      "Epoch 49/125\n",
      "1990/1990 [==============================] - 8s 4ms/step - loss: 0.0283 - sparse_categorical_accuracy: 0.9880 - val_loss: 0.0275 - val_sparse_categorical_accuracy: 0.9891\n",
      "Epoch 50/125\n",
      "1990/1990 [==============================] - 8s 4ms/step - loss: 0.0279 - sparse_categorical_accuracy: 0.9882 - val_loss: 0.0282 - val_sparse_categorical_accuracy: 0.9885\n",
      "Epoch 51/125\n",
      "1990/1990 [==============================] - 7s 4ms/step - loss: 0.0273 - sparse_categorical_accuracy: 0.9885 - val_loss: 0.0277 - val_sparse_categorical_accuracy: 0.9898\n",
      "Epoch 52/125\n",
      "1990/1990 [==============================] - 8s 4ms/step - loss: 0.0270 - sparse_categorical_accuracy: 0.9886 - val_loss: 0.0290 - val_sparse_categorical_accuracy: 0.9885\n",
      "Epoch 53/125\n",
      "1990/1990 [==============================] - 7s 4ms/step - loss: 0.0264 - sparse_categorical_accuracy: 0.9888 - val_loss: 0.0249 - val_sparse_categorical_accuracy: 0.9901\n",
      "Epoch 54/125\n",
      "1990/1990 [==============================] - 8s 4ms/step - loss: 0.0253 - sparse_categorical_accuracy: 0.9897 - val_loss: 0.0237 - val_sparse_categorical_accuracy: 0.9911\n",
      "Epoch 55/125\n",
      "1990/1990 [==============================] - 8s 4ms/step - loss: 0.0239 - sparse_categorical_accuracy: 0.9906 - val_loss: 0.0225 - val_sparse_categorical_accuracy: 0.9924\n",
      "Epoch 56/125\n",
      "1990/1990 [==============================] - 8s 4ms/step - loss: 0.0214 - sparse_categorical_accuracy: 0.9925 - val_loss: 0.0217 - val_sparse_categorical_accuracy: 0.9937\n",
      "Epoch 57/125\n",
      "1990/1990 [==============================] - 8s 4ms/step - loss: 0.0187 - sparse_categorical_accuracy: 0.9943 - val_loss: 0.0182 - val_sparse_categorical_accuracy: 0.9941\n",
      "Epoch 58/125\n",
      "1990/1990 [==============================] - 8s 4ms/step - loss: 0.0158 - sparse_categorical_accuracy: 0.9955 - val_loss: 0.0138 - val_sparse_categorical_accuracy: 0.9961\n",
      "Epoch 59/125\n",
      "1990/1990 [==============================] - 8s 4ms/step - loss: 0.0147 - sparse_categorical_accuracy: 0.9958 - val_loss: 0.0140 - val_sparse_categorical_accuracy: 0.9958\n",
      "Epoch 60/125\n",
      "1990/1990 [==============================] - 8s 4ms/step - loss: 0.0134 - sparse_categorical_accuracy: 0.9961 - val_loss: 0.0127 - val_sparse_categorical_accuracy: 0.9963\n",
      "Epoch 61/125\n",
      "1990/1990 [==============================] - 8s 4ms/step - loss: 0.0134 - sparse_categorical_accuracy: 0.9961 - val_loss: 0.0113 - val_sparse_categorical_accuracy: 0.9967\n",
      "Epoch 62/125\n",
      "1990/1990 [==============================] - 8s 4ms/step - loss: 0.0132 - sparse_categorical_accuracy: 0.9960 - val_loss: 0.0130 - val_sparse_categorical_accuracy: 0.9959\n",
      "Epoch 63/125\n",
      "1990/1990 [==============================] - 8s 4ms/step - loss: 0.0131 - sparse_categorical_accuracy: 0.9960 - val_loss: 0.0119 - val_sparse_categorical_accuracy: 0.9964\n",
      "Epoch 64/125\n",
      "1990/1990 [==============================] - 8s 4ms/step - loss: 0.0132 - sparse_categorical_accuracy: 0.9960 - val_loss: 0.0123 - val_sparse_categorical_accuracy: 0.9965\n",
      "Epoch 65/125\n",
      "1990/1990 [==============================] - 8s 4ms/step - loss: 0.0127 - sparse_categorical_accuracy: 0.9961 - val_loss: 0.0117 - val_sparse_categorical_accuracy: 0.9965\n",
      "Epoch 66/125\n",
      "1990/1990 [==============================] - 8s 4ms/step - loss: 0.0127 - sparse_categorical_accuracy: 0.9961 - val_loss: 0.0131 - val_sparse_categorical_accuracy: 0.9959\n",
      "Epoch 67/125\n",
      "1990/1990 [==============================] - 8s 4ms/step - loss: 0.0134 - sparse_categorical_accuracy: 0.9959 - val_loss: 0.0132 - val_sparse_categorical_accuracy: 0.9961\n",
      "Epoch 68/125\n",
      "1990/1990 [==============================] - 8s 4ms/step - loss: 0.0125 - sparse_categorical_accuracy: 0.9961 - val_loss: 0.0127 - val_sparse_categorical_accuracy: 0.9965\n",
      "Epoch 69/125\n",
      "1990/1990 [==============================] - 8s 4ms/step - loss: 0.0131 - sparse_categorical_accuracy: 0.9959 - val_loss: 0.0116 - val_sparse_categorical_accuracy: 0.9965\n",
      "Epoch 70/125\n",
      "1990/1990 [==============================] - 8s 4ms/step - loss: 0.0121 - sparse_categorical_accuracy: 0.9962 - val_loss: 0.0111 - val_sparse_categorical_accuracy: 0.9966\n",
      "Epoch 71/125\n",
      "1990/1990 [==============================] - 8s 4ms/step - loss: 0.0128 - sparse_categorical_accuracy: 0.9961 - val_loss: 0.0181 - val_sparse_categorical_accuracy: 0.9939\n",
      "Epoch 72/125\n",
      "1990/1990 [==============================] - 8s 4ms/step - loss: 0.0123 - sparse_categorical_accuracy: 0.9962 - val_loss: 0.0114 - val_sparse_categorical_accuracy: 0.9964\n",
      "Epoch 73/125\n",
      "1990/1990 [==============================] - 8s 4ms/step - loss: 0.0257 - sparse_categorical_accuracy: 0.9892 - val_loss: 0.0280 - val_sparse_categorical_accuracy: 0.9886\n",
      "Epoch 74/125\n",
      "1990/1990 [==============================] - 8s 4ms/step - loss: 0.0272 - sparse_categorical_accuracy: 0.9884 - val_loss: 0.0274 - val_sparse_categorical_accuracy: 0.9893\n",
      "Epoch 75/125\n",
      "1990/1990 [==============================] - 8s 4ms/step - loss: 0.0265 - sparse_categorical_accuracy: 0.9887 - val_loss: 0.0291 - val_sparse_categorical_accuracy: 0.9884\n",
      "Epoch 76/125\n",
      "1990/1990 [==============================] - 8s 4ms/step - loss: 0.0265 - sparse_categorical_accuracy: 0.9887 - val_loss: 0.0270 - val_sparse_categorical_accuracy: 0.9886\n",
      "Epoch 77/125\n",
      "1990/1990 [==============================] - 8s 4ms/step - loss: 0.0259 - sparse_categorical_accuracy: 0.9890 - val_loss: 0.0244 - val_sparse_categorical_accuracy: 0.9895\n",
      "Epoch 78/125\n",
      "1990/1990 [==============================] - 8s 4ms/step - loss: 0.0255 - sparse_categorical_accuracy: 0.9893 - val_loss: 0.0273 - val_sparse_categorical_accuracy: 0.9900\n",
      "Epoch 79/125\n",
      "1990/1990 [==============================] - 8s 4ms/step - loss: 0.0248 - sparse_categorical_accuracy: 0.9897 - val_loss: 0.0232 - val_sparse_categorical_accuracy: 0.9906\n",
      "Epoch 80/125\n",
      "1990/1990 [==============================] - 8s 4ms/step - loss: 0.0239 - sparse_categorical_accuracy: 0.9903 - val_loss: 0.0237 - val_sparse_categorical_accuracy: 0.9920\n",
      "Epoch 81/125\n",
      "1990/1990 [==============================] - 8s 4ms/step - loss: 0.0235 - sparse_categorical_accuracy: 0.9905 - val_loss: 0.0236 - val_sparse_categorical_accuracy: 0.9925\n",
      "Epoch 82/125\n",
      "1990/1990 [==============================] - 8s 4ms/step - loss: 0.0229 - sparse_categorical_accuracy: 0.9910 - val_loss: 0.0211 - val_sparse_categorical_accuracy: 0.9936\n",
      "Epoch 83/125\n",
      "1990/1990 [==============================] - 8s 4ms/step - loss: 0.0217 - sparse_categorical_accuracy: 0.9918 - val_loss: 0.0210 - val_sparse_categorical_accuracy: 0.9926\n",
      "Epoch 84/125\n",
      "1990/1990 [==============================] - 8s 4ms/step - loss: 0.0202 - sparse_categorical_accuracy: 0.9928 - val_loss: 0.0196 - val_sparse_categorical_accuracy: 0.9945\n",
      "Epoch 85/125\n",
      "1990/1990 [==============================] - 8s 4ms/step - loss: 0.0194 - sparse_categorical_accuracy: 0.9934 - val_loss: 0.0177 - val_sparse_categorical_accuracy: 0.9947\n",
      "Epoch 86/125\n",
      "1990/1990 [==============================] - 8s 4ms/step - loss: 0.0181 - sparse_categorical_accuracy: 0.9941 - val_loss: 0.0210 - val_sparse_categorical_accuracy: 0.9913\n",
      "Epoch 87/125\n",
      "1990/1990 [==============================] - 8s 4ms/step - loss: 0.0167 - sparse_categorical_accuracy: 0.9948 - val_loss: 0.0157 - val_sparse_categorical_accuracy: 0.9948\n",
      "Epoch 88/125\n",
      "1990/1990 [==============================] - 8s 4ms/step - loss: 0.0153 - sparse_categorical_accuracy: 0.9955 - val_loss: 0.0138 - val_sparse_categorical_accuracy: 0.9961\n",
      "Epoch 89/125\n"
     ]
    },
    {
     "name": "stdout",
     "output_type": "stream",
     "text": [
      "1990/1990 [==============================] - 7s 4ms/step - loss: 0.0146 - sparse_categorical_accuracy: 0.9957 - val_loss: 0.0126 - val_sparse_categorical_accuracy: 0.9969\n",
      "Epoch 90/125\n",
      "1990/1990 [==============================] - 8s 4ms/step - loss: 0.0141 - sparse_categorical_accuracy: 0.9959 - val_loss: 0.0126 - val_sparse_categorical_accuracy: 0.9964\n",
      "Epoch 91/125\n",
      "1990/1990 [==============================] - 8s 4ms/step - loss: 0.0144 - sparse_categorical_accuracy: 0.9958 - val_loss: 0.0129 - val_sparse_categorical_accuracy: 0.9964\n",
      "Epoch 92/125\n",
      "1990/1990 [==============================] - 8s 4ms/step - loss: 0.0129 - sparse_categorical_accuracy: 0.9962 - val_loss: 0.0118 - val_sparse_categorical_accuracy: 0.9966\n",
      "Epoch 93/125\n",
      "1990/1990 [==============================] - 8s 4ms/step - loss: 0.0132 - sparse_categorical_accuracy: 0.9960 - val_loss: 0.0121 - val_sparse_categorical_accuracy: 0.9965\n",
      "Epoch 94/125\n",
      "1990/1990 [==============================] - 8s 4ms/step - loss: 0.0131 - sparse_categorical_accuracy: 0.9962 - val_loss: 0.0117 - val_sparse_categorical_accuracy: 0.9969\n",
      "Epoch 95/125\n",
      "1990/1990 [==============================] - 8s 4ms/step - loss: 0.0130 - sparse_categorical_accuracy: 0.9962 - val_loss: 0.0116 - val_sparse_categorical_accuracy: 0.9967\n",
      "Epoch 96/125\n",
      "1990/1990 [==============================] - 8s 4ms/step - loss: 0.0129 - sparse_categorical_accuracy: 0.9961 - val_loss: 0.0131 - val_sparse_categorical_accuracy: 0.9967\n",
      "Epoch 97/125\n",
      "1990/1990 [==============================] - 8s 4ms/step - loss: 0.0126 - sparse_categorical_accuracy: 0.9962 - val_loss: 0.0125 - val_sparse_categorical_accuracy: 0.9965\n",
      "Epoch 98/125\n",
      "1990/1990 [==============================] - 8s 4ms/step - loss: 0.0129 - sparse_categorical_accuracy: 0.9963 - val_loss: 0.0121 - val_sparse_categorical_accuracy: 0.9967\n",
      "Epoch 99/125\n",
      "1990/1990 [==============================] - 7s 4ms/step - loss: 0.0126 - sparse_categorical_accuracy: 0.9961 - val_loss: 0.0173 - val_sparse_categorical_accuracy: 0.9940\n",
      "Epoch 100/125\n",
      "1990/1990 [==============================] - 8s 4ms/step - loss: 0.0125 - sparse_categorical_accuracy: 0.9962 - val_loss: 0.0120 - val_sparse_categorical_accuracy: 0.9964\n",
      "Epoch 101/125\n",
      "1990/1990 [==============================] - 8s 4ms/step - loss: 0.0131 - sparse_categorical_accuracy: 0.9959 - val_loss: 0.0154 - val_sparse_categorical_accuracy: 0.9957\n",
      "Epoch 102/125\n",
      "1990/1990 [==============================] - 8s 4ms/step - loss: 0.0120 - sparse_categorical_accuracy: 0.9963 - val_loss: 0.0129 - val_sparse_categorical_accuracy: 0.9961\n",
      "Epoch 103/125\n",
      "1990/1990 [==============================] - 8s 4ms/step - loss: 0.0127 - sparse_categorical_accuracy: 0.9962 - val_loss: 0.0115 - val_sparse_categorical_accuracy: 0.9966\n",
      "Epoch 104/125\n",
      "1990/1990 [==============================] - 8s 4ms/step - loss: 0.0126 - sparse_categorical_accuracy: 0.9963 - val_loss: 0.0126 - val_sparse_categorical_accuracy: 0.9967\n",
      "Epoch 105/125\n",
      "1990/1990 [==============================] - 8s 4ms/step - loss: 0.0128 - sparse_categorical_accuracy: 0.9960 - val_loss: 0.0110 - val_sparse_categorical_accuracy: 0.9968\n",
      "Epoch 106/125\n",
      "1990/1990 [==============================] - 8s 4ms/step - loss: 0.0126 - sparse_categorical_accuracy: 0.9962 - val_loss: 0.0122 - val_sparse_categorical_accuracy: 0.9965\n",
      "Epoch 107/125\n",
      "1990/1990 [==============================] - 8s 4ms/step - loss: 0.0120 - sparse_categorical_accuracy: 0.9964 - val_loss: 0.0109 - val_sparse_categorical_accuracy: 0.9969\n",
      "Epoch 108/125\n",
      "1990/1990 [==============================] - 8s 4ms/step - loss: 0.0133 - sparse_categorical_accuracy: 0.9959 - val_loss: 0.0155 - val_sparse_categorical_accuracy: 0.9953\n",
      "Epoch 109/125\n",
      "1990/1990 [==============================] - 8s 4ms/step - loss: 0.0124 - sparse_categorical_accuracy: 0.9963 - val_loss: 0.0140 - val_sparse_categorical_accuracy: 0.9968\n",
      "Epoch 110/125\n",
      "1990/1990 [==============================] - 8s 4ms/step - loss: 0.0121 - sparse_categorical_accuracy: 0.9964 - val_loss: 0.0112 - val_sparse_categorical_accuracy: 0.9966\n",
      "Epoch 111/125\n",
      "1990/1990 [==============================] - 8s 4ms/step - loss: 0.0135 - sparse_categorical_accuracy: 0.9961 - val_loss: 0.0113 - val_sparse_categorical_accuracy: 0.9968\n",
      "Epoch 112/125\n",
      "1990/1990 [==============================] - 8s 4ms/step - loss: 0.0122 - sparse_categorical_accuracy: 0.9963 - val_loss: 0.0116 - val_sparse_categorical_accuracy: 0.9966\n",
      "Epoch 113/125\n",
      "1990/1990 [==============================] - 8s 4ms/step - loss: 0.0118 - sparse_categorical_accuracy: 0.9965 - val_loss: 0.0158 - val_sparse_categorical_accuracy: 0.9962\n",
      "Epoch 114/125\n",
      "1990/1990 [==============================] - 8s 4ms/step - loss: 0.0131 - sparse_categorical_accuracy: 0.9961 - val_loss: 0.0123 - val_sparse_categorical_accuracy: 0.9967\n",
      "Epoch 115/125\n",
      "1990/1990 [==============================] - 8s 4ms/step - loss: 0.0123 - sparse_categorical_accuracy: 0.9962 - val_loss: 0.0114 - val_sparse_categorical_accuracy: 0.9968\n",
      "Epoch 116/125\n",
      "1990/1990 [==============================] - 8s 4ms/step - loss: 0.0121 - sparse_categorical_accuracy: 0.9964 - val_loss: 0.0127 - val_sparse_categorical_accuracy: 0.9965\n",
      "Epoch 117/125\n",
      "1990/1990 [==============================] - 8s 4ms/step - loss: 0.0122 - sparse_categorical_accuracy: 0.9963 - val_loss: 0.0111 - val_sparse_categorical_accuracy: 0.9967\n",
      "Epoch 118/125\n",
      "1990/1990 [==============================] - 8s 4ms/step - loss: 0.0122 - sparse_categorical_accuracy: 0.9962 - val_loss: 0.0132 - val_sparse_categorical_accuracy: 0.9964\n",
      "Epoch 119/125\n",
      "1990/1990 [==============================] - 8s 4ms/step - loss: 0.0122 - sparse_categorical_accuracy: 0.9964 - val_loss: 0.0109 - val_sparse_categorical_accuracy: 0.9972\n",
      "Epoch 120/125\n",
      "1990/1990 [==============================] - 8s 4ms/step - loss: 0.0121 - sparse_categorical_accuracy: 0.9963 - val_loss: 0.0151 - val_sparse_categorical_accuracy: 0.9959\n",
      "Epoch 121/125\n",
      "1990/1990 [==============================] - 8s 4ms/step - loss: 0.0117 - sparse_categorical_accuracy: 0.9964 - val_loss: 0.0109 - val_sparse_categorical_accuracy: 0.9967\n",
      "Epoch 122/125\n",
      "1990/1990 [==============================] - 8s 4ms/step - loss: 0.0126 - sparse_categorical_accuracy: 0.9961 - val_loss: 0.0156 - val_sparse_categorical_accuracy: 0.9955\n",
      "Epoch 123/125\n",
      "1990/1990 [==============================] - 8s 4ms/step - loss: 0.0118 - sparse_categorical_accuracy: 0.9965 - val_loss: 0.0111 - val_sparse_categorical_accuracy: 0.9964\n",
      "Epoch 124/125\n",
      "1990/1990 [==============================] - 8s 4ms/step - loss: 0.0114 - sparse_categorical_accuracy: 0.9965 - val_loss: 0.0107 - val_sparse_categorical_accuracy: 0.9969\n",
      "Epoch 125/125\n",
      "1990/1990 [==============================] - 8s 4ms/step - loss: 0.0123 - sparse_categorical_accuracy: 0.9963 - val_loss: 0.0110 - val_sparse_categorical_accuracy: 0.9967\n"
     ]
    }
   ],
   "source": [
    "# Training\n",
    "logging.info(\"*** TRAINING START ***\")\n",
    "history = model.fit(X, y, validation_split=0.1, epochs=125, batch_size=1024, verbose=True)"
   ]
  },
  {
   "cell_type": "code",
   "execution_count": 10,
   "id": "d3134191",
   "metadata": {},
   "outputs": [
    {
     "name": "stderr",
     "output_type": "stream",
     "text": [
      "18:37:29 INFO *** TRAINING FINISH ***\n"
     ]
    }
   ],
   "source": [
    "logging.info(\"*** TRAINING FINISH ***\")\n",
    "del X, y"
   ]
  },
  {
   "cell_type": "code",
   "execution_count": 11,
   "id": "f5337710",
   "metadata": {},
   "outputs": [
    {
     "data": {
      "image/png": "[encoded data removed]",
      "text/plain": [
       "<Figure size 432x288 with 1 Axes>"
      ]
     },
     "metadata": {
      "needs_background": "light"
     },
     "output_type": "display_data"
    },
    {
     "data": {
      "image/png": "[encoded data removed]",
      "text/plain": [
       "<Figure size 432x288 with 1 Axes>"
      ]
     },
     "metadata": {
      "needs_background": "light"
     },
     "output_type": "display_data"
    }
   ],
   "source": [
    "# Save the model\n",
    "model.save(os.path.join(MODEL_DIR_PATH, \"05_dense.h5\"))\n",
    "\n",
    "plot_history(history)"
   ]
  },
  {
   "cell_type": "code",
   "execution_count": 12,
   "id": "51c21818",
   "metadata": {},
   "outputs": [
    {
     "name": "stderr",
     "output_type": "stream",
     "text": [
      "18:37:32 INFO Class distribution\n",
      "BENIGN                      454406\n",
      "DoS Hulk                     46081\n",
      "PortScan                     31646\n",
      "DDoS                         25802\n",
      "DoS GoldenEye                 2009\n",
      "FTP-Patator                   1593\n",
      "SSH-Patator                   1190\n",
      "DoS slowloris                 1163\n",
      "DoS Slowhttptest              1129\n",
      "Bot                            402\n",
      "Web Attack-Brute Force         297\n",
      "Web Attack-XSS                 145\n",
      "Web Attack-Sql Injection         6\n",
      "Infiltration                     6\n",
      "Heartbleed                       2\n",
      "Name: Label, dtype: int64\n"
     ]
    }
   ],
   "source": [
    "# Evaluation\n",
    "df = pd.read_csv(os.path.join(PROCESSED_DIR_PATH, 'test_MachineLearningCVE.csv'), skipinitialspace=True)\n",
    "df.drop('Unnamed: 0', axis=1, inplace=True)\n",
    "logging.info(\"Class distribution\\n{}\".format(df.Label.value_counts()))"
   ]
  },
  {
   "cell_type": "code",
   "execution_count": 13,
   "id": "127f5b7b",
   "metadata": {},
   "outputs": [],
   "source": [
    "X, y = preprocessing(df)\n",
    "del df"
   ]
  },
  {
   "cell_type": "code",
   "execution_count": 14,
   "id": "cbd592ed",
   "metadata": {},
   "outputs": [
    {
     "name": "stderr",
     "output_type": "stream",
     "text": [
      "18:38:08 INFO Evaluation:\n",
      "Loss: 0.9315477609634399\n",
      "Accuracy : 0.9770056009292603\n",
      "\n",
      "18:38:09 INFO \n",
      "              precision    recall  f1-score   support\n",
      "\n",
      "           0       0.99      0.98      0.99    454406\n",
      "           1       0.98      0.40      0.56       402\n",
      "           2       1.00      0.99      0.99     25802\n",
      "           3       1.00      0.85      0.92      2009\n",
      "           4       0.99      0.96      0.98     46081\n",
      "           5       0.97      0.93      0.95      1129\n",
      "           6       0.98      0.87      0.92      1163\n",
      "           7       1.00      0.52      0.68      1593\n",
      "           8       1.00      1.00      1.00         2\n",
      "           9       0.01      0.67      0.01         6\n",
      "          10       0.82      1.00      0.90     31646\n",
      "          11       0.12      0.00      0.00      1190\n",
      "          12       0.92      0.04      0.07       297\n",
      "          13       0.00      0.00      0.00         6\n",
      "          14       0.50      0.03      0.06       145\n",
      "\n",
      "    accuracy                           0.98    565877\n",
      "   macro avg       0.75      0.62      0.60    565877\n",
      "weighted avg       0.98      0.98      0.98    565877\n",
      "\n"
     ]
    }
   ],
   "source": [
    "evaluation(model, X, y)\n",
    "del X, y"
   ]
  },
  {
   "cell_type": "code",
   "execution_count": 15,
   "id": "561267e4",
   "metadata": {},
   "outputs": [
    {
     "name": "stderr",
     "output_type": "stream",
     "text": [
      "18:38:10 INFO *** END ***\n"
     ]
    }
   ],
   "source": [
    "logging.info(\"*** END ***\")"
   ]
  }
 ],
 "metadata": {
  "kernelspec": {
   "display_name": "Python 3 (ipykernel)",
   "language": "python",
   "name": "python3"
  },
  "language_info": {
   "codemirror_mode": {
    "name": "ipython",
    "version": 3
   },
   "file_extension": ".py",
   "mimetype": "text/x-python",
   "name": "python",
   "nbconvert_exporter": "python",
   "pygments_lexer": "ipython3",
   "version": "3.9.0"
  }
 },
 "nbformat": 4,
 "nbformat_minor": 5
}
