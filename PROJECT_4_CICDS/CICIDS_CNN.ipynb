{
 "cells": [
  {
   "cell_type": "code",
   "execution_count": 1,
   "id": "333c1d53",
   "metadata": {},
   "outputs": [],
   "source": [
    "import os\n",
    "import logging\n",
    "\n",
    "import pandas as pd\n",
    "import tensorflow.keras as keras\n",
    "\n",
    "from tensorflow.keras.callbacks import ModelCheckpoint\n",
    "from tensorflow.keras.utils import plot_model\n",
    "\n",
    "# Log setting\n",
    "logging.basicConfig(format=\"%(asctime)s %(levelname)s %(message)s\", datefmt=\"%H:%M:%S\", level=logging.INFO)\n",
    "\n",
    "# Change display.max_rows to show all features.\n",
    "pd.set_option(\"display.max_rows\", 85)"
   ]
  },
  {
   "cell_type": "code",
   "execution_count": 2,
   "id": "127aa8fb",
   "metadata": {},
   "outputs": [],
   "source": [
    "PROCESSED_DIR_PATH = r'C:\\Users\\mkahs\\Repository\\CICIDS\\ProcessedDataset'\n",
    "MODEL_DIR_PATH = r\"C:\\Users\\mkahs\\Repository\\CICIDS\\Model\""
   ]
  },
  {
   "cell_type": "code",
   "execution_count": 3,
   "id": "435a88de",
   "metadata": {},
   "outputs": [],
   "source": [
    "import numpy as np\n",
    "import tensorflow as tf\n",
    "import matplotlib.pyplot as plt\n",
    "\n",
    "from sklearn.metrics import classification_report\n",
    "from sklearn.preprocessing import MinMaxScaler\n",
    "\n",
    "\n",
    "def preprocessing(df: pd.DataFrame) -> (np.ndarray, np.ndarray):\n",
    "    # Shuffle the dataset\n",
    "    df = df.sample(frac=1)\n",
    "    from sklearn.preprocessing import LabelEncoder\n",
    "    target=df['Label'].values.tolist()\n",
    "    label_encoder = LabelEncoder()\n",
    "    y = np.array(label_encoder.fit_transform(target))\n",
    "\n",
    "\n",
    "    # Split features and labels\n",
    "    df = df.replace((np.inf, -np.inf, np.nan), 0).reset_index(drop=True)\n",
    "    x = df.iloc[:, df.columns != 'Label']\n",
    "      \n",
    "#     y = df[['Label']].to_numpy()\n",
    "    \n",
    "#     x.drop('Label', axis=1, inplace=True)\n",
    "#     np.any(np.isnan(x))\n",
    "#     np.all(np.isfinite(x))\n",
    "#     np.any(np.isnan(y))\n",
    "#     np.all(np.isfinite(y))\n",
    "\n",
    "    # Scale the features between 0 ~ 1\n",
    "#     x = np.nan_to_num(x) \n",
    "#     y = np.nan_to_num(y) \n",
    "    scaler = MinMaxScaler()\n",
    "    x = scaler.fit_transform(x)\n",
    "\n",
    "    return x, y\n",
    "\n",
    "\n",
    "def reshape_dataset_cnn(x: np.ndarray) -> np.ndarray:\n",
    "    # Add padding columns\n",
    "    result = np.zeros((x.shape[0], 81))\n",
    "    result[:, :-3] = x\n",
    "\n",
    "    # Reshaping dataset\n",
    "    result = np.reshape(result, (result.shape[0], 9, 9))\n",
    "    result = result[..., tf.newaxis]\n",
    "    return result\n",
    "\n",
    "\n",
    "def plot_history(history: tf.keras.callbacks.History):\n",
    "    # summarize history for accuracy\n",
    "    plt.plot(history.history['sparse_categorical_accuracy'])\n",
    "    plt.plot(history.history['val_sparse_categorical_accuracy'])\n",
    "    plt.title('model2 accuracy')\n",
    "    plt.ylabel('accuracy')\n",
    "    plt.xlabel('epoch')\n",
    "    plt.legend(['train', 'test'], loc='upper left')\n",
    "    plt.show()\n",
    "\n",
    "    # summarize history for loss\n",
    "    plt.plot(history.history['loss'])\n",
    "    plt.plot(history.history['val_loss'])\n",
    "    plt.title('model2 loss')\n",
    "    plt.ylabel('loss')\n",
    "    plt.xlabel('epoch')\n",
    "    plt.legend(['train', 'test'], loc='upper left')\n",
    "    plt.show()\n",
    "\n",
    "\n",
    "def evaluation(model: keras.Model, x_test: np.ndarray, y_test: np.ndarray):\n",
    "    score = model.evaluate(x_test, y_test, verbose=False)\n",
    "    logging.info('Evaluation:\\nLoss: {}\\nAccuracy : {}\\n'.format(score[0], score[1]))\n",
    "\n",
    "    # F1 score\n",
    "    y_pred = model.predict(x_test, batch_size=1024, verbose=False)\n",
    "    y_pred = np.argmax(y_pred, axis=1)\n",
    "\n",
    "    logging.info(\"\\n{}\".format(classification_report(y_test, y_pred)))"
   ]
  },
  {
   "cell_type": "code",
   "execution_count": 21,
   "id": "0fdb48ce",
   "metadata": {},
   "outputs": [],
   "source": [
    "def create_cnn_model() -> keras.Model:\n",
    "    # Creating layers\n",
    "    inputs = keras.layers.Input(shape=(9, 9, 1))\n",
    "    x = keras.layers.Conv2D(120, 2, activation='relu', padding=\"same\")(inputs)\n",
    "    x = keras.layers.Conv2D(60, 3, activation='relu', padding=\"same\")(x)\n",
    "    x = keras.layers.Conv2D(30, 4, activation='relu', padding=\"same\")(x)\n",
    "    x = keras.layers.Flatten()(x)\n",
    "    outputs = keras.layers.Dense(15, activation='softmax')(x)\n",
    "    cnn_model = keras.Model(inputs=inputs, outputs=outputs, name='cnn')\n",
    "\n",
    "    # Compile layers\n",
    "    cnn_model.compile(loss='sparse_categorical_crossentropy',\n",
    "                      metrics=['sparse_categorical_accuracy'],\n",
    "                      optimizer='adam')\n",
    "\n",
    "    return cnn_model"
   ]
  },
  {
   "cell_type": "code",
   "execution_count": null,
   "id": "8c33a264",
   "metadata": {},
   "outputs": [],
   "source": [
    "# Create model\n",
    "model = create_cnn_model()\n",
    "logging.info(model.summary())"
   ]
  },
  {
   "cell_type": "code",
   "execution_count": 23,
   "id": "8b61a1a3",
   "metadata": {
    "scrolled": true
   },
   "outputs": [
    {
     "name": "stdout",
     "output_type": "stream",
     "text": [
      "Model: \"model\"\n",
      "_________________________________________________________________\n",
      " Layer (type)                Output Shape              Param #   \n",
      "=================================================================\n",
      " input_3 (InputLayer)        [(None, 78)]              0         \n",
      "                                                                 \n",
      " dense_2 (Dense)             (None, 128)               10112     \n",
      "                                                                 \n",
      " dense_3 (Dense)             (None, 64)                8256      \n",
      "                                                                 \n",
      " dense_4 (Dense)             (None, 32)                2080      \n",
      "                                                                 \n",
      " dense_5 (Dense)             (None, 15)                495       \n",
      "                                                                 \n",
      "=================================================================\n",
      "Total params: 20,943\n",
      "Trainable params: 20,943\n",
      "Non-trainable params: 0\n",
      "_________________________________________________________________\n"
     ]
    },
    {
     "name": "stderr",
     "output_type": "stream",
     "text": [
      "07:26:34 INFO None\n"
     ]
    }
   ],
   "source": []
  },
  {
   "cell_type": "code",
   "execution_count": 6,
   "id": "97345f37",
   "metadata": {},
   "outputs": [],
   "source": [
    "# !pip install pydot"
   ]
  },
  {
   "cell_type": "code",
   "execution_count": 24,
   "id": "e9a861e8",
   "metadata": {},
   "outputs": [
    {
     "data": {
      "image/png": "[encoded data removed]",
      "text/plain": [
       "<IPython.core.display.Image object>"
      ]
     },
     "execution_count": 24,
     "metadata": {},
     "output_type": "execute_result"
    }
   ],
   "source": [
    "plot_model(model, show_shapes=True)"
   ]
  },
  {
   "cell_type": "code",
   "execution_count": 25,
   "id": "d87729f4",
   "metadata": {},
   "outputs": [
    {
     "name": "stderr",
     "output_type": "stream",
     "text": [
      "07:27:11 INFO Class distribution\n",
      "BENIGN                      841966\n",
      "DoS Hulk                     85292\n",
      "PortScan                     59406\n",
      "DDoS                         47205\n",
      "DoS GoldenEye                 3759\n",
      "FTP-Patator                   2910\n",
      "SSH-Patator                   2214\n",
      "DoS slowloris                 2182\n",
      "DoS Slowhttptest              2034\n",
      "Bot                            773\n",
      "Web Attack-Brute Force         576\n",
      "Web Attack-XSS                 234\n",
      "Infiltration                    10\n",
      "Web Attack-Sql Injection         7\n",
      "Heartbleed                       7\n",
      "Name: Label, dtype: int64\n"
     ]
    }
   ],
   "source": [
    "# Training\n",
    "df = pd.read_csv(os.path.join(PROCESSED_DIR_PATH, 'train_MachineLearningCVE.csv'), skipinitialspace=True)\n",
    "logging.info(\"Class distribution\\n{}\".format(df.Label.value_counts()))"
   ]
  },
  {
   "cell_type": "code",
   "execution_count": null,
   "id": "f00a27d5",
   "metadata": {},
   "outputs": [],
   "source": []
  },
  {
   "cell_type": "code",
   "execution_count": 9,
   "id": "e9a092e9",
   "metadata": {},
   "outputs": [],
   "source": [
    "# print(df.shape)\n",
    "# df.info()"
   ]
  },
  {
   "cell_type": "code",
   "execution_count": 10,
   "id": "eaf15227",
   "metadata": {},
   "outputs": [],
   "source": [
    "# sfd"
   ]
  },
  {
   "cell_type": "code",
   "execution_count": 11,
   "id": "98a09d12",
   "metadata": {},
   "outputs": [],
   "source": [
    "# np.any(np.isnan(mat))\n",
    "# np.all(np.isfinite(mat))\n",
    "X, Y = preprocessing(df)\n",
    "del df\n",
    "X = reshape_dataset_cnn(X)"
   ]
  },
  {
   "cell_type": "code",
   "execution_count": 12,
   "id": "f0f7da8e",
   "metadata": {},
   "outputs": [
    {
     "data": {
      "text/plain": [
       "array([10,  0,  0, ...,  0,  4,  0], dtype=int64)"
      ]
     },
     "execution_count": 12,
     "metadata": {},
     "output_type": "execute_result"
    }
   ],
   "source": [
    "Y"
   ]
  },
  {
   "cell_type": "code",
   "execution_count": 13,
   "id": "4e63e84d",
   "metadata": {},
   "outputs": [],
   "source": [
    "# from sklearn.preprocessing import LabelEncoder\n",
    "# target=targets['YMode'].values.tolist()\n",
    "# label_encoder = LabelEncoder()\n",
    "# Y = np.array(label_encoder.fit_transform(target))"
   ]
  },
  {
   "cell_type": "code",
   "execution_count": 14,
   "id": "df451b8c",
   "metadata": {},
   "outputs": [
    {
     "name": "stderr",
     "output_type": "stream",
     "text": [
      "06:33:48 INFO *** TRAINING START ***\n"
     ]
    },
    {
     "name": "stdout",
     "output_type": "stream",
     "text": [
      "Epoch 1/125\n",
      "922/922 [==============================] - 32s 23ms/step - loss: 0.2029 - sparse_categorical_accuracy: 0.9327 - val_loss: 0.1114 - val_sparse_categorical_accuracy: 0.9509\n",
      "Epoch 2/125\n",
      "922/922 [==============================] - 21s 22ms/step - loss: 0.0810 - sparse_categorical_accuracy: 0.9683 - val_loss: 0.0624 - val_sparse_categorical_accuracy: 0.9737\n",
      "Epoch 3/125\n",
      "922/922 [==============================] - 20s 22ms/step - loss: 0.0559 - sparse_categorical_accuracy: 0.9767 - val_loss: 0.0461 - val_sparse_categorical_accuracy: 0.9796\n",
      "Epoch 4/125\n",
      "922/922 [==============================] - 20s 22ms/step - loss: 0.0457 - sparse_categorical_accuracy: 0.9806 - val_loss: 0.0432 - val_sparse_categorical_accuracy: 0.9828\n",
      "Epoch 5/125\n",
      "922/922 [==============================] - 20s 22ms/step - loss: 0.0415 - sparse_categorical_accuracy: 0.9826 - val_loss: 0.0395 - val_sparse_categorical_accuracy: 0.9834\n",
      "Epoch 6/125\n",
      "922/922 [==============================] - 20s 22ms/step - loss: 0.0393 - sparse_categorical_accuracy: 0.9836 - val_loss: 0.0397 - val_sparse_categorical_accuracy: 0.9832\n",
      "Epoch 7/125\n",
      "922/922 [==============================] - 21s 22ms/step - loss: 0.0364 - sparse_categorical_accuracy: 0.9850 - val_loss: 0.0353 - val_sparse_categorical_accuracy: 0.9869\n",
      "Epoch 8/125\n",
      "922/922 [==============================] - 20s 22ms/step - loss: 0.0341 - sparse_categorical_accuracy: 0.9862 - val_loss: 0.0360 - val_sparse_categorical_accuracy: 0.9841\n",
      "Epoch 9/125\n",
      "922/922 [==============================] - 20s 22ms/step - loss: 0.0312 - sparse_categorical_accuracy: 0.9877 - val_loss: 0.0297 - val_sparse_categorical_accuracy: 0.9895\n",
      "Epoch 10/125\n",
      "922/922 [==============================] - 20s 22ms/step - loss: 0.0270 - sparse_categorical_accuracy: 0.9902 - val_loss: 0.0282 - val_sparse_categorical_accuracy: 0.9890\n",
      "Epoch 11/125\n",
      "922/922 [==============================] - 20s 22ms/step - loss: 0.0222 - sparse_categorical_accuracy: 0.9933 - val_loss: 0.0215 - val_sparse_categorical_accuracy: 0.9948\n",
      "Epoch 12/125\n",
      "922/922 [==============================] - 21s 22ms/step - loss: 0.0182 - sparse_categorical_accuracy: 0.9949 - val_loss: 0.0168 - val_sparse_categorical_accuracy: 0.9955\n",
      "Epoch 13/125\n",
      "922/922 [==============================] - 21s 23ms/step - loss: 0.0155 - sparse_categorical_accuracy: 0.9956 - val_loss: 0.0146 - val_sparse_categorical_accuracy: 0.9958\n",
      "Epoch 14/125\n",
      "922/922 [==============================] - 20s 22ms/step - loss: 0.0143 - sparse_categorical_accuracy: 0.9957 - val_loss: 0.0169 - val_sparse_categorical_accuracy: 0.9945\n",
      "Epoch 15/125\n",
      "922/922 [==============================] - 21s 23ms/step - loss: 0.0139 - sparse_categorical_accuracy: 0.9958 - val_loss: 0.0146 - val_sparse_categorical_accuracy: 0.9961\n",
      "Epoch 16/125\n",
      "922/922 [==============================] - 21s 23ms/step - loss: 0.0137 - sparse_categorical_accuracy: 0.9958 - val_loss: 0.0140 - val_sparse_categorical_accuracy: 0.9960\n",
      "Epoch 17/125\n",
      "922/922 [==============================] - 20s 22ms/step - loss: 0.0131 - sparse_categorical_accuracy: 0.9959 - val_loss: 0.0138 - val_sparse_categorical_accuracy: 0.9961\n",
      "Epoch 18/125\n",
      "922/922 [==============================] - 20s 22ms/step - loss: 0.0124 - sparse_categorical_accuracy: 0.9961 - val_loss: 0.0139 - val_sparse_categorical_accuracy: 0.9957\n",
      "Epoch 19/125\n",
      "922/922 [==============================] - 20s 22ms/step - loss: 0.0124 - sparse_categorical_accuracy: 0.9960 - val_loss: 0.0176 - val_sparse_categorical_accuracy: 0.9933\n",
      "Epoch 20/125\n",
      "922/922 [==============================] - 20s 22ms/step - loss: 0.0121 - sparse_categorical_accuracy: 0.9961 - val_loss: 0.0129 - val_sparse_categorical_accuracy: 0.9967\n",
      "Epoch 21/125\n",
      "922/922 [==============================] - 20s 22ms/step - loss: 0.0118 - sparse_categorical_accuracy: 0.9962 - val_loss: 0.0121 - val_sparse_categorical_accuracy: 0.9962\n",
      "Epoch 22/125\n",
      "922/922 [==============================] - 20s 22ms/step - loss: 0.0119 - sparse_categorical_accuracy: 0.9962 - val_loss: 0.0128 - val_sparse_categorical_accuracy: 0.9962\n",
      "Epoch 23/125\n",
      "922/922 [==============================] - 20s 22ms/step - loss: 0.0115 - sparse_categorical_accuracy: 0.9963 - val_loss: 0.0127 - val_sparse_categorical_accuracy: 0.9967\n",
      "Epoch 24/125\n",
      "922/922 [==============================] - 20s 22ms/step - loss: 0.0114 - sparse_categorical_accuracy: 0.9963 - val_loss: 0.0134 - val_sparse_categorical_accuracy: 0.9956\n",
      "Epoch 25/125\n",
      "922/922 [==============================] - 20s 22ms/step - loss: 0.0113 - sparse_categorical_accuracy: 0.9963 - val_loss: 0.0121 - val_sparse_categorical_accuracy: 0.9967\n",
      "Epoch 26/125\n",
      "922/922 [==============================] - 20s 22ms/step - loss: 0.0110 - sparse_categorical_accuracy: 0.9964 - val_loss: 0.0115 - val_sparse_categorical_accuracy: 0.9966\n",
      "Epoch 27/125\n",
      "922/922 [==============================] - 20s 22ms/step - loss: 0.0108 - sparse_categorical_accuracy: 0.9965 - val_loss: 0.0117 - val_sparse_categorical_accuracy: 0.9961\n",
      "Epoch 28/125\n",
      "922/922 [==============================] - 20s 22ms/step - loss: 0.0106 - sparse_categorical_accuracy: 0.9965 - val_loss: 0.0120 - val_sparse_categorical_accuracy: 0.9964\n",
      "Epoch 29/125\n",
      "922/922 [==============================] - 20s 22ms/step - loss: 0.0104 - sparse_categorical_accuracy: 0.9966 - val_loss: 0.0128 - val_sparse_categorical_accuracy: 0.9967\n",
      "Epoch 30/125\n",
      "922/922 [==============================] - 20s 22ms/step - loss: 0.0105 - sparse_categorical_accuracy: 0.9966 - val_loss: 0.0113 - val_sparse_categorical_accuracy: 0.9968\n",
      "Epoch 31/125\n",
      "922/922 [==============================] - 20s 22ms/step - loss: 0.0103 - sparse_categorical_accuracy: 0.9966 - val_loss: 0.0122 - val_sparse_categorical_accuracy: 0.9968\n",
      "Epoch 32/125\n",
      "922/922 [==============================] - 21s 22ms/step - loss: 0.0101 - sparse_categorical_accuracy: 0.9967 - val_loss: 0.0107 - val_sparse_categorical_accuracy: 0.9966\n",
      "Epoch 33/125\n",
      "922/922 [==============================] - 21s 22ms/step - loss: 0.0099 - sparse_categorical_accuracy: 0.9967 - val_loss: 0.0103 - val_sparse_categorical_accuracy: 0.9971\n",
      "Epoch 34/125\n",
      "922/922 [==============================] - 21s 22ms/step - loss: 0.0098 - sparse_categorical_accuracy: 0.9968 - val_loss: 0.0105 - val_sparse_categorical_accuracy: 0.9970\n",
      "Epoch 35/125\n",
      "922/922 [==============================] - 20s 22ms/step - loss: 0.0097 - sparse_categorical_accuracy: 0.9968 - val_loss: 0.0114 - val_sparse_categorical_accuracy: 0.9967\n",
      "Epoch 36/125\n",
      "922/922 [==============================] - 20s 22ms/step - loss: 0.0097 - sparse_categorical_accuracy: 0.9968 - val_loss: 0.0104 - val_sparse_categorical_accuracy: 0.9969\n",
      "Epoch 37/125\n",
      "922/922 [==============================] - 21s 22ms/step - loss: 0.0095 - sparse_categorical_accuracy: 0.9969 - val_loss: 0.0102 - val_sparse_categorical_accuracy: 0.9968\n",
      "Epoch 38/125\n",
      "922/922 [==============================] - 20s 22ms/step - loss: 0.0096 - sparse_categorical_accuracy: 0.9968 - val_loss: 0.0107 - val_sparse_categorical_accuracy: 0.9971\n",
      "Epoch 39/125\n",
      "922/922 [==============================] - 21s 22ms/step - loss: 0.0097 - sparse_categorical_accuracy: 0.9968 - val_loss: 0.0110 - val_sparse_categorical_accuracy: 0.9968\n",
      "Epoch 40/125\n",
      "922/922 [==============================] - 20s 22ms/step - loss: 0.0095 - sparse_categorical_accuracy: 0.9968 - val_loss: 0.0109 - val_sparse_categorical_accuracy: 0.9966\n",
      "Epoch 41/125\n",
      "922/922 [==============================] - 21s 22ms/step - loss: 0.0095 - sparse_categorical_accuracy: 0.9969 - val_loss: 0.0111 - val_sparse_categorical_accuracy: 0.9964\n",
      "Epoch 42/125\n",
      "922/922 [==============================] - 20s 22ms/step - loss: 0.0095 - sparse_categorical_accuracy: 0.9968 - val_loss: 0.0103 - val_sparse_categorical_accuracy: 0.9969\n",
      "Epoch 43/125\n",
      "922/922 [==============================] - 20s 22ms/step - loss: 0.0093 - sparse_categorical_accuracy: 0.9970 - val_loss: 0.0107 - val_sparse_categorical_accuracy: 0.9969\n",
      "Epoch 44/125\n",
      "922/922 [==============================] - 20s 22ms/step - loss: 0.0094 - sparse_categorical_accuracy: 0.9969 - val_loss: 0.0109 - val_sparse_categorical_accuracy: 0.9971\n",
      "Epoch 45/125\n"
     ]
    },
    {
     "name": "stdout",
     "output_type": "stream",
     "text": [
      "922/922 [==============================] - 20s 22ms/step - loss: 0.0091 - sparse_categorical_accuracy: 0.9970 - val_loss: 0.0097 - val_sparse_categorical_accuracy: 0.9974\n",
      "Epoch 46/125\n",
      "922/922 [==============================] - 20s 22ms/step - loss: 0.0090 - sparse_categorical_accuracy: 0.9970 - val_loss: 0.0104 - val_sparse_categorical_accuracy: 0.9969\n",
      "Epoch 47/125\n",
      "922/922 [==============================] - 20s 22ms/step - loss: 0.0089 - sparse_categorical_accuracy: 0.9971 - val_loss: 0.0104 - val_sparse_categorical_accuracy: 0.9968\n",
      "Epoch 48/125\n",
      "922/922 [==============================] - 20s 22ms/step - loss: 0.0087 - sparse_categorical_accuracy: 0.9972 - val_loss: 0.0100 - val_sparse_categorical_accuracy: 0.9971\n",
      "Epoch 49/125\n",
      "922/922 [==============================] - 20s 22ms/step - loss: 0.0086 - sparse_categorical_accuracy: 0.9972 - val_loss: 0.0096 - val_sparse_categorical_accuracy: 0.9973\n",
      "Epoch 50/125\n",
      "922/922 [==============================] - 20s 22ms/step - loss: 0.0087 - sparse_categorical_accuracy: 0.9971 - val_loss: 0.0109 - val_sparse_categorical_accuracy: 0.9973\n",
      "Epoch 51/125\n",
      "922/922 [==============================] - 20s 22ms/step - loss: 0.0085 - sparse_categorical_accuracy: 0.9973 - val_loss: 0.0093 - val_sparse_categorical_accuracy: 0.9975\n",
      "Epoch 52/125\n",
      "922/922 [==============================] - 20s 22ms/step - loss: 0.0085 - sparse_categorical_accuracy: 0.9973 - val_loss: 0.0096 - val_sparse_categorical_accuracy: 0.9971\n",
      "Epoch 53/125\n",
      "922/922 [==============================] - 20s 22ms/step - loss: 0.0086 - sparse_categorical_accuracy: 0.9972 - val_loss: 0.0104 - val_sparse_categorical_accuracy: 0.9973\n",
      "Epoch 54/125\n",
      "922/922 [==============================] - 20s 22ms/step - loss: 0.0082 - sparse_categorical_accuracy: 0.9973 - val_loss: 0.0103 - val_sparse_categorical_accuracy: 0.9970\n",
      "Epoch 55/125\n",
      "922/922 [==============================] - 20s 22ms/step - loss: 0.0082 - sparse_categorical_accuracy: 0.9973 - val_loss: 0.0122 - val_sparse_categorical_accuracy: 0.9965\n",
      "Epoch 56/125\n",
      "922/922 [==============================] - 20s 22ms/step - loss: 0.0083 - sparse_categorical_accuracy: 0.9973 - val_loss: 0.0098 - val_sparse_categorical_accuracy: 0.9970\n",
      "Epoch 57/125\n",
      "922/922 [==============================] - 20s 22ms/step - loss: 0.0080 - sparse_categorical_accuracy: 0.9974 - val_loss: 0.0104 - val_sparse_categorical_accuracy: 0.9969\n",
      "Epoch 58/125\n",
      "922/922 [==============================] - 20s 22ms/step - loss: 0.0080 - sparse_categorical_accuracy: 0.9974 - val_loss: 0.0110 - val_sparse_categorical_accuracy: 0.9973\n",
      "Epoch 59/125\n",
      "922/922 [==============================] - 20s 22ms/step - loss: 0.0080 - sparse_categorical_accuracy: 0.9974 - val_loss: 0.0101 - val_sparse_categorical_accuracy: 0.9971\n",
      "Epoch 60/125\n",
      "922/922 [==============================] - 20s 21ms/step - loss: 0.0079 - sparse_categorical_accuracy: 0.9974 - val_loss: 0.0092 - val_sparse_categorical_accuracy: 0.9977\n",
      "Epoch 61/125\n",
      "922/922 [==============================] - 20s 22ms/step - loss: 0.0082 - sparse_categorical_accuracy: 0.9972 - val_loss: 0.0098 - val_sparse_categorical_accuracy: 0.9967\n",
      "Epoch 62/125\n",
      "922/922 [==============================] - 20s 22ms/step - loss: 0.0080 - sparse_categorical_accuracy: 0.9973 - val_loss: 0.0092 - val_sparse_categorical_accuracy: 0.9976\n",
      "Epoch 63/125\n",
      "922/922 [==============================] - 20s 22ms/step - loss: 0.0080 - sparse_categorical_accuracy: 0.9974 - val_loss: 0.0100 - val_sparse_categorical_accuracy: 0.9975\n",
      "Epoch 64/125\n",
      "922/922 [==============================] - 20s 21ms/step - loss: 0.0081 - sparse_categorical_accuracy: 0.9974 - val_loss: 0.0094 - val_sparse_categorical_accuracy: 0.9976\n",
      "Epoch 65/125\n",
      "922/922 [==============================] - 20s 21ms/step - loss: 0.0080 - sparse_categorical_accuracy: 0.9974 - val_loss: 0.0095 - val_sparse_categorical_accuracy: 0.9974\n",
      "Epoch 66/125\n",
      "922/922 [==============================] - 20s 22ms/step - loss: 0.0076 - sparse_categorical_accuracy: 0.9976 - val_loss: 0.0089 - val_sparse_categorical_accuracy: 0.9974\n",
      "Epoch 67/125\n",
      "922/922 [==============================] - 20s 22ms/step - loss: 0.0079 - sparse_categorical_accuracy: 0.9974 - val_loss: 0.0091 - val_sparse_categorical_accuracy: 0.9973\n",
      "Epoch 68/125\n",
      "922/922 [==============================] - 20s 22ms/step - loss: 0.0077 - sparse_categorical_accuracy: 0.9975 - val_loss: 0.0094 - val_sparse_categorical_accuracy: 0.9973\n",
      "Epoch 69/125\n",
      "922/922 [==============================] - 20s 22ms/step - loss: 0.0079 - sparse_categorical_accuracy: 0.9974 - val_loss: 0.0095 - val_sparse_categorical_accuracy: 0.9974\n",
      "Epoch 70/125\n",
      "922/922 [==============================] - 20s 22ms/step - loss: 0.0075 - sparse_categorical_accuracy: 0.9976 - val_loss: 0.0110 - val_sparse_categorical_accuracy: 0.9970\n",
      "Epoch 71/125\n",
      "922/922 [==============================] - 20s 22ms/step - loss: 0.0077 - sparse_categorical_accuracy: 0.9976 - val_loss: 0.0086 - val_sparse_categorical_accuracy: 0.9975\n",
      "Epoch 72/125\n",
      "922/922 [==============================] - 20s 22ms/step - loss: 0.0074 - sparse_categorical_accuracy: 0.9976 - val_loss: 0.0128 - val_sparse_categorical_accuracy: 0.9975\n",
      "Epoch 73/125\n",
      "922/922 [==============================] - 20s 22ms/step - loss: 0.0075 - sparse_categorical_accuracy: 0.9976 - val_loss: 0.0089 - val_sparse_categorical_accuracy: 0.9978\n",
      "Epoch 74/125\n",
      "922/922 [==============================] - 20s 22ms/step - loss: 0.0080 - sparse_categorical_accuracy: 0.9973 - val_loss: 0.0090 - val_sparse_categorical_accuracy: 0.9977\n",
      "Epoch 75/125\n",
      "922/922 [==============================] - 20s 22ms/step - loss: 0.0077 - sparse_categorical_accuracy: 0.9975 - val_loss: 0.0093 - val_sparse_categorical_accuracy: 0.9976\n",
      "Epoch 76/125\n",
      "922/922 [==============================] - 20s 22ms/step - loss: 0.0076 - sparse_categorical_accuracy: 0.9975 - val_loss: 0.0086 - val_sparse_categorical_accuracy: 0.9977\n",
      "Epoch 77/125\n",
      "922/922 [==============================] - 20s 22ms/step - loss: 0.0072 - sparse_categorical_accuracy: 0.9977 - val_loss: 0.0088 - val_sparse_categorical_accuracy: 0.9976\n",
      "Epoch 78/125\n",
      "922/922 [==============================] - 20s 22ms/step - loss: 0.0076 - sparse_categorical_accuracy: 0.9975 - val_loss: 0.0089 - val_sparse_categorical_accuracy: 0.9976\n",
      "Epoch 79/125\n",
      "922/922 [==============================] - 20s 22ms/step - loss: 0.0072 - sparse_categorical_accuracy: 0.9977 - val_loss: 0.0092 - val_sparse_categorical_accuracy: 0.9975\n",
      "Epoch 80/125\n",
      "922/922 [==============================] - 20s 22ms/step - loss: 0.0074 - sparse_categorical_accuracy: 0.9976 - val_loss: 0.0085 - val_sparse_categorical_accuracy: 0.9977\n",
      "Epoch 81/125\n",
      "922/922 [==============================] - 20s 22ms/step - loss: 0.0074 - sparse_categorical_accuracy: 0.9976 - val_loss: 0.0088 - val_sparse_categorical_accuracy: 0.9977\n",
      "Epoch 82/125\n",
      "922/922 [==============================] - 20s 22ms/step - loss: 0.0073 - sparse_categorical_accuracy: 0.9976 - val_loss: 0.0088 - val_sparse_categorical_accuracy: 0.9978\n",
      "Epoch 83/125\n",
      "922/922 [==============================] - 20s 22ms/step - loss: 0.0073 - sparse_categorical_accuracy: 0.9977 - val_loss: 0.0089 - val_sparse_categorical_accuracy: 0.9977\n",
      "Epoch 84/125\n",
      "922/922 [==============================] - 20s 22ms/step - loss: 0.0074 - sparse_categorical_accuracy: 0.9976 - val_loss: 0.0098 - val_sparse_categorical_accuracy: 0.9969\n",
      "Epoch 85/125\n",
      "922/922 [==============================] - 20s 22ms/step - loss: 0.0071 - sparse_categorical_accuracy: 0.9976 - val_loss: 0.0086 - val_sparse_categorical_accuracy: 0.9977\n",
      "Epoch 86/125\n",
      "922/922 [==============================] - 20s 22ms/step - loss: 0.0071 - sparse_categorical_accuracy: 0.9977 - val_loss: 0.0085 - val_sparse_categorical_accuracy: 0.9979\n",
      "Epoch 87/125\n",
      "922/922 [==============================] - 20s 22ms/step - loss: 0.0069 - sparse_categorical_accuracy: 0.9978 - val_loss: 0.0091 - val_sparse_categorical_accuracy: 0.9977\n",
      "Epoch 88/125\n",
      "922/922 [==============================] - 20s 22ms/step - loss: 0.0071 - sparse_categorical_accuracy: 0.9977 - val_loss: 0.0101 - val_sparse_categorical_accuracy: 0.9970\n",
      "Epoch 89/125\n"
     ]
    },
    {
     "name": "stdout",
     "output_type": "stream",
     "text": [
      "922/922 [==============================] - 20s 22ms/step - loss: 0.0069 - sparse_categorical_accuracy: 0.9978 - val_loss: 0.0088 - val_sparse_categorical_accuracy: 0.9977\n",
      "Epoch 90/125\n",
      "922/922 [==============================] - 20s 22ms/step - loss: 0.0071 - sparse_categorical_accuracy: 0.9977 - val_loss: 0.0086 - val_sparse_categorical_accuracy: 0.9977\n",
      "Epoch 91/125\n",
      "922/922 [==============================] - 20s 22ms/step - loss: 0.0069 - sparse_categorical_accuracy: 0.9977 - val_loss: 0.0095 - val_sparse_categorical_accuracy: 0.9973\n",
      "Epoch 92/125\n",
      "922/922 [==============================] - 20s 22ms/step - loss: 0.0071 - sparse_categorical_accuracy: 0.9977 - val_loss: 0.0086 - val_sparse_categorical_accuracy: 0.9978\n",
      "Epoch 93/125\n",
      "922/922 [==============================] - 20s 22ms/step - loss: 0.0070 - sparse_categorical_accuracy: 0.9977 - val_loss: 0.0087 - val_sparse_categorical_accuracy: 0.9975\n",
      "Epoch 94/125\n",
      "922/922 [==============================] - 20s 22ms/step - loss: 0.0070 - sparse_categorical_accuracy: 0.9977 - val_loss: 0.0093 - val_sparse_categorical_accuracy: 0.9979\n",
      "Epoch 95/125\n",
      "922/922 [==============================] - 20s 22ms/step - loss: 0.0067 - sparse_categorical_accuracy: 0.9978 - val_loss: 0.0086 - val_sparse_categorical_accuracy: 0.9979\n",
      "Epoch 96/125\n",
      "922/922 [==============================] - 20s 22ms/step - loss: 0.0067 - sparse_categorical_accuracy: 0.9978 - val_loss: 0.0084 - val_sparse_categorical_accuracy: 0.9978\n",
      "Epoch 97/125\n",
      "922/922 [==============================] - 20s 22ms/step - loss: 0.0071 - sparse_categorical_accuracy: 0.9977 - val_loss: 0.0089 - val_sparse_categorical_accuracy: 0.9974\n",
      "Epoch 98/125\n",
      "922/922 [==============================] - 20s 22ms/step - loss: 0.0067 - sparse_categorical_accuracy: 0.9978 - val_loss: 0.0083 - val_sparse_categorical_accuracy: 0.9977\n",
      "Epoch 99/125\n",
      "922/922 [==============================] - 20s 22ms/step - loss: 0.0065 - sparse_categorical_accuracy: 0.9979 - val_loss: 0.0097 - val_sparse_categorical_accuracy: 0.9975\n",
      "Epoch 100/125\n",
      "922/922 [==============================] - 20s 22ms/step - loss: 0.0065 - sparse_categorical_accuracy: 0.9979 - val_loss: 0.0084 - val_sparse_categorical_accuracy: 0.9980\n",
      "Epoch 101/125\n",
      "922/922 [==============================] - 20s 22ms/step - loss: 0.0064 - sparse_categorical_accuracy: 0.9980 - val_loss: 0.0083 - val_sparse_categorical_accuracy: 0.9980\n",
      "Epoch 102/125\n",
      "922/922 [==============================] - 20s 22ms/step - loss: 0.0063 - sparse_categorical_accuracy: 0.9980 - val_loss: 0.0080 - val_sparse_categorical_accuracy: 0.9979\n",
      "Epoch 103/125\n",
      "922/922 [==============================] - 20s 22ms/step - loss: 0.0060 - sparse_categorical_accuracy: 0.9981 - val_loss: 0.0100 - val_sparse_categorical_accuracy: 0.9977\n",
      "Epoch 104/125\n",
      "922/922 [==============================] - 20s 22ms/step - loss: 0.0062 - sparse_categorical_accuracy: 0.9980 - val_loss: 0.0078 - val_sparse_categorical_accuracy: 0.9981\n",
      "Epoch 105/125\n",
      "922/922 [==============================] - 20s 22ms/step - loss: 0.0061 - sparse_categorical_accuracy: 0.9981 - val_loss: 0.0083 - val_sparse_categorical_accuracy: 0.9978\n",
      "Epoch 106/125\n",
      "922/922 [==============================] - 20s 22ms/step - loss: 0.0060 - sparse_categorical_accuracy: 0.9982 - val_loss: 0.0081 - val_sparse_categorical_accuracy: 0.9981\n",
      "Epoch 107/125\n",
      "922/922 [==============================] - 20s 22ms/step - loss: 0.0059 - sparse_categorical_accuracy: 0.9982 - val_loss: 0.0076 - val_sparse_categorical_accuracy: 0.9982\n",
      "Epoch 108/125\n",
      "922/922 [==============================] - 20s 22ms/step - loss: 0.0061 - sparse_categorical_accuracy: 0.9981 - val_loss: 0.0080 - val_sparse_categorical_accuracy: 0.9981\n",
      "Epoch 109/125\n",
      "922/922 [==============================] - 20s 22ms/step - loss: 0.0058 - sparse_categorical_accuracy: 0.9982 - val_loss: 0.0078 - val_sparse_categorical_accuracy: 0.9983\n",
      "Epoch 110/125\n",
      "922/922 [==============================] - 20s 22ms/step - loss: 0.0057 - sparse_categorical_accuracy: 0.9983 - val_loss: 0.0083 - val_sparse_categorical_accuracy: 0.9977\n",
      "Epoch 111/125\n",
      "922/922 [==============================] - 20s 22ms/step - loss: 0.0059 - sparse_categorical_accuracy: 0.9982 - val_loss: 0.0074 - val_sparse_categorical_accuracy: 0.9983\n",
      "Epoch 112/125\n",
      "922/922 [==============================] - 20s 22ms/step - loss: 0.0057 - sparse_categorical_accuracy: 0.9983 - val_loss: 0.0077 - val_sparse_categorical_accuracy: 0.9982\n",
      "Epoch 113/125\n",
      "922/922 [==============================] - 20s 22ms/step - loss: 0.0056 - sparse_categorical_accuracy: 0.9983 - val_loss: 0.0085 - val_sparse_categorical_accuracy: 0.9979\n",
      "Epoch 114/125\n",
      "922/922 [==============================] - 20s 22ms/step - loss: 0.0058 - sparse_categorical_accuracy: 0.9982 - val_loss: 0.0077 - val_sparse_categorical_accuracy: 0.9983\n",
      "Epoch 115/125\n",
      "922/922 [==============================] - 20s 22ms/step - loss: 0.0055 - sparse_categorical_accuracy: 0.9984 - val_loss: 0.0074 - val_sparse_categorical_accuracy: 0.9983\n",
      "Epoch 116/125\n",
      "922/922 [==============================] - 20s 22ms/step - loss: 0.0059 - sparse_categorical_accuracy: 0.9982 - val_loss: 0.0072 - val_sparse_categorical_accuracy: 0.9984\n",
      "Epoch 117/125\n",
      "922/922 [==============================] - 22s 24ms/step - loss: 0.0056 - sparse_categorical_accuracy: 0.9983 - val_loss: 0.0078 - val_sparse_categorical_accuracy: 0.9979\n",
      "Epoch 118/125\n",
      "922/922 [==============================] - 21s 22ms/step - loss: 0.0057 - sparse_categorical_accuracy: 0.9983 - val_loss: 0.0074 - val_sparse_categorical_accuracy: 0.9983\n",
      "Epoch 119/125\n",
      "922/922 [==============================] - 21s 22ms/step - loss: 0.0056 - sparse_categorical_accuracy: 0.9983 - val_loss: 0.0073 - val_sparse_categorical_accuracy: 0.9983\n",
      "Epoch 120/125\n",
      "922/922 [==============================] - 20s 22ms/step - loss: 0.0056 - sparse_categorical_accuracy: 0.9983 - val_loss: 0.0079 - val_sparse_categorical_accuracy: 0.9984\n",
      "Epoch 121/125\n",
      "922/922 [==============================] - 21s 22ms/step - loss: 0.0055 - sparse_categorical_accuracy: 0.9984 - val_loss: 0.0077 - val_sparse_categorical_accuracy: 0.9983\n",
      "Epoch 122/125\n",
      "922/922 [==============================] - 20s 22ms/step - loss: 0.0059 - sparse_categorical_accuracy: 0.9982 - val_loss: 0.0076 - val_sparse_categorical_accuracy: 0.9984\n",
      "Epoch 123/125\n",
      "922/922 [==============================] - 20s 22ms/step - loss: 0.0055 - sparse_categorical_accuracy: 0.9984 - val_loss: 0.0074 - val_sparse_categorical_accuracy: 0.9984\n",
      "Epoch 124/125\n",
      "922/922 [==============================] - 21s 23ms/step - loss: 0.0055 - sparse_categorical_accuracy: 0.9983 - val_loss: 0.0083 - val_sparse_categorical_accuracy: 0.9979\n",
      "Epoch 125/125\n",
      "922/922 [==============================] - 21s 22ms/step - loss: 0.0055 - sparse_categorical_accuracy: 0.9983 - val_loss: 0.0079 - val_sparse_categorical_accuracy: 0.9981\n"
     ]
    }
   ],
   "source": [
    "# Training\n",
    "logging.info(\"*** TRAINING START ***\")\n",
    "history = model.fit(X, Y, validation_split=0.1, epochs=125, batch_size=1024, verbose=True)"
   ]
  },
  {
   "cell_type": "code",
   "execution_count": 15,
   "id": "f1e6a392",
   "metadata": {},
   "outputs": [
    {
     "name": "stderr",
     "output_type": "stream",
     "text": [
      "07:16:20 INFO *** TRAINING FINISH ***\n"
     ]
    }
   ],
   "source": [
    "logging.info(\"*** TRAINING FINISH ***\")\n",
    "del X, Y"
   ]
  },
  {
   "cell_type": "code",
   "execution_count": 16,
   "id": "e23135f8",
   "metadata": {},
   "outputs": [
    {
     "data": {
      "image/png": "[encoded data removed]",
      "text/plain": [
       "<Figure size 432x288 with 1 Axes>"
      ]
     },
     "metadata": {
      "needs_background": "light"
     },
     "output_type": "display_data"
    },
    {
     "data": {
      "image/png": "[encoded data removed]",
      "text/plain": [
       "<Figure size 432x288 with 1 Axes>"
      ]
     },
     "metadata": {
      "needs_background": "light"
     },
     "output_type": "display_data"
    }
   ],
   "source": [
    "# Save the model\n",
    "model.save(os.path.join(MODEL_DIR_PATH, \"06_cnn.h5\"))\n",
    "\n",
    "plot_history(history)"
   ]
  },
  {
   "cell_type": "code",
   "execution_count": 17,
   "id": "4e99c1fa",
   "metadata": {},
   "outputs": [
    {
     "name": "stderr",
     "output_type": "stream",
     "text": [
      "07:16:24 INFO Class distribution\n",
      "BENIGN                      454406\n",
      "DoS Hulk                     46081\n",
      "PortScan                     31646\n",
      "DDoS                         25802\n",
      "DoS GoldenEye                 2009\n",
      "FTP-Patator                   1593\n",
      "SSH-Patator                   1190\n",
      "DoS slowloris                 1163\n",
      "DoS Slowhttptest              1129\n",
      "Bot                            402\n",
      "Web Attack-Brute Force         297\n",
      "Web Attack-XSS                 145\n",
      "Web Attack-Sql Injection         6\n",
      "Infiltration                     6\n",
      "Heartbleed                       2\n",
      "Name: Label, dtype: int64\n"
     ]
    }
   ],
   "source": [
    "# Evaluation\n",
    "df = pd.read_csv(os.path.join(PROCESSED_DIR_PATH, 'test_MachineLearningCVE.csv'), skipinitialspace=True)\n",
    "logging.info(\"Class distribution\\n{}\".format(df.Label.value_counts()))"
   ]
  },
  {
   "cell_type": "code",
   "execution_count": 18,
   "id": "370b6f11",
   "metadata": {},
   "outputs": [],
   "source": [
    "X, Y = preprocessing(df)\n",
    "del df\n",
    "X = reshape_dataset_cnn(X)"
   ]
  },
  {
   "cell_type": "code",
   "execution_count": 19,
   "id": "388b3634",
   "metadata": {},
   "outputs": [
    {
     "name": "stderr",
     "output_type": "stream",
     "text": [
      "07:17:11 INFO Evaluation:\n",
      "Loss: 0.11034196615219116\n",
      "Accuracy : 0.9687547087669373\n",
      "\n",
      "07:17:15 INFO \n",
      "              precision    recall  f1-score   support\n",
      "\n",
      "           0       0.96      1.00      0.98    454406\n",
      "           1       0.29      0.39      0.34       402\n",
      "           2       1.00      1.00      1.00     25802\n",
      "           3       1.00      0.98      0.99      2009\n",
      "           4       0.99      1.00      1.00     46081\n",
      "           5       0.98      0.99      0.98      1129\n",
      "           6       0.99      0.99      0.99      1163\n",
      "           7       1.00      1.00      1.00      1593\n",
      "           8       1.00      1.00      1.00         2\n",
      "           9       1.00      0.67      0.80         6\n",
      "          10       1.00      0.51      0.67     31646\n",
      "          11       1.00      0.51      0.68      1190\n",
      "          12       0.40      0.06      0.10       297\n",
      "          13       0.00      0.00      0.00         6\n",
      "          14       0.53      0.06      0.10       145\n",
      "\n",
      "    accuracy                           0.97    565877\n",
      "   macro avg       0.81      0.68      0.71    565877\n",
      "weighted avg       0.97      0.97      0.96    565877\n",
      "\n"
     ]
    }
   ],
   "source": [
    "evaluation(model, X, Y)\n",
    "del X, Y"
   ]
  },
  {
   "cell_type": "code",
   "execution_count": 20,
   "id": "8974d81c",
   "metadata": {},
   "outputs": [
    {
     "name": "stderr",
     "output_type": "stream",
     "text": [
      "07:17:15 INFO *** END ***\n"
     ]
    }
   ],
   "source": [
    "logging.info(\"*** END ***\")"
   ]
  }
 ],
 "metadata": {
  "kernelspec": {
   "display_name": "Python 3 (ipykernel)",
   "language": "python",
   "name": "python3"
  },
  "language_info": {
   "codemirror_mode": {
    "name": "ipython",
    "version": 3
   },
   "file_extension": ".py",
   "mimetype": "text/x-python",
   "name": "python",
   "nbconvert_exporter": "python",
   "pygments_lexer": "ipython3",
   "version": "3.9.0"
  }
 },
 "nbformat": 4,
 "nbformat_minor": 5
}
