{
 "cells": [
  {
   "cell_type": "code",
   "execution_count": 59,
   "id": "3c31efa6",
   "metadata": {},
   "outputs": [],
   "source": [
    "import os\n",
    "import logging\n",
    "\n",
    "import pandas as pd\n",
    "import tensorflow.keras as keras\n",
    "\n",
    "from tensorflow.keras.callbacks import ModelCheckpoint\n",
    "from tensorflow.keras.utils import plot_model\n",
    "\n",
    "# Log setting\n",
    "logging.basicConfig(format=\"%(asctime)s %(levelname)s %(message)s\", datefmt=\"%H:%M:%S\", level=logging.INFO)\n",
    "\n",
    "# Change display.max_rows to show all features.\n",
    "pd.set_option(\"display.max_rows\", 85)\n",
    "import os\n",
    "import codecs\n",
    "import pandas as pd\n",
    "import glob"
   ]
  },
  {
   "cell_type": "code",
   "execution_count": 2,
   "id": "c8726487",
   "metadata": {},
   "outputs": [],
   "source": [
    "import glob\n",
    "files = glob.glob(r\"C:\\Users\\mkahs\\Repository\\CICIDS\\MachineLearningCSV\\MachineLearningCVE\\*.csv\")\n",
    "\n",
    "dataframes = []\n",
    "\n",
    "for f in files:\n",
    "    dataframes.append(pd.read_csv(f,encoding='cp1252'))\n",
    "\n",
    "dataframes_df = pd.concat(dataframes, ignore_index=True)"
   ]
  },
  {
   "cell_type": "code",
   "execution_count": 3,
   "id": "1103aac7",
   "metadata": {},
   "outputs": [
    {
     "data": {
      "text/plain": [
       "(2830743, 79)"
      ]
     },
     "execution_count": 3,
     "metadata": {},
     "output_type": "execute_result"
    }
   ],
   "source": [
    "dataframes_df.shape"
   ]
  },
  {
   "cell_type": "code",
   "execution_count": 4,
   "id": "25b231ea",
   "metadata": {},
   "outputs": [],
   "source": [
    "dataframes_df.to_csv((r\"C:\\Users\\mkahs\\Repository\\CICIDS\\MachineLearningCSV\\MachineLearningCVE\\CVE_FULL_Data.csv\"))"
   ]
  },
  {
   "cell_type": "code",
   "execution_count": 5,
   "id": "5c4bdb76",
   "metadata": {},
   "outputs": [
    {
     "data": {
      "text/plain": [
       "(2830743, 79)"
      ]
     },
     "execution_count": 5,
     "metadata": {},
     "output_type": "execute_result"
    }
   ],
   "source": [
    "\n",
    "\n",
    "# Show number of NaN rows\n",
    "# print(\"Removing {} rows that contains only NaN values...\".format(df[df.isna().all(axis=1)].shape[0]))\n",
    "\n",
    "# Remove NaN rows\n",
    "dataframes_df = dataframes_df[~ dataframes_df.isna().all(axis=1)]\n",
    "dataframes_df.shape"
   ]
  },
  {
   "cell_type": "code",
   "execution_count": 6,
   "id": "25085091",
   "metadata": {},
   "outputs": [],
   "source": [
    "dataframes_df.to_csv((r\"C:\\Users\\mkahs\\Repository\\CICIDS\\MachineLearningCSV\\MachineLearningCVE\\CVE_FULL_Data_cleaned.csv\"))"
   ]
  },
  {
   "cell_type": "code",
   "execution_count": 7,
   "id": "ddb8fbf6",
   "metadata": {
    "scrolled": true
   },
   "outputs": [
    {
     "data": {
      "text/plain": [
       "BENIGN                          2273097\n",
       "DoS Hulk                         231073\n",
       "PortScan                         158930\n",
       "DDoS                             128027\n",
       "DoS GoldenEye                     10293\n",
       "FTP-Patator                        7938\n",
       "SSH-Patator                        5897\n",
       "DoS slowloris                      5796\n",
       "DoS Slowhttptest                   5499\n",
       "Bot                                1966\n",
       "Web Attack ï¿½ Brute Force         1507\n",
       "Web Attack ï¿½ XSS                  652\n",
       "Infiltration                         36\n",
       "Web Attack ï¿½ Sql Injection         21\n",
       "Heartbleed                           11\n",
       "Name:  Label, dtype: int64"
      ]
     },
     "execution_count": 7,
     "metadata": {},
     "output_type": "execute_result"
    }
   ],
   "source": [
    "dataframes_df[' Label'].value_counts()"
   ]
  },
  {
   "cell_type": "code",
   "execution_count": 56,
   "id": "12aef729",
   "metadata": {},
   "outputs": [],
   "source": [
    "cve_col_list= dataframes_df.columns"
   ]
  },
  {
   "cell_type": "code",
   "execution_count": 57,
   "id": "e8d098c1",
   "metadata": {
    "scrolled": false
   },
   "outputs": [
    {
     "data": {
      "text/plain": [
       "Index(['Destination Port', 'Flow Duration', 'Total Fwd Packets',\n",
       "       'Total Backward Packets', 'Total Length of Fwd Packets',\n",
       "       'Total Length of Bwd Packets', 'Fwd Packet Length Max',\n",
       "       'Fwd Packet Length Min', 'Fwd Packet Length Mean',\n",
       "       ' Fwd Packet Length Std', 'Bwd Packet Length Max',\n",
       "       'Bwd Packet Length Min', 'Bwd Packet Length Mean',\n",
       "       'Bwd Packet Length Std', 'Flow Bytes/s', ' Flow Packets/s',\n",
       "       'Flow IAT Mean', 'Flow IAT Std', 'Flow IAT Max', 'Flow IAT Min',\n",
       "       'Fwd IAT Total', 'Fwd IAT Mean', 'Fwd IAT Std', 'Fwd IAT Max',\n",
       "       'Fwd IAT Min', 'Bwd IAT Total', 'Bwd IAT Mean', 'Bwd IAT Std',\n",
       "       'Bwd IAT Max', 'Bwd IAT Min', 'Fwd PSH Flags', 'Bwd PSH Flags',\n",
       "       'Fwd URG Flags', 'Bwd URG Flags', 'Fwd Header Length',\n",
       "       'Bwd Header Length', 'Fwd Packets/s', 'Bwd Packets/s',\n",
       "       'Min Packet Length', 'Max Packet Length', 'Packet Length Mean',\n",
       "       'Packet Length Std', 'Packet Length Variance', 'FIN Flag Count',\n",
       "       'SYN Flag Count', 'RST Flag Count', 'PSH Flag Count', 'ACK Flag Count',\n",
       "       'URG Flag Count', 'CWE Flag Count', 'ECE Flag Count', 'Down/Up Ratio',\n",
       "       'Average Packet Size', 'Avg Fwd Segment Size', 'Avg Bwd Segment Size',\n",
       "       'Fwd Header Length.1', 'Fwd Avg Bytes/Bulk', 'Fwd Avg Packets/Bulk',\n",
       "       'Fwd Avg Bulk Rate', 'Bwd Avg Bytes/Bulk', 'Bwd Avg Packets/Bulk',\n",
       "       'Bwd Avg Bulk Rate', 'Subflow Fwd Packets', 'Subflow Fwd Bytes',\n",
       "       'Subflow Bwd Packets', 'Subflow Bwd Bytes', 'Init_Win_bytes_forward',\n",
       "       ' Init_Win_bytes_backward', 'act_data_pkt_fwd', ' min_seg_size_forward',\n",
       "       'Active Mean', 'Active Std', 'Active Max', 'Active Min', 'Idle Mean',\n",
       "       ' Idle Std', ' Idle Max', ' Idle Min', 'Label'],\n",
       "      dtype='object')"
      ]
     },
     "execution_count": 57,
     "metadata": {},
     "output_type": "execute_result"
    }
   ],
   "source": [
    "cve_col_list"
   ]
  },
  {
   "cell_type": "code",
   "execution_count": 17,
   "id": "d2a28b39",
   "metadata": {},
   "outputs": [],
   "source": [
    "dataframes_df.rename({' Destination Port':'Destination Port', ' Flow Duration':'Flow Duration',' Total Fwd Packets':'Total Fwd Packets',\n",
    "' Total Backward Packets':'Total Backward Packets', ' Total Length of Fwd Packets':'Total Length of Fwd Packets',\n",
    "       ' Total Length of Bwd Packets':'Total Length of Bwd Packets', ' Fwd Packet Length Max':'Fwd Packet Length Max',\n",
    "   ' Fwd Packet Length Min':'Fwd Packet Length Min', ' Fwd Packet Length Mean':'Fwd Packet Length Mean', 'Fwd Packet Length Std':'Fwd Packet Length Std',\n",
    "   ' Bwd Packet Length Max':'Bwd Packet Length Max',\n",
    "       ' Bwd Packet Length Min':'Bwd Packet Length Min', ' Bwd Packet Length Mean':'Bwd Packet Length Mean',\n",
    "       ' Bwd Packet Length Std':'Bwd Packet Length Std', ' Flow Bytes/s':'Flow Bytes/s', 'Flow Packets/s':'Flow Packets/s',\n",
    "       ' Flow IAT Mean':'Flow IAT Mean', ' Flow IAT Std':'Flow IAT Std', ' Flow IAT Max':'Flow IAT Max', ' Flow IAT Min':'Flow IAT Min',\n",
    "       ' Fwd IAT Total':'Fwd IAT Total', ' Fwd IAT Mean':'Fwd IAT Mean', ' Fwd IAT Std':'Fwd IAT Std', ' Fwd IAT Max':'Fwd IAT Max',\n",
    "       ' Fwd IAT Min':'Fwd IAT Min', ' Bwd IAT Total':'Bwd IAT Total', ' Bwd IAT Mean':'Bwd IAT Mean', ' Bwd IAT Std':'Bwd IAT Std',\n",
    "       ' Bwd IAT Max':'Bwd IAT Max', ' Bwd IAT Min':'Bwd IAT Min', ' Fwd PSH Flags':'Fwd PSH Flags', ' Bwd PSH Flags':'Bwd PSH Flags',\n",
    "       ' Fwd URG Flags':'Fwd URG Flags', ' Bwd URG Flags':'Bwd URG Flags', ' Fwd Header Length':'Fwd Header Length',\n",
    "       ' Bwd Header Length':'Bwd Header Length', ' Fwd Packets/s':'Fwd Packets/s', ' Bwd Packets/s':'Bwd Packets/s',\n",
    "       ' Min Packet Length':'Min Packet Length', ' Max Packet Length':'Max Packet Length', ' Packet Length Mean':'Packet Length Mean',\n",
    "       ' Packet Length Std':'Packet Length Std', ' Packet Length Variance':'Packet Length Variance', ' FIN Flag Count':'FIN Flag Count',\n",
    "       ' SYN Flag Count':'SYN Flag Count', ' RST Flag Count':'RST Flag Count', ' PSH Flag Count':'PSH Flag Count',\n",
    "       ' ACK Flag Count':'ACK Flag Count', ' URG Flag Count':'URG Flag Count', ' CWE Flag Count':'CWE Flag Count',\n",
    "       ' ECE Flag Count':'ECE Flag Count', ' Down/Up Ratio':'Down/Up Ratio', ' Average Packet Size':'Average Packet Size',\n",
    "       ' Avg Fwd Segment Size':'Avg Fwd Segment Size', ' Avg Bwd Segment Size':'Avg Bwd Segment Size',\n",
    "       ' Fwd Header Length.1':'Fwd Header Length.1', ' Fwd Avg Bytes/Bulk':'Fwd Avg Bytes/Bulk', ' Fwd Avg Packets/Bulk':'Fwd Avg Packets/Bulk',\n",
    "       ' Fwd Avg Bulk Rate':'Fwd Avg Bulk Rate', ' Bwd Avg Bytes/Bulk':'Bwd Avg Bytes/Bulk', ' Bwd Avg Packets/Bulk':'Bwd Avg Packets/Bulk',\n",
    "       ' Bwd Avg Bulk Rate':'Bwd Avg Bulk Rate', ' Subflow Fwd Packets':'Subflow Fwd Packets', ' Subflow Fwd Bytes':'Subflow Fwd Bytes',\n",
    "       ' Subflow Bwd Packets':'Subflow Bwd Packets', ' Subflow Bwd Bytes':'Subflow Bwd Bytes', ' Init_Win_bytes_forward':'Init_Win_bytes_forward',\n",
    "       ' Init_Win_bytes_backward':' Init_Win_bytes_backward', ' act_data_pkt_fwd':'act_data_pkt_fwd',\n",
    "       ' min_seg_size_forward':' min_seg_size_forward', 'Active Mean':'Active Mean', ' Active Std':'Active Std', ' Active Max':'Active Max',\n",
    "       ' Active Min':'Active Min', ' Idle Mean':'Idle Mean', ' Idle Std':'Idle Std', 'Idle Max':'Idle Max', 'Idle Min':'Idle Min',\n",
    "       ' Label':'Label',}, axis=1,inplace=True)"
   ]
  },
  {
   "cell_type": "code",
   "execution_count": 46,
   "id": "7be9691a",
   "metadata": {},
   "outputs": [],
   "source": [
    "def _renaming_class_label(df: pd.DataFrame):\n",
    "    labels = {\"Web Attack ï¿½ Brute Force\": \"Web Attack-Brute Force\",\n",
    "              \"Web Attack ï¿½ XSS\": \"Web Attack-XSS\",\n",
    "              \"Web Attack ï¿½ Sql Injection\": \"Web Attack-Sql Injection\"}\n",
    "\n",
    "    for old_label, new_label in labels.items():\n",
    "        df.Label.replace(old_label, new_label, inplace=True)\n",
    "\n",
    "# Renaming labels\n",
    "_renaming_class_label(dataframes_df)"
   ]
  },
  {
   "cell_type": "code",
   "execution_count": 47,
   "id": "e5d2e39a",
   "metadata": {},
   "outputs": [
    {
     "data": {
      "text/plain": [
       "False"
      ]
     },
     "execution_count": 47,
     "metadata": {},
     "output_type": "execute_result"
    }
   ],
   "source": [
    "dataframes_df.isna().values.any()"
   ]
  },
  {
   "cell_type": "code",
   "execution_count": 48,
   "id": "02d6b021",
   "metadata": {},
   "outputs": [
    {
     "data": {
      "text/plain": [
       "0"
      ]
     },
     "execution_count": 48,
     "metadata": {},
     "output_type": "execute_result"
    }
   ],
   "source": [
    "# ' Destination IP': 'Destination IP', ' Flow ID': 'Flow ID', ' Protocol': 'Protocol', ' Source IP': 'Source IP',' Source Port': 'Source Port', ' Timestamp':'Timestamp'\n",
    "    \n",
    "dataframes_df.isnull().sum().sum()    \n",
    "    "
   ]
  },
  {
   "cell_type": "code",
   "execution_count": 49,
   "id": "d28a304f",
   "metadata": {},
   "outputs": [],
   "source": [
    "dataframes_df.dropna(inplace=True)"
   ]
  },
  {
   "cell_type": "code",
   "execution_count": 50,
   "id": "3adc7f44",
   "metadata": {},
   "outputs": [],
   "source": [
    "from sklearn.model_selection import train_test_split\n",
    "\n",
    "train, test = train_test_split(dataframes_df, test_size=0.2)"
   ]
  },
  {
   "cell_type": "code",
   "execution_count": 62,
   "id": "9660aaa1",
   "metadata": {},
   "outputs": [
    {
     "name": "stdout",
     "output_type": "stream",
     "text": [
      "(2263508, 79)\n",
      "(565877, 79)\n"
     ]
    }
   ],
   "source": [
    "print(train.shape)\n",
    "print(test.shape)"
   ]
  },
  {
   "cell_type": "code",
   "execution_count": 63,
   "id": "6e5b5e25",
   "metadata": {},
   "outputs": [],
   "source": [
    "train.to_csv(r\"C:\\Users\\mkahs\\Repository\\CICIDS\\ProcessedDataset\\train_MachineLearningCVE.csv\")\n",
    "test.to_csv(r\"C:\\Users\\mkahs\\Repository\\CICIDS\\ProcessedDataset\\test_MachineLearningCVE.csv\")"
   ]
  },
  {
   "cell_type": "code",
   "execution_count": 54,
   "id": "255f0f67",
   "metadata": {},
   "outputs": [
    {
     "data": {
      "text/plain": [
       "BENIGN                      2272688\n",
       "DoS Hulk                     230124\n",
       "PortScan                     158930\n",
       "DDoS                         128027\n",
       "DoS GoldenEye                 10293\n",
       "FTP-Patator                    7938\n",
       "SSH-Patator                    5897\n",
       "DoS slowloris                  5796\n",
       "DoS Slowhttptest               5499\n",
       "Bot                            1966\n",
       "Web Attack-Brute Force         1507\n",
       "Web Attack-XSS                  652\n",
       "Infiltration                     36\n",
       "Web Attack-Sql Injection         21\n",
       "Heartbleed                       11\n",
       "Name: Label, dtype: int64"
      ]
     },
     "execution_count": 54,
     "metadata": {},
     "output_type": "execute_result"
    }
   ],
   "source": [
    "dataframes_df.Label.value_counts()"
   ]
  },
  {
   "cell_type": "code",
   "execution_count": 61,
   "id": "602669f9",
   "metadata": {},
   "outputs": [
    {
     "data": {
      "text/html": [
       "<div>\n",
       "<style scoped>\n",
       "    .dataframe tbody tr th:only-of-type {\n",
       "        vertical-align: middle;\n",
       "    }\n",
       "\n",
       "    .dataframe tbody tr th {\n",
       "        vertical-align: top;\n",
       "    }\n",
       "\n",
       "    .dataframe thead th {\n",
       "        text-align: right;\n",
       "    }\n",
       "</style>\n",
       "<table border=\"1\" class=\"dataframe\">\n",
       "  <thead>\n",
       "    <tr style=\"text-align: right;\">\n",
       "      <th></th>\n",
       "      <th>Destination Port</th>\n",
       "      <th>Flow Duration</th>\n",
       "      <th>Total Fwd Packets</th>\n",
       "      <th>Total Backward Packets</th>\n",
       "      <th>Total Length of Fwd Packets</th>\n",
       "      <th>Total Length of Bwd Packets</th>\n",
       "      <th>Fwd Packet Length Max</th>\n",
       "      <th>Fwd Packet Length Min</th>\n",
       "      <th>Fwd Packet Length Mean</th>\n",
       "      <th>Fwd Packet Length Std</th>\n",
       "      <th>...</th>\n",
       "      <th>min_seg_size_forward</th>\n",
       "      <th>Active Mean</th>\n",
       "      <th>Active Std</th>\n",
       "      <th>Active Max</th>\n",
       "      <th>Active Min</th>\n",
       "      <th>Idle Mean</th>\n",
       "      <th>Idle Std</th>\n",
       "      <th>Idle Max</th>\n",
       "      <th>Idle Min</th>\n",
       "      <th>Label</th>\n",
       "    </tr>\n",
       "  </thead>\n",
       "  <tbody>\n",
       "    <tr>\n",
       "      <th>0</th>\n",
       "      <td>443</td>\n",
       "      <td>62590806</td>\n",
       "      <td>8</td>\n",
       "      <td>7</td>\n",
       "      <td>314</td>\n",
       "      <td>304</td>\n",
       "      <td>152</td>\n",
       "      <td>6</td>\n",
       "      <td>39.25</td>\n",
       "      <td>49.672499</td>\n",
       "      <td>...</td>\n",
       "      <td>20</td>\n",
       "      <td>234866.0</td>\n",
       "      <td>0.0</td>\n",
       "      <td>234866</td>\n",
       "      <td>234866</td>\n",
       "      <td>57800000.0</td>\n",
       "      <td>0.0</td>\n",
       "      <td>57800000</td>\n",
       "      <td>57800000</td>\n",
       "      <td>BENIGN</td>\n",
       "    </tr>\n",
       "    <tr>\n",
       "      <th>1</th>\n",
       "      <td>53</td>\n",
       "      <td>174</td>\n",
       "      <td>2</td>\n",
       "      <td>2</td>\n",
       "      <td>64</td>\n",
       "      <td>96</td>\n",
       "      <td>32</td>\n",
       "      <td>32</td>\n",
       "      <td>32.00</td>\n",
       "      <td>0.000000</td>\n",
       "      <td>...</td>\n",
       "      <td>32</td>\n",
       "      <td>0.0</td>\n",
       "      <td>0.0</td>\n",
       "      <td>0</td>\n",
       "      <td>0</td>\n",
       "      <td>0.0</td>\n",
       "      <td>0.0</td>\n",
       "      <td>0</td>\n",
       "      <td>0</td>\n",
       "      <td>BENIGN</td>\n",
       "    </tr>\n",
       "    <tr>\n",
       "      <th>2</th>\n",
       "      <td>80</td>\n",
       "      <td>48615</td>\n",
       "      <td>4</td>\n",
       "      <td>6</td>\n",
       "      <td>2156</td>\n",
       "      <td>220</td>\n",
       "      <td>1804</td>\n",
       "      <td>0</td>\n",
       "      <td>539.00</td>\n",
       "      <td>858.697463</td>\n",
       "      <td>...</td>\n",
       "      <td>20</td>\n",
       "      <td>0.0</td>\n",
       "      <td>0.0</td>\n",
       "      <td>0</td>\n",
       "      <td>0</td>\n",
       "      <td>0.0</td>\n",
       "      <td>0.0</td>\n",
       "      <td>0</td>\n",
       "      <td>0</td>\n",
       "      <td>BENIGN</td>\n",
       "    </tr>\n",
       "    <tr>\n",
       "      <th>3</th>\n",
       "      <td>53</td>\n",
       "      <td>26324</td>\n",
       "      <td>1</td>\n",
       "      <td>1</td>\n",
       "      <td>49</td>\n",
       "      <td>114</td>\n",
       "      <td>49</td>\n",
       "      <td>49</td>\n",
       "      <td>49.00</td>\n",
       "      <td>0.000000</td>\n",
       "      <td>...</td>\n",
       "      <td>20</td>\n",
       "      <td>0.0</td>\n",
       "      <td>0.0</td>\n",
       "      <td>0</td>\n",
       "      <td>0</td>\n",
       "      <td>0.0</td>\n",
       "      <td>0.0</td>\n",
       "      <td>0</td>\n",
       "      <td>0</td>\n",
       "      <td>BENIGN</td>\n",
       "    </tr>\n",
       "    <tr>\n",
       "      <th>4</th>\n",
       "      <td>53</td>\n",
       "      <td>61680</td>\n",
       "      <td>2</td>\n",
       "      <td>2</td>\n",
       "      <td>52</td>\n",
       "      <td>308</td>\n",
       "      <td>26</td>\n",
       "      <td>26</td>\n",
       "      <td>26.00</td>\n",
       "      <td>0.000000</td>\n",
       "      <td>...</td>\n",
       "      <td>32</td>\n",
       "      <td>0.0</td>\n",
       "      <td>0.0</td>\n",
       "      <td>0</td>\n",
       "      <td>0</td>\n",
       "      <td>0.0</td>\n",
       "      <td>0.0</td>\n",
       "      <td>0</td>\n",
       "      <td>0</td>\n",
       "      <td>BENIGN</td>\n",
       "    </tr>\n",
       "  </tbody>\n",
       "</table>\n",
       "<p>5 rows × 79 columns</p>\n",
       "</div>"
      ],
      "text/plain": [
       "   Destination Port  Flow Duration  Total Fwd Packets  Total Backward Packets  \\\n",
       "0               443       62590806                  8                       7   \n",
       "1                53            174                  2                       2   \n",
       "2                80          48615                  4                       6   \n",
       "3                53          26324                  1                       1   \n",
       "4                53          61680                  2                       2   \n",
       "\n",
       "   Total Length of Fwd Packets  Total Length of Bwd Packets  \\\n",
       "0                          314                          304   \n",
       "1                           64                           96   \n",
       "2                         2156                          220   \n",
       "3                           49                          114   \n",
       "4                           52                          308   \n",
       "\n",
       "   Fwd Packet Length Max  Fwd Packet Length Min  Fwd Packet Length Mean  \\\n",
       "0                    152                      6                   39.25   \n",
       "1                     32                     32                   32.00   \n",
       "2                   1804                      0                  539.00   \n",
       "3                     49                     49                   49.00   \n",
       "4                     26                     26                   26.00   \n",
       "\n",
       "    Fwd Packet Length Std  ...   min_seg_size_forward  Active Mean  \\\n",
       "0               49.672499  ...                     20     234866.0   \n",
       "1                0.000000  ...                     32          0.0   \n",
       "2              858.697463  ...                     20          0.0   \n",
       "3                0.000000  ...                     20          0.0   \n",
       "4                0.000000  ...                     32          0.0   \n",
       "\n",
       "   Active Std  Active Max  Active Min   Idle Mean   Idle Std   Idle Max  \\\n",
       "0         0.0      234866      234866  57800000.0        0.0   57800000   \n",
       "1         0.0           0           0         0.0        0.0          0   \n",
       "2         0.0           0           0         0.0        0.0          0   \n",
       "3         0.0           0           0         0.0        0.0          0   \n",
       "4         0.0           0           0         0.0        0.0          0   \n",
       "\n",
       "    Idle Min   Label  \n",
       "0   57800000  BENIGN  \n",
       "1          0  BENIGN  \n",
       "2          0  BENIGN  \n",
       "3          0  BENIGN  \n",
       "4          0  BENIGN  \n",
       "\n",
       "[5 rows x 79 columns]"
      ]
     },
     "execution_count": 61,
     "metadata": {},
     "output_type": "execute_result"
    }
   ],
   "source": [
    "df= pd.read_csv(r'C:\\Users\\mkahs\\Repository\\CICIDS\\ProcessedDataset\\train_MachineLearningCVE.csv')\n",
    "df.head()"
   ]
  }
 ],
 "metadata": {
  "kernelspec": {
   "display_name": "Python 3 (ipykernel)",
   "language": "python",
   "name": "python3"
  },
  "language_info": {
   "codemirror_mode": {
    "name": "ipython",
    "version": 3
   },
   "file_extension": ".py",
   "mimetype": "text/x-python",
   "name": "python",
   "nbconvert_exporter": "python",
   "pygments_lexer": "ipython3",
   "version": "3.9.7"
  }
 },
 "nbformat": 4,
 "nbformat_minor": 5
}
