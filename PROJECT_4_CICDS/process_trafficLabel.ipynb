{
 "cells": [
  {
   "cell_type": "code",
   "execution_count": 18,
   "id": "3c31efa6",
   "metadata": {},
   "outputs": [],
   "source": [
    "import os\n",
    "import logging\n",
    "\n",
    "import pandas as pd\n",
    "import tensorflow.keras as keras\n",
    "\n",
    "from tensorflow.keras.callbacks import ModelCheckpoint\n",
    "from tensorflow.keras.utils import plot_model\n",
    "\n",
    "# Log setting\n",
    "logging.basicConfig(format=\"%(asctime)s %(levelname)s %(message)s\", datefmt=\"%H:%M:%S\", level=logging.INFO)\n",
    "\n",
    "# Change display.max_rows to show all features.\n",
    "pd.set_option(\"display.max_rows\", 85)\n",
    "import os\n",
    "import codecs\n",
    "import pandas as pd\n",
    "import glob"
   ]
  },
  {
   "cell_type": "code",
   "execution_count": 4,
   "id": "c8726487",
   "metadata": {},
   "outputs": [
    {
     "name": "stderr",
     "output_type": "stream",
     "text": [
      "C:\\Users\\mkahs\\AppData\\Local\\Temp/ipykernel_6964/1468470848.py:7: DtypeWarning: Columns (0,1,3,6,84) have mixed types. Specify dtype option on import or set low_memory=False.\n",
      "  dataframes.append(pd.read_csv(f,encoding='cp1252'))\n"
     ]
    }
   ],
   "source": [
    "import glob\n",
    "files = glob.glob(r\"C:\\Users\\mkahs\\Repository\\CICIDS\\GeneratedLabelledFlows\\TrafficLabelling\\*.csv\")\n",
    "\n",
    "dataframes = []\n",
    "\n",
    "for f in files:\n",
    "    dataframes.append(pd.read_csv(f,encoding='cp1252'))\n",
    "\n",
    "dataframes_df = pd.concat(dataframes, ignore_index=True)"
   ]
  },
  {
   "cell_type": "code",
   "execution_count": 5,
   "id": "1103aac7",
   "metadata": {},
   "outputs": [
    {
     "data": {
      "text/plain": [
       "(3119345, 85)"
      ]
     },
     "execution_count": 5,
     "metadata": {},
     "output_type": "execute_result"
    }
   ],
   "source": [
    "dataframes_df.shape"
   ]
  },
  {
   "cell_type": "code",
   "execution_count": 7,
   "id": "25b231ea",
   "metadata": {},
   "outputs": [],
   "source": [
    "dataframes_df.to_csv((r\"C:\\Users\\mkahs\\Repository\\CICIDS\\GeneratedLabelledFlows\\TrafficLabelling\\FullData_cleaned.csv\"))"
   ]
  },
  {
   "cell_type": "code",
   "execution_count": 8,
   "id": "5c4bdb76",
   "metadata": {},
   "outputs": [
    {
     "data": {
      "text/plain": [
       "(2830743, 85)"
      ]
     },
     "execution_count": 8,
     "metadata": {},
     "output_type": "execute_result"
    }
   ],
   "source": [
    "\n",
    "\n",
    "# Show number of NaN rows\n",
    "# print(\"Removing {} rows that contains only NaN values...\".format(df[df.isna().all(axis=1)].shape[0]))\n",
    "\n",
    "# Remove NaN rows\n",
    "dataframes_df = dataframes_df[~ dataframes_df.isna().all(axis=1)]\n",
    "dataframes_df.shape"
   ]
  },
  {
   "cell_type": "code",
   "execution_count": 9,
   "id": "25085091",
   "metadata": {},
   "outputs": [],
   "source": [
    "dataframes_df.to_csv((r\"C:\\Users\\mkahs\\Repository\\CICIDS\\GeneratedLabelledFlows\\TrafficLabelling\\FullData_cleaned.csv\"))"
   ]
  },
  {
   "cell_type": "code",
   "execution_count": 15,
   "id": "ddb8fbf6",
   "metadata": {},
   "outputs": [
    {
     "data": {
      "text/plain": [
       "BENIGN                        2273097\n",
       "DoS Hulk                       231073\n",
       "PortScan                       158930\n",
       "DDoS                           128027\n",
       "DoS GoldenEye                   10293\n",
       "FTP-Patator                      7938\n",
       "SSH-Patator                      5897\n",
       "DoS slowloris                    5796\n",
       "DoS Slowhttptest                 5499\n",
       "Bot                              1966\n",
       "Web Attack – Brute Force         1507\n",
       "Web Attack – XSS                  652\n",
       "Infiltration                       36\n",
       "Web Attack – Sql Injection         21\n",
       "Heartbleed                         11\n",
       "Name:  Label, dtype: int64"
      ]
     },
     "execution_count": 15,
     "metadata": {},
     "output_type": "execute_result"
    }
   ],
   "source": [
    "dataframes_df[' Label'].value_counts()"
   ]
  },
  {
   "cell_type": "code",
   "execution_count": 19,
   "id": "b15b0cf6",
   "metadata": {},
   "outputs": [],
   "source": [
    "dataframes_df=pd.read_csv((r\"C:\\Users\\mkahs\\Repository\\CICIDS\\GeneratedLabelledFlows\\TrafficLabelling\\FullData_cleaned.csv\"))"
   ]
  },
  {
   "cell_type": "code",
   "execution_count": 20,
   "id": "8a1e54d8",
   "metadata": {},
   "outputs": [],
   "source": [
    "dataframes_df.rename({' Destination Port':'Destination Port', ' Flow Duration':'Flow Duration',' Total Fwd Packets':'Total Fwd Packets',\n",
    "' Total Backward Packets':'Total Backward Packets', ' Total Length of Fwd Packets':'Total Length of Fwd Packets',\n",
    "       ' Total Length of Bwd Packets':'Total Length of Bwd Packets', ' Fwd Packet Length Max':'Fwd Packet Length Max',\n",
    "   ' Fwd Packet Length Min':'Fwd Packet Length Min', ' Fwd Packet Length Mean':'Fwd Packet Length Mean', 'Fwd Packet Length Std':'Fwd Packet Length Std',\n",
    "   ' Bwd Packet Length Max':'Bwd Packet Length Max',\n",
    "       ' Bwd Packet Length Min':'Bwd Packet Length Min', ' Bwd Packet Length Mean':'Bwd Packet Length Mean',\n",
    "       ' Bwd Packet Length Std':'Bwd Packet Length Std', ' Flow Bytes/s':'Flow Bytes/s', 'Flow Packets/s':'Flow Packets/s',\n",
    "       ' Flow IAT Mean':'Flow IAT Mean', ' Flow IAT Std':'Flow IAT Std', ' Flow IAT Max':'Flow IAT Max', ' Flow IAT Min':'Flow IAT Min',\n",
    "       ' Fwd IAT Total':'Fwd IAT Total', ' Fwd IAT Mean':'Fwd IAT Mean', ' Fwd IAT Std':'Fwd IAT Std', ' Fwd IAT Max':'Fwd IAT Max',\n",
    "       ' Fwd IAT Min':'Fwd IAT Min', ' Bwd IAT Total':'Bwd IAT Total', ' Bwd IAT Mean':'Bwd IAT Mean', ' Bwd IAT Std':'Bwd IAT Std',\n",
    "       ' Bwd IAT Max':'Bwd IAT Max', ' Bwd IAT Min':'Bwd IAT Min', ' Fwd PSH Flags':'Fwd PSH Flags', ' Bwd PSH Flags':'Bwd PSH Flags',\n",
    "       ' Fwd URG Flags':'Fwd URG Flags', ' Bwd URG Flags':'Bwd URG Flags', ' Fwd Header Length':'Fwd Header Length',\n",
    "       ' Bwd Header Length':'Bwd Header Length', ' Fwd Packets/s':'Fwd Packets/s', ' Bwd Packets/s':'Bwd Packets/s',\n",
    "       ' Min Packet Length':'Min Packet Length', ' Max Packet Length':'Max Packet Length', ' Packet Length Mean':'Packet Length Mean',\n",
    "       ' Packet Length Std':'Packet Length Std', ' Packet Length Variance':'Packet Length Variance', ' FIN Flag Count':'FIN Flag Count',\n",
    "       ' SYN Flag Count':'SYN Flag Count', ' RST Flag Count':'RST Flag Count', ' PSH Flag Count':'PSH Flag Count',\n",
    "       ' ACK Flag Count':'ACK Flag Count', ' URG Flag Count':'URG Flag Count', ' CWE Flag Count':'CWE Flag Count',\n",
    "       ' ECE Flag Count':'ECE Flag Count', ' Down/Up Ratio':'Down/Up Ratio', ' Average Packet Size':'Average Packet Size',\n",
    "       ' Avg Fwd Segment Size':'Avg Fwd Segment Size', ' Avg Bwd Segment Size':'Avg Bwd Segment Size',\n",
    "       ' Fwd Header Length.1':'Fwd Header Length.1', ' Fwd Avg Bytes/Bulk':'Fwd Avg Bytes/Bulk', ' Fwd Avg Packets/Bulk':'Fwd Avg Packets/Bulk',\n",
    "       ' Fwd Avg Bulk Rate':'Fwd Avg Bulk Rate', ' Bwd Avg Bytes/Bulk':'Bwd Avg Bytes/Bulk', ' Bwd Avg Packets/Bulk':'Bwd Avg Packets/Bulk',\n",
    "       ' Bwd Avg Bulk Rate':'Bwd Avg Bulk Rate', ' Subflow Fwd Packets':'Subflow Fwd Packets', ' Subflow Fwd Bytes':'Subflow Fwd Bytes',\n",
    "       ' Subflow Bwd Packets':'Subflow Bwd Packets', ' Subflow Bwd Bytes':'Subflow Bwd Bytes', ' Init_Win_bytes_forward':'Init_Win_bytes_forward',\n",
    "       ' Init_Win_bytes_backward':' Init_Win_bytes_backward', ' act_data_pkt_fwd':'act_data_pkt_fwd',\n",
    "       ' min_seg_size_forward':' min_seg_size_forward', 'Active Mean':'Active Mean', ' Active Std':'Active Std', ' Active Max':'Active Max',\n",
    "       ' Active Min':'Active Min', 'Idle Mean':'Idle Mean', 'Idle Std':'Idle Std', 'Idle Max':'Idle Max', 'Idle Min':'Idle Min',\n",
    "       ' Label':'Label', 'Destination IP': 'Destination IP', ' Flow ID': 'Flow ID', ' Protocol': 'Protocol',\n",
    "        ' Source IP': 'Source IP',' Source Port': 'Source Port', ' Timestamp':'Timestamp'}, axis=1,inplace=True)"
   ]
  },
  {
   "cell_type": "code",
   "execution_count": 21,
   "id": "a5d0cc25",
   "metadata": {},
   "outputs": [
    {
     "data": {
      "text/plain": [
       "Index(['Unnamed: 0', 'Flow ID', 'Source IP', 'Source Port', ' Destination IP',\n",
       "       'Destination Port', 'Protocol', 'Timestamp', 'Flow Duration',\n",
       "       'Total Fwd Packets', 'Total Backward Packets',\n",
       "       'Total Length of Fwd Packets', 'Total Length of Bwd Packets',\n",
       "       'Fwd Packet Length Max', 'Fwd Packet Length Min',\n",
       "       'Fwd Packet Length Mean', ' Fwd Packet Length Std',\n",
       "       'Bwd Packet Length Max', 'Bwd Packet Length Min',\n",
       "       'Bwd Packet Length Mean', 'Bwd Packet Length Std', 'Flow Bytes/s',\n",
       "       ' Flow Packets/s', 'Flow IAT Mean', 'Flow IAT Std', 'Flow IAT Max',\n",
       "       'Flow IAT Min', 'Fwd IAT Total', 'Fwd IAT Mean', 'Fwd IAT Std',\n",
       "       'Fwd IAT Max', 'Fwd IAT Min', 'Bwd IAT Total', 'Bwd IAT Mean',\n",
       "       'Bwd IAT Std', 'Bwd IAT Max', 'Bwd IAT Min', 'Fwd PSH Flags',\n",
       "       'Bwd PSH Flags', 'Fwd URG Flags', 'Bwd URG Flags', 'Fwd Header Length',\n",
       "       'Bwd Header Length', 'Fwd Packets/s', 'Bwd Packets/s',\n",
       "       'Min Packet Length', 'Max Packet Length', 'Packet Length Mean',\n",
       "       'Packet Length Std', 'Packet Length Variance', 'FIN Flag Count',\n",
       "       'SYN Flag Count', 'RST Flag Count', 'PSH Flag Count', 'ACK Flag Count',\n",
       "       'URG Flag Count', 'CWE Flag Count', 'ECE Flag Count', 'Down/Up Ratio',\n",
       "       'Average Packet Size', 'Avg Fwd Segment Size', 'Avg Bwd Segment Size',\n",
       "       'Fwd Header Length.1', 'Fwd Avg Bytes/Bulk', 'Fwd Avg Packets/Bulk',\n",
       "       'Fwd Avg Bulk Rate', 'Bwd Avg Bytes/Bulk', 'Bwd Avg Packets/Bulk',\n",
       "       'Bwd Avg Bulk Rate', 'Subflow Fwd Packets', 'Subflow Fwd Bytes',\n",
       "       'Subflow Bwd Packets', 'Subflow Bwd Bytes', 'Init_Win_bytes_forward',\n",
       "       ' Init_Win_bytes_backward', 'act_data_pkt_fwd', ' min_seg_size_forward',\n",
       "       'Active Mean', 'Active Std', 'Active Max', 'Active Min', 'Idle Mean',\n",
       "       ' Idle Std', ' Idle Max', ' Idle Min', 'Label'],\n",
       "      dtype='object')"
      ]
     },
     "execution_count": 21,
     "metadata": {},
     "output_type": "execute_result"
    }
   ],
   "source": [
    "cve_col_list= dataframes_df.columns\n",
    "cve_col_list"
   ]
  },
  {
   "cell_type": "code",
   "execution_count": null,
   "id": "ad9fc1e8",
   "metadata": {},
   "outputs": [],
   "source": [
    "from sklearn.model_selection import train_test_split\n",
    "\n",
    "train, test = train_test_split(dataframes_df, test_size=0.2)"
   ]
  },
  {
   "cell_type": "code",
   "execution_count": null,
   "id": "a87712fe",
   "metadata": {},
   "outputs": [],
   "source": []
  }
 ],
 "metadata": {
  "kernelspec": {
   "display_name": "Python 3 (ipykernel)",
   "language": "python",
   "name": "python3"
  },
  "language_info": {
   "codemirror_mode": {
    "name": "ipython",
    "version": 3
   },
   "file_extension": ".py",
   "mimetype": "text/x-python",
   "name": "python",
   "nbconvert_exporter": "python",
   "pygments_lexer": "ipython3",
   "version": "3.9.7"
  }
 },
 "nbformat": 4,
 "nbformat_minor": 5
}
