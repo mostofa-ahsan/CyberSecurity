{
 "cells": [
  {
   "cell_type": "code",
   "execution_count": 1,
   "id": "656b792d",
   "metadata": {},
   "outputs": [],
   "source": [
    "import tensorflow_hub as hub\n",
    "\n",
    "import pandas as pd\n",
    "\n",
    "import tensorflow_text as text\n",
    "\n",
    "import matplotlib.pyplot as plt\n",
    "\n",
    "from sklearn.model_selection import train_test_split\n",
    "\n",
    "import tensorflow as tf\n",
    "\n",
    "import numpy as np"
   ]
  },
  {
   "cell_type": "code",
   "execution_count": 2,
   "id": "681b8cd2",
   "metadata": {},
   "outputs": [
    {
     "data": {
      "text/html": [
       "<div>\n",
       "<style scoped>\n",
       "    .dataframe tbody tr th:only-of-type {\n",
       "        vertical-align: middle;\n",
       "    }\n",
       "\n",
       "    .dataframe tbody tr th {\n",
       "        vertical-align: top;\n",
       "    }\n",
       "\n",
       "    .dataframe thead th {\n",
       "        text-align: right;\n",
       "    }\n",
       "</style>\n",
       "<table border=\"1\" class=\"dataframe\">\n",
       "  <thead>\n",
       "    <tr style=\"text-align: right;\">\n",
       "      <th></th>\n",
       "      <th>Category</th>\n",
       "      <th>Message</th>\n",
       "    </tr>\n",
       "  </thead>\n",
       "  <tbody>\n",
       "    <tr>\n",
       "      <th>0</th>\n",
       "      <td>ham</td>\n",
       "      <td>Go until jurong point, crazy.. Available only ...</td>\n",
       "    </tr>\n",
       "    <tr>\n",
       "      <th>1</th>\n",
       "      <td>ham</td>\n",
       "      <td>Ok lar... Joking wif u oni...</td>\n",
       "    </tr>\n",
       "    <tr>\n",
       "      <th>2</th>\n",
       "      <td>spam</td>\n",
       "      <td>Free entry in 2 a wkly comp to win FA Cup fina...</td>\n",
       "    </tr>\n",
       "    <tr>\n",
       "      <th>3</th>\n",
       "      <td>ham</td>\n",
       "      <td>U dun say so early hor... U c already then say...</td>\n",
       "    </tr>\n",
       "    <tr>\n",
       "      <th>4</th>\n",
       "      <td>ham</td>\n",
       "      <td>Nah I don't think he goes to usf, he lives aro...</td>\n",
       "    </tr>\n",
       "  </tbody>\n",
       "</table>\n",
       "</div>"
      ],
      "text/plain": [
       "  Category                                            Message\n",
       "0      ham  Go until jurong point, crazy.. Available only ...\n",
       "1      ham                      Ok lar... Joking wif u oni...\n",
       "2     spam  Free entry in 2 a wkly comp to win FA Cup fina...\n",
       "3      ham  U dun say so early hor... U c already then say...\n",
       "4      ham  Nah I don't think he goes to usf, he lives aro..."
      ]
     },
     "execution_count": 2,
     "metadata": {},
     "output_type": "execute_result"
    }
   ],
   "source": [
    "# load data\n",
    "df = pd.read_csv(r'C:\\Users\\mkahs\\Repository\\SPAM-BERT\\SPAM text message 20170820 - Data.csv')\n",
    "df.head()"
   ]
  },
  {
   "cell_type": "code",
   "execution_count": 3,
   "id": "1dae59e0",
   "metadata": {},
   "outputs": [
    {
     "data": {
      "text/plain": [
       "ham     4825\n",
       "spam     747\n",
       "Name: Category, dtype: int64"
      ]
     },
     "execution_count": 3,
     "metadata": {},
     "output_type": "execute_result"
    }
   ],
   "source": [
    "# check count and unique and top values and their frequency\n",
    "df['Category'].value_counts()"
   ]
  },
  {
   "cell_type": "code",
   "execution_count": 4,
   "id": "afa90e7b",
   "metadata": {},
   "outputs": [
    {
     "name": "stdout",
     "output_type": "stream",
     "text": [
      "0.15%\n"
     ]
    }
   ],
   "source": [
    "# check percentage of data - states how much data needs to be balanced\n",
    "print(str(round(747/4825,2))+'%')"
   ]
  },
  {
   "cell_type": "code",
   "execution_count": 5,
   "id": "cef7943b",
   "metadata": {},
   "outputs": [
    {
     "name": "stdout",
     "output_type": "stream",
     "text": [
      "Ham Dataset Shape: (4825, 2)\n",
      "Spam Dataset Shape: (747, 2)\n"
     ]
    }
   ],
   "source": [
    "# creating 2 new dataframe as df_ham , df_spam\n",
    "\n",
    "df_spam = df[df['Category']=='spam']\n",
    "\n",
    "df_ham = df[df['Category']=='ham']\n",
    "\n",
    "print(\"Ham Dataset Shape:\", df_ham.shape)\n",
    "\n",
    "print(\"Spam Dataset Shape:\", df_spam.shape)"
   ]
  },
  {
   "cell_type": "code",
   "execution_count": 6,
   "id": "6d600b3d",
   "metadata": {},
   "outputs": [
    {
     "data": {
      "text/plain": [
       "(747, 2)"
      ]
     },
     "execution_count": 6,
     "metadata": {},
     "output_type": "execute_result"
    }
   ],
   "source": [
    "# downsampling ham dataset - take only random 747 example\n",
    "# will use df_spam.shape[0] - 747\n",
    "df_ham_downsampled = df_ham.sample(df_spam.shape[0])\n",
    "df_ham_downsampled.shape"
   ]
  },
  {
   "cell_type": "code",
   "execution_count": 7,
   "id": "60bb49dc",
   "metadata": {},
   "outputs": [],
   "source": [
    "# concating both dataset - df_spam and df_ham_balanced to create df_balanced dataset\n",
    "df_balanced = pd.concat([df_spam , df_ham_downsampled])"
   ]
  },
  {
   "cell_type": "code",
   "execution_count": 8,
   "id": "49dac732",
   "metadata": {},
   "outputs": [
    {
     "data": {
      "text/plain": [
       "spam    747\n",
       "ham     747\n",
       "Name: Category, dtype: int64"
      ]
     },
     "execution_count": 8,
     "metadata": {},
     "output_type": "execute_result"
    }
   ],
   "source": [
    "df_balanced['Category'].value_counts()"
   ]
  },
  {
   "cell_type": "code",
   "execution_count": 9,
   "id": "b9ae7efb",
   "metadata": {},
   "outputs": [
    {
     "data": {
      "text/html": [
       "<div>\n",
       "<style scoped>\n",
       "    .dataframe tbody tr th:only-of-type {\n",
       "        vertical-align: middle;\n",
       "    }\n",
       "\n",
       "    .dataframe tbody tr th {\n",
       "        vertical-align: top;\n",
       "    }\n",
       "\n",
       "    .dataframe thead th {\n",
       "        text-align: right;\n",
       "    }\n",
       "</style>\n",
       "<table border=\"1\" class=\"dataframe\">\n",
       "  <thead>\n",
       "    <tr style=\"text-align: right;\">\n",
       "      <th></th>\n",
       "      <th>Category</th>\n",
       "      <th>Message</th>\n",
       "    </tr>\n",
       "  </thead>\n",
       "  <tbody>\n",
       "    <tr>\n",
       "      <th>2169</th>\n",
       "      <td>ham</td>\n",
       "      <td>Thx. All will be well in a few months</td>\n",
       "    </tr>\n",
       "    <tr>\n",
       "      <th>3244</th>\n",
       "      <td>ham</td>\n",
       "      <td>Pls accept me for one day. Or am begging you c...</td>\n",
       "    </tr>\n",
       "    <tr>\n",
       "      <th>4202</th>\n",
       "      <td>ham</td>\n",
       "      <td>Wylie update: my weed dealer carlos went to fr...</td>\n",
       "    </tr>\n",
       "    <tr>\n",
       "      <th>2041</th>\n",
       "      <td>ham</td>\n",
       "      <td>You always make things bigger than they are</td>\n",
       "    </tr>\n",
       "    <tr>\n",
       "      <th>2581</th>\n",
       "      <td>spam</td>\n",
       "      <td>U are subscribed to the best Mobile Content Se...</td>\n",
       "    </tr>\n",
       "    <tr>\n",
       "      <th>856</th>\n",
       "      <td>spam</td>\n",
       "      <td>Talk sexy!! Make new friends or fall in love i...</td>\n",
       "    </tr>\n",
       "    <tr>\n",
       "      <th>1321</th>\n",
       "      <td>ham</td>\n",
       "      <td>Just sent again. Do you scream and moan in bed...</td>\n",
       "    </tr>\n",
       "    <tr>\n",
       "      <th>4896</th>\n",
       "      <td>spam</td>\n",
       "      <td>Want the latest Video handset? 750 anytime any...</td>\n",
       "    </tr>\n",
       "    <tr>\n",
       "      <th>2634</th>\n",
       "      <td>ham</td>\n",
       "      <td>That's what I love to hear :V see you sundayis...</td>\n",
       "    </tr>\n",
       "    <tr>\n",
       "      <th>1708</th>\n",
       "      <td>ham</td>\n",
       "      <td>Was doing my test earlier. I appreciate you. W...</td>\n",
       "    </tr>\n",
       "  </tbody>\n",
       "</table>\n",
       "</div>"
      ],
      "text/plain": [
       "     Category                                            Message\n",
       "2169      ham              Thx. All will be well in a few months\n",
       "3244      ham  Pls accept me for one day. Or am begging you c...\n",
       "4202      ham  Wylie update: my weed dealer carlos went to fr...\n",
       "2041      ham        You always make things bigger than they are\n",
       "2581     spam  U are subscribed to the best Mobile Content Se...\n",
       "856      spam  Talk sexy!! Make new friends or fall in love i...\n",
       "1321      ham  Just sent again. Do you scream and moan in bed...\n",
       "4896     spam  Want the latest Video handset? 750 anytime any...\n",
       "2634      ham  That's what I love to hear :V see you sundayis...\n",
       "1708      ham  Was doing my test earlier. I appreciate you. W..."
      ]
     },
     "execution_count": 9,
     "metadata": {},
     "output_type": "execute_result"
    }
   ],
   "source": [
    "df_balanced.sample(10)"
   ]
  },
  {
   "cell_type": "code",
   "execution_count": 10,
   "id": "3cf230d8",
   "metadata": {},
   "outputs": [],
   "source": [
    "# creating numerical repersentation of category - one hot encoding\n",
    "df_balanced['spam'] = df_balanced['Category'].apply(lambda x:1 if x=='spam' else 0)"
   ]
  },
  {
   "cell_type": "code",
   "execution_count": 11,
   "id": "a086503e",
   "metadata": {},
   "outputs": [
    {
     "data": {
      "text/html": [
       "<div>\n",
       "<style scoped>\n",
       "    .dataframe tbody tr th:only-of-type {\n",
       "        vertical-align: middle;\n",
       "    }\n",
       "\n",
       "    .dataframe tbody tr th {\n",
       "        vertical-align: top;\n",
       "    }\n",
       "\n",
       "    .dataframe thead th {\n",
       "        text-align: right;\n",
       "    }\n",
       "</style>\n",
       "<table border=\"1\" class=\"dataframe\">\n",
       "  <thead>\n",
       "    <tr style=\"text-align: right;\">\n",
       "      <th></th>\n",
       "      <th>Category</th>\n",
       "      <th>Message</th>\n",
       "      <th>spam</th>\n",
       "    </tr>\n",
       "  </thead>\n",
       "  <tbody>\n",
       "    <tr>\n",
       "      <th>4243</th>\n",
       "      <td>spam</td>\n",
       "      <td>Show ur colours! Euro 2004 2-4-1 Offer! Get an...</td>\n",
       "      <td>1</td>\n",
       "    </tr>\n",
       "    <tr>\n",
       "      <th>3556</th>\n",
       "      <td>spam</td>\n",
       "      <td>From next month get upto 50% More Calls 4 Ur s...</td>\n",
       "      <td>1</td>\n",
       "    </tr>\n",
       "    <tr>\n",
       "      <th>1321</th>\n",
       "      <td>ham</td>\n",
       "      <td>Just sent again. Do you scream and moan in bed...</td>\n",
       "      <td>0</td>\n",
       "    </tr>\n",
       "    <tr>\n",
       "      <th>2990</th>\n",
       "      <td>spam</td>\n",
       "      <td>No 1 POLYPHONIC tone 4 ur mob every week! Just...</td>\n",
       "      <td>1</td>\n",
       "    </tr>\n",
       "  </tbody>\n",
       "</table>\n",
       "</div>"
      ],
      "text/plain": [
       "     Category                                            Message  spam\n",
       "4243     spam  Show ur colours! Euro 2004 2-4-1 Offer! Get an...     1\n",
       "3556     spam  From next month get upto 50% More Calls 4 Ur s...     1\n",
       "1321      ham  Just sent again. Do you scream and moan in bed...     0\n",
       "2990     spam  No 1 POLYPHONIC tone 4 ur mob every week! Just...     1"
      ]
     },
     "execution_count": 11,
     "metadata": {},
     "output_type": "execute_result"
    }
   ],
   "source": [
    "# displaying data - spam -1 , ham-0\n",
    "df_balanced.sample(4)"
   ]
  },
  {
   "cell_type": "code",
   "execution_count": 12,
   "id": "3327b28a",
   "metadata": {},
   "outputs": [],
   "source": [
    "# loading train test split\n",
    "from sklearn.model_selection import train_test_split\n",
    "X_train, X_test , y_train, y_test = train_test_split(df_balanced['Message'], df_balanced['spam'],\n",
    "                                                    stratify = df_balanced['spam'])"
   ]
  },
  {
   "cell_type": "code",
   "execution_count": 15,
   "id": "ae0adc79",
   "metadata": {},
   "outputs": [],
   "source": [
    "# downloading preprocessing files and model\n",
    "# Load BERT and the preprocessing model from TF Hub.\n",
    "# bert_preprocessor = hub.load('https://tfhub.dev/tensorflow/bert_en_uncased_preprocess/1')\n",
    "# bert_encoder = hub.load('https://tfhub.dev/tensorflow/bert_en_uncased_L-12_H-768_A-12/3')\n",
    "bert_preprocessor = hub.KerasLayer('https://tfhub.dev/tensorflow/bert_en_uncased_preprocess/3')\n",
    "bert_encoder = hub.KerasLayer('https://tfhub.dev/tensorflow/bert_en_uncased_L-12_H-768_A-12/4')"
   ]
  },
  {
   "cell_type": "code",
   "execution_count": 16,
   "id": "f3820d83",
   "metadata": {},
   "outputs": [],
   "source": [
    "text_input = tf.keras.layers.Input(shape = (), dtype = tf.string, name = 'Inputs')\n",
    "preprocessed_text = bert_preprocessor(text_input)\n",
    "embeed = bert_encoder(preprocessed_text)\n",
    "dropout = tf.keras.layers.Dropout(0.1, name = 'Dropout')(embeed['pooled_output'])\n",
    "outputs = tf.keras.layers.Dense(1, activation = 'sigmoid', name = 'Dense')(dropout)"
   ]
  },
  {
   "cell_type": "code",
   "execution_count": 17,
   "id": "344a941e",
   "metadata": {},
   "outputs": [],
   "source": [
    "# creating final model\n",
    "model = tf.keras.Model(inputs = [text_input], outputs = [outputs])"
   ]
  },
  {
   "cell_type": "code",
   "execution_count": 18,
   "id": "9508cba0",
   "metadata": {},
   "outputs": [
    {
     "name": "stdout",
     "output_type": "stream",
     "text": [
      "Model: \"model\"\n",
      "__________________________________________________________________________________________________\n",
      " Layer (type)                   Output Shape         Param #     Connected to                     \n",
      "==================================================================================================\n",
      " Inputs (InputLayer)            [(None,)]            0           []                               \n",
      "                                                                                                  \n",
      " keras_layer (KerasLayer)       {'input_word_ids':   0           ['Inputs[0][0]']                 \n",
      "                                (None, 128),                                                      \n",
      "                                 'input_type_ids':                                                \n",
      "                                (None, 128),                                                      \n",
      "                                 'input_mask': (Non                                               \n",
      "                                e, 128)}                                                          \n",
      "                                                                                                  \n",
      " keras_layer_1 (KerasLayer)     {'sequence_output':  109482241   ['keras_layer[0][0]',            \n",
      "                                 (None, 128, 768),                'keras_layer[0][1]',            \n",
      "                                 'encoder_outputs':               'keras_layer[0][2]']            \n",
      "                                 [(None, 128, 768),                                               \n",
      "                                 (None, 128, 768),                                                \n",
      "                                 (None, 128, 768),                                                \n",
      "                                 (None, 128, 768),                                                \n",
      "                                 (None, 128, 768),                                                \n",
      "                                 (None, 128, 768),                                                \n",
      "                                 (None, 128, 768),                                                \n",
      "                                 (None, 128, 768),                                                \n",
      "                                 (None, 128, 768),                                                \n",
      "                                 (None, 128, 768),                                                \n",
      "                                 (None, 128, 768),                                                \n",
      "                                 (None, 128, 768)],                                               \n",
      "                                 'default': (None,                                                \n",
      "                                768),                                                             \n",
      "                                 'pooled_output': (                                               \n",
      "                                None, 768)}                                                       \n",
      "                                                                                                  \n",
      " Dropout (Dropout)              (None, 768)          0           ['keras_layer_1[0][13]']         \n",
      "                                                                                                  \n",
      " Dense (Dense)                  (None, 1)            769         ['Dropout[0][0]']                \n",
      "                                                                                                  \n",
      "==================================================================================================\n",
      "Total params: 109,483,010\n",
      "Trainable params: 769\n",
      "Non-trainable params: 109,482,241\n",
      "__________________________________________________________________________________________________\n"
     ]
    }
   ],
   "source": [
    "# check the summary of the model\n",
    "model.summary()"
   ]
  },
  {
   "cell_type": "code",
   "execution_count": 19,
   "id": "98e270c8",
   "metadata": {},
   "outputs": [],
   "source": [
    "Metrics = [tf.keras.metrics.BinaryAccuracy(name = 'accuracy'),\n",
    "           tf.keras.metrics.Precision(name = 'precision'),\n",
    "           tf.keras.metrics.Recall(name = 'recall')\n",
    "           ]"
   ]
  },
  {
   "cell_type": "code",
   "execution_count": 20,
   "id": "5b5087c4",
   "metadata": {},
   "outputs": [],
   "source": [
    "# compiling our model\n",
    "model.compile(optimizer ='adam',\n",
    "               loss = 'binary_crossentropy',\n",
    "               metrics = Metrics)"
   ]
  },
  {
   "cell_type": "code",
   "execution_count": 21,
   "id": "5424de71",
   "metadata": {},
   "outputs": [
    {
     "name": "stdout",
     "output_type": "stream",
     "text": [
      "Epoch 1/10\n",
      "35/35 [==============================] - 20s 335ms/step - loss: 0.6633 - accuracy: 0.5929 - precision: 0.6004 - recall: 0.5554\n",
      "Epoch 2/10\n",
      "35/35 [==============================] - 12s 335ms/step - loss: 0.5394 - accuracy: 0.7759 - precision: 0.7668 - recall: 0.7929\n",
      "Epoch 3/10\n",
      "35/35 [==============================] - 12s 337ms/step - loss: 0.4568 - accuracy: 0.8580 - precision: 0.8416 - recall: 0.8821\n",
      "Epoch 4/10\n",
      "35/35 [==============================] - 12s 342ms/step - loss: 0.4069 - accuracy: 0.8723 - precision: 0.8564 - recall: 0.8946\n",
      "Epoch 5/10\n",
      "35/35 [==============================] - 11s 328ms/step - loss: 0.3738 - accuracy: 0.8839 - precision: 0.8785 - recall: 0.8911\n",
      "Epoch 6/10\n",
      "35/35 [==============================] - 12s 331ms/step - loss: 0.3419 - accuracy: 0.8893 - precision: 0.8798 - recall: 0.9018\n",
      "Epoch 7/10\n",
      "35/35 [==============================] - 12s 329ms/step - loss: 0.3280 - accuracy: 0.8938 - precision: 0.8808 - recall: 0.9107\n",
      "Epoch 8/10\n",
      "35/35 [==============================] - 12s 336ms/step - loss: 0.3159 - accuracy: 0.9027 - precision: 0.8935 - recall: 0.9143\n",
      "Epoch 9/10\n",
      "35/35 [==============================] - 12s 337ms/step - loss: 0.2971 - accuracy: 0.9098 - precision: 0.9033 - recall: 0.9179\n",
      "Epoch 10/10\n",
      "35/35 [==============================] - 12s 337ms/step - loss: 0.2860 - accuracy: 0.9054 - precision: 0.8969 - recall: 0.9161\n"
     ]
    }
   ],
   "source": [
    "history = model.fit(X_train, y_train, epochs = 10)"
   ]
  },
  {
   "cell_type": "code",
   "execution_count": 22,
   "id": "eebe95a0",
   "metadata": {},
   "outputs": [
    {
     "name": "stdout",
     "output_type": "stream",
     "text": [
      "12/12 [==============================] - 5s 328ms/step - loss: 0.2647 - accuracy: 0.9171 - precision: 0.8900 - recall: 0.9519\n"
     ]
    },
    {
     "data": {
      "text/plain": [
       "[0.2646516263484955,\n",
       " 0.9171122908592224,\n",
       " 0.8899999856948853,\n",
       " 0.9518716335296631]"
      ]
     },
     "execution_count": 22,
     "metadata": {},
     "output_type": "execute_result"
    }
   ],
   "source": [
    "# Evaluating performance\n",
    "model.evaluate(X_test,y_test)"
   ]
  },
  {
   "cell_type": "code",
   "execution_count": 27,
   "id": "3b43603e",
   "metadata": {},
   "outputs": [],
   "source": [
    "# getting y_pred by predicting over X_text and flattening it\n",
    "import numpy as np\n",
    "y_pred = model.predict(X_test)\n",
    "y_pred = np.round(y_pred)\n",
    "y_pred = y_pred.flatten() # require to be in one-dimensional array , for easy manipulation"
   ]
  },
  {
   "cell_type": "code",
   "execution_count": 29,
   "id": "425d6905",
   "metadata": {},
   "outputs": [],
   "source": [
    "# y_pred"
   ]
  },
  {
   "cell_type": "code",
   "execution_count": 30,
   "id": "80f9f2c3",
   "metadata": {},
   "outputs": [],
   "source": [
    "# y_test"
   ]
  },
  {
   "cell_type": "code",
   "execution_count": 31,
   "id": "b8bdc98c",
   "metadata": {},
   "outputs": [],
   "source": [
    "# importing confusion maxtrix\n",
    "\n",
    "from sklearn.metrics import confusion_matrix , classification_report\n",
    "\n",
    "# creating confusion matrix \n",
    "\n",
    "cm = confusion_matrix(y_test,y_pred)"
   ]
  },
  {
   "cell_type": "code",
   "execution_count": 32,
   "id": "28350109",
   "metadata": {},
   "outputs": [
    {
     "data": {
      "text/plain": [
       "array([[165,  22],\n",
       "       [  9, 178]], dtype=int64)"
      ]
     },
     "execution_count": 32,
     "metadata": {},
     "output_type": "execute_result"
    }
   ],
   "source": [
    "cm"
   ]
  },
  {
   "cell_type": "code",
   "execution_count": 33,
   "id": "3f16ed32",
   "metadata": {},
   "outputs": [],
   "source": [
    "# plotting as a graph - importing seaborn\n",
    "import seaborn as sns"
   ]
  },
  {
   "cell_type": "code",
   "execution_count": 34,
   "id": "b19b2e31",
   "metadata": {},
   "outputs": [
    {
     "data": {
      "text/plain": [
       "Text(33.0, 0.5, 'Actual')"
      ]
     },
     "execution_count": 34,
     "metadata": {},
     "output_type": "execute_result"
    },
    {
     "data": {
      "image/png": "[encoded data removed]",
      "text/plain": [
       "<Figure size 432x288 with 2 Axes>"
      ]
     },
     "metadata": {
      "needs_background": "light"
     },
     "output_type": "display_data"
    }
   ],
   "source": [
    "# creating a graph out of confusion matrix\n",
    "sns.heatmap(cm, annot = True, fmt = 'd')\n",
    "plt.xlabel('Predicted')\n",
    "plt.ylabel('Actual')"
   ]
  },
  {
   "cell_type": "code",
   "execution_count": 35,
   "id": "e2d3a9e9",
   "metadata": {},
   "outputs": [
    {
     "name": "stdout",
     "output_type": "stream",
     "text": [
      "              precision    recall  f1-score   support\n",
      "\n",
      "           0       0.95      0.88      0.91       187\n",
      "           1       0.89      0.95      0.92       187\n",
      "\n",
      "    accuracy                           0.92       374\n",
      "   macro avg       0.92      0.92      0.92       374\n",
      "weighted avg       0.92      0.92      0.92       374\n",
      "\n"
     ]
    }
   ],
   "source": [
    "# printing classification report\n",
    "print(classification_report(y_test , y_pred))"
   ]
  },
  {
   "cell_type": "code",
   "execution_count": 36,
   "id": "6c2ac0b7",
   "metadata": {},
   "outputs": [],
   "source": [
    "predict_text = [\n",
    "                # Spam\n",
    "                'We’d all like to get a $10,000 deposit on our bank accounts out of the blue, but winning a prize—especially if you’ve never entered a contest', \n",
    "                'Netflix is sending you a refund of $12.99. Please reply with your bank account and routing number to verify and get your refund', \n",
    "                'Your account is temporarily frozen. Please log in to to secure your account ', \n",
    "                #ham\n",
    "                'The article was published on 18th August itself',\n",
    "                'Although we are unable to give you an exact time-frame at the moment, I would request you to stay tuned for any updates.',\n",
    "                'The image you sent is a UI bug, I can check that your article is marked as regular and is not in the monetization program.'\n",
    "]"
   ]
  },
  {
   "cell_type": "code",
   "execution_count": 37,
   "id": "b68ae13c",
   "metadata": {},
   "outputs": [],
   "source": [
    "test_results = model.predict(predict_text)"
   ]
  },
  {
   "cell_type": "code",
   "execution_count": 38,
   "id": "71f5b715",
   "metadata": {},
   "outputs": [],
   "source": [
    "output = np.where(test_results>0.5,'spam', 'ham')"
   ]
  },
  {
   "cell_type": "code",
   "execution_count": 39,
   "id": "4c72e85e",
   "metadata": {},
   "outputs": [
    {
     "data": {
      "text/plain": [
       "array([['spam'],\n",
       "       ['spam'],\n",
       "       ['spam'],\n",
       "       ['ham'],\n",
       "       ['spam'],\n",
       "       ['spam']], dtype='<U4')"
      ]
     },
     "execution_count": 39,
     "metadata": {},
     "output_type": "execute_result"
    }
   ],
   "source": [
    "output"
   ]
  },
  {
   "cell_type": "code",
   "execution_count": null,
   "id": "d40437ff",
   "metadata": {},
   "outputs": [],
   "source": []
  }
 ],
 "metadata": {
  "kernelspec": {
   "display_name": "Python 3 (ipykernel)",
   "language": "python",
   "name": "python3"
  },
  "language_info": {
   "codemirror_mode": {
    "name": "ipython",
    "version": 3
   },
   "file_extension": ".py",
   "mimetype": "text/x-python",
   "name": "python",
   "nbconvert_exporter": "python",
   "pygments_lexer": "ipython3",
   "version": "3.9.7"
  }
 },
 "nbformat": 4,
 "nbformat_minor": 5
}
